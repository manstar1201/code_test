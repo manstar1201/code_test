{
 "cells": [
  {
   "cell_type": "markdown",
   "id": "72505b71",
   "metadata": {},
   "source": [
    "## Generator"
   ]
  },
  {
   "cell_type": "code",
   "execution_count": 5,
   "id": "4f184f79",
   "metadata": {},
   "outputs": [],
   "source": [
    "def make_number():\n",
    "    n = 0\n",
    "    while True:\n",
    "        n += 1\n",
    "        yield n"
   ]
  },
  {
   "cell_type": "code",
   "execution_count": 6,
   "id": "e81e9aa9",
   "metadata": {},
   "outputs": [
    {
     "data": {
      "text/plain": [
       "<generator object make_number at 0x0000021E517306D0>"
      ]
     },
     "execution_count": 6,
     "metadata": {},
     "output_type": "execute_result"
    }
   ],
   "source": [
    "make_number()"
   ]
  },
  {
   "cell_type": "code",
   "execution_count": 7,
   "id": "9daf8bf2",
   "metadata": {},
   "outputs": [
    {
     "name": "stdout",
     "output_type": "stream",
     "text": [
      "1\n",
      "2\n",
      "3\n",
      "4\n",
      "5\n",
      "6\n",
      "7\n",
      "8\n",
      "9\n"
     ]
    }
   ],
   "source": [
    "g = make_number()\n",
    "for _ in range(1,10):\n",
    "    print(next(g))"
   ]
  },
  {
   "cell_type": "markdown",
   "id": "9b29da7b",
   "metadata": {},
   "source": [
    "## Enumerate"
   ]
  },
  {
   "cell_type": "code",
   "execution_count": 10,
   "id": "76993694",
   "metadata": {},
   "outputs": [
    {
     "name": "stdout",
     "output_type": "stream",
     "text": [
      "0 1\t1 2\t2 3\t3 4\t4 5\t5 6\t6 7\t7 8\t8 9\t"
     ]
    }
   ],
   "source": [
    "a = list(range(1,10))\n",
    "for i, j in enumerate(a):\n",
    "    print(i, j, end = '\\t')"
   ]
  },
  {
   "cell_type": "markdown",
   "id": "48503441",
   "metadata": {},
   "source": [
    "## Quetient + remainder function: divmod(m, n)"
   ]
  },
  {
   "cell_type": "code",
   "execution_count": 12,
   "id": "cd5ad10c",
   "metadata": {},
   "outputs": [
    {
     "name": "stdout",
     "output_type": "stream",
     "text": [
      "a = 1 b =  2 c = (1, 2)\n"
     ]
    }
   ],
   "source": [
    "a = 5 // 3\n",
    "b = 5 % 3\n",
    "c = divmod(5, 3)\n",
    "print('a =', a,'b = ', b, 'c =', c)"
   ]
  },
  {
   "cell_type": "markdown",
   "id": "2f22fb54",
   "metadata": {},
   "source": [
    "## list insert(idx, val) , remove(val)"
   ]
  },
  {
   "cell_type": "code",
   "execution_count": 13,
   "id": "a5b20278",
   "metadata": {},
   "outputs": [
    {
     "name": "stdout",
     "output_type": "stream",
     "text": [
      "['a', 'b', 'c', 'f', 'd', 'e']\n",
      "['a', 'b', 'c', 'f', 'd']\n"
     ]
    }
   ],
   "source": [
    "a = ['a','b','c','d','e']\n",
    "a.insert(3, 'f')\n",
    "print(a)\n",
    "a.remove('e')\n",
    "print(a)"
   ]
  },
  {
   "cell_type": "markdown",
   "id": "193b93f8",
   "metadata": {},
   "source": [
    "## Collection module \n",
    "### defaultdict : key에 값이 할당 되어 있지 않아도 잠재적으로 default값을 가지고 있는 dict"
   ]
  },
  {
   "cell_type": "code",
   "execution_count": 14,
   "id": "59dc5d61",
   "metadata": {},
   "outputs": [
    {
     "name": "stdout",
     "output_type": "stream",
     "text": [
      "defaultdict(<class 'int'>, {'A': 5, 'B': 6})\n",
      "defaultdict(<class 'int'>, {'A': 5, 'B': 6, 'C': 1})\n"
     ]
    }
   ],
   "source": [
    "from collections import defaultdict\n",
    "a = defaultdict(int)\n",
    "a['A'] = 5 # 값 할당\n",
    "a['B'] = 6\n",
    "print(a)\n",
    "a['C'] += 1 # 'C'에 value가 할당되어 있지 않더라도 잠재적으로 0이라는 default를 가지고 있기 때문에 연산 가능\n",
    "print(a)"
   ]
  },
  {
   "cell_type": "markdown",
   "id": "d12b30a0",
   "metadata": {},
   "source": [
    "### Counter: item의 개수를 {'item name' : 'the number of item\"}의 dict로 반환"
   ]
  },
  {
   "cell_type": "code",
   "execution_count": 9,
   "id": "40b9c64f",
   "metadata": {},
   "outputs": [
    {
     "name": "stdout",
     "output_type": "stream",
     "text": [
      "Counter({8: 5, 2: 3, 3: 2, 1: 1, 4: 1, 5: 1, 6: 1, 7: 1, 10: 1})\n",
      "8\n"
     ]
    }
   ],
   "source": [
    "from collections import Counter\n",
    "a = [1,2,3,4,3,2,2,5,6,7,8,8,8,8,8,10]\n",
    "b = Counter(a)\n",
    "print(b)\n",
    "print(b.most_common(1)[0][0]) # 가장 빈도수가 높은 key를 꺼내 줄 수 있음"
   ]
  },
  {
   "cell_type": "markdown",
   "id": "57c1ce58",
   "metadata": {},
   "source": [
    "## "
   ]
  },
  {
   "cell_type": "markdown",
   "id": "d4e9a77f",
   "metadata": {},
   "source": [
    "## 유효한 펠린드롬 https://leetcode.com/problems/valid-palindrome/"
   ]
  },
  {
   "cell_type": "code",
   "execution_count": 18,
   "id": "24f87109",
   "metadata": {},
   "outputs": [],
   "source": [
    "import re\n",
    "def isPalindrome(self, s: str) -> bool:\n",
    "    \n",
    "    match_list = re.findall('[a-zA-Z0-9]+', s)\n",
    "    s = ''.join(match_list)\n",
    "    list_s = list(s.lower())\n",
    "    \n",
    "    while list_s:\n",
    "        if len(list_s) == 1:\n",
    "            return True\n",
    "        elif list_s[0] == list_s[-1]:\n",
    "            list_s.pop(0)\n",
    "            list_s.pop(-1)\n",
    "            continue\n",
    "        else:\n",
    "            return False\n",
    "        \n",
    "    return True"
   ]
  },
  {
   "cell_type": "code",
   "execution_count": 19,
   "id": "eacd4a14",
   "metadata": {},
   "outputs": [],
   "source": [
    "from collections import deque\n",
    "def isPalindrome(self, s: str):\n",
    "    Deque = deque()\n",
    "    \n",
    "    for char in s:\n",
    "        if char.isalnum():\n",
    "            Deque.append(char.lower())\n",
    "            \n",
    "    while len(Deque) > 1:\n",
    "        if Deque.popleft() != Deque.pop():\n",
    "            return False\n",
    "        \n",
    "    return True"
   ]
  },
  {
   "cell_type": "code",
   "execution_count": 20,
   "id": "bfaec55e",
   "metadata": {},
   "outputs": [],
   "source": [
    "def isPalindrome(self, s: str):\n",
    "    s = s.lower()\n",
    "    \n",
    "    s = re.sub('[^a-z0-9]', '', s)\n",
    "    \n",
    "    return s == s[::-1]"
   ]
  },
  {
   "cell_type": "markdown",
   "id": "a1ca25c3",
   "metadata": {},
   "source": [
    "## 로그 파일 재정렬 https://leetcode.com/problems/reorder-data-in-log-files/"
   ]
  },
  {
   "cell_type": "code",
   "execution_count": 2,
   "id": "cc59e0aa",
   "metadata": {},
   "outputs": [],
   "source": [
    "def reorderLogFiles(self, logs):\n",
    "        \n",
    "    letters, digit = [], []\n",
    "        \n",
    "    for log in logs:\n",
    "        if log.split()[1].isdigit():\n",
    "            digit.append(log)\n",
    "        else:\n",
    "            letters.append(log)\n",
    "        \n",
    "    letters.sort(key= lambda x: (x.split()[1:], x.split()[0]))\n",
    "        \n",
    "    return letters + digit"
   ]
  },
  {
   "cell_type": "markdown",
   "id": "e8b36943",
   "metadata": {},
   "source": [
    "## 가장 흔한 단어 https://leetcode.com/problems/most-common-word/"
   ]
  },
  {
   "cell_type": "code",
   "execution_count": 13,
   "id": "0225c6b2",
   "metadata": {},
   "outputs": [],
   "source": [
    "import re\n",
    "from collections import Counter\n",
    "\n",
    "def mostCommonWord(self, paragraph: str, banned: list):\n",
    "        words = [word for word in re.sub(r'[^\\w]', ' ',paragraph).lower().split() if word not in banned]\n",
    "        \n",
    "        counts = Counter(words)\n",
    "        return counts.most_common(1)[0][0]"
   ]
  },
  {
   "cell_type": "markdown",
   "id": "70b17b7a",
   "metadata": {},
   "source": [
    "## 그룹 애너그램 https://leetcode.com/problems/group-anagrams/"
   ]
  },
  {
   "cell_type": "code",
   "execution_count": 19,
   "id": "3c9ffea7",
   "metadata": {},
   "outputs": [],
   "source": [
    "from collections import defaultdict\n",
    "def groupAnagrams(self, strs):\n",
    "    container = defaultdict(list)\n",
    "    \n",
    "    for item in strs:\n",
    "        container[''.join(sorted(item))].append(item)\n",
    "        \n",
    "    return list(container.values())"
   ]
  },
  {
   "cell_type": "markdown",
   "id": "08a78ea2",
   "metadata": {},
   "source": [
    "## 가장 긴 팰린드롬 부분 문자열 https://leetcode.com/problems/longest-palindromic-substring/"
   ]
  },
  {
   "cell_type": "code",
   "execution_count": 21,
   "id": "3b091ccc",
   "metadata": {},
   "outputs": [],
   "source": [
    "def longestPalindrome(self, s: str):\n",
    "    \n",
    "    def expand(left: int, right: int):\n",
    "        while (left >= 0) and (right < len(s)) and (s[left] == s[right]):\n",
    "            left -= 1\n",
    "            rigth += 1\n",
    "        return s[left + 1:right]\n",
    "    \n",
    "    if (len(s) < 2) or (s == s[::-1]):\n",
    "        return s\n",
    "    \n",
    "    result = ''\n",
    "    \n",
    "    for i in range(len(s)-1):\n",
    "        result = max(result, expand(i, i+1), expand(i, i+2), key = len)\n",
    "        \n",
    "    return result"
   ]
  },
  {
   "cell_type": "markdown",
   "id": "118bbf87",
   "metadata": {},
   "source": [
    "## 두 수의 합 https://leetcode.com/problems/two-sum/"
   ]
  },
  {
   "cell_type": "code",
   "execution_count": 2,
   "id": "e69b9b15",
   "metadata": {},
   "outputs": [],
   "source": [
    "def twoSum(self, nums, target: int):\n",
    "    result = []\n",
    "    for idx, val in enumerate(nums):\n",
    "        if target - val in nums[idx+1:]:\n",
    "            result.append(idx)\n",
    "            result.append(nums[idx+1:].index(target - val) + idx + 1)\n",
    "    return result"
   ]
  },
  {
   "cell_type": "code",
   "execution_count": 1,
   "id": "90d19fba",
   "metadata": {},
   "outputs": [],
   "source": [
    "def twoSum(self, nums, target: int):\n",
    "    nums_dict = {}\n",
    "    for idx, val in enumerate(nums):\n",
    "        if target - val in nums_dict:\n",
    "            return [idx, nums_dict[target - val]]\n",
    "        nums_dict[val] = idx"
   ]
  },
  {
   "cell_type": "markdown",
   "id": "aaf0f668",
   "metadata": {},
   "source": [
    "## 빗물 트래핑 https://leetcode.com/problems/trapping-rain-water/"
   ]
  },
  {
   "cell_type": "code",
   "execution_count": 10,
   "id": "4394d2b1",
   "metadata": {},
   "outputs": [],
   "source": [
    "def trap(self, height):\n",
    "    if not height:\n",
    "        return 0\n",
    "        \n",
    "    left, right = 0, len(height) - 1\n",
    "    l_max, r_max = height[left], height[right]\n",
    "    result = 0\n",
    "        \n",
    "    while left < right:\n",
    "        if l_max < r_max:\n",
    "            left += 1\n",
    "            l_max = max(l_max, height[left])\n",
    "            result += l_max - height[left]\n",
    "        else:\n",
    "            right -= 1\n",
    "            r_max = max(r_max, height[right])\n",
    "            result += r_max - height[right]\n",
    "                \n",
    "    return result"
   ]
  },
  {
   "cell_type": "markdown",
   "id": "5329f458",
   "metadata": {},
   "source": [
    "## 3Sum https://leetcode.com/problems/3sum/"
   ]
  },
  {
   "cell_type": "code",
   "execution_count": 3,
   "id": "1ca1bdc1",
   "metadata": {},
   "outputs": [],
   "source": [
    "def threeSum(self, nums):\n",
    "    result = []\n",
    "    nums.sort()\n",
    "        \n",
    "    for i in range(len(nums)-2):\n",
    "            \n",
    "        if (i > 0) and (nums[i] == nums[i-1]):\n",
    "            continue\n",
    "        \n",
    "        left, right = i + 1, len(nums) - 1\n",
    "        \n",
    "        while left < right:\n",
    "            sums = nums[i] + nums[left] + nums[right]\n",
    "            if sums < 0:\n",
    "                left += 1\n",
    "            elif sums > 0:\n",
    "                right -= 1\n",
    "            else:\n",
    "                result.append([nums[i], nums[left], nums[right]])\n",
    "                \n",
    "                while (left < right) and (nums[left] == nums[left + 1]):\n",
    "                    left += 1\n",
    "                while (left < right) and (nums[right] == nums[right - 1]):\n",
    "                    right -= 1\n",
    "                    \n",
    "                left += 1\n",
    "                right -= 1\n",
    "                \n",
    "    return result"
   ]
  },
  {
   "cell_type": "markdown",
   "id": "4fe6a02c",
   "metadata": {},
   "source": [
    "## 배열 파티션 1 https://leetcode.com/problems/array-partition-i/"
   ]
  },
  {
   "cell_type": "code",
   "execution_count": 4,
   "id": "fd928388",
   "metadata": {},
   "outputs": [],
   "source": [
    "def arrayPairSum(self, nums):\n",
    "    nums.sort()\n",
    "    result = 0\n",
    "    for i in range(len(nums)):\n",
    "        if i % 2 == 0:\n",
    "            result += nums[i]\n",
    "    return result"
   ]
  },
  {
   "cell_type": "code",
   "execution_count": 9,
   "id": "b8152d5a",
   "metadata": {},
   "outputs": [],
   "source": [
    "def arrayPairSum(nums):\n",
    "    return sum(sorted(nums)[::2])"
   ]
  },
  {
   "cell_type": "markdown",
   "id": "fbc58665",
   "metadata": {},
   "source": [
    "## 자신을 제외한 배열의 곱 https://leetcode.com/problems/product-of-array-except-self/"
   ]
  },
  {
   "cell_type": "code",
   "execution_count": 11,
   "id": "34f76e3e",
   "metadata": {},
   "outputs": [],
   "source": [
    "def productExceptSelf(self, nums):\n",
    "    out = []\n",
    "    \n",
    "    p = 1\n",
    "    for i in range(len(nums)):\n",
    "        out.append(p)\n",
    "        p = p * nums[i]\n",
    "        \n",
    "    p = 1\n",
    "    for i in range(len(nums)-1, -1, -1):\n",
    "        out[i] = out[i] * p\n",
    "        p = p * nums[i]\n",
    "        \n",
    "    return out"
   ]
  },
  {
   "cell_type": "markdown",
   "id": "41b50eb5",
   "metadata": {},
   "source": [
    "## 주식을 사고팔기 가장 좋은 시점 https://leetcode.com/problems/best-time-to-buy-and-sell-stock/"
   ]
  },
  {
   "cell_type": "code",
   "execution_count": 13,
   "id": "8dd0b22a",
   "metadata": {},
   "outputs": [],
   "source": [
    "import sys\n",
    "\n",
    "class Solution:\n",
    "    def maxProfit(self, prices):\n",
    "        profit = 0\n",
    "        min_price = sys.maxsize\n",
    "        \n",
    "        for price in prices:\n",
    "            min_price = min(min_price, price)\n",
    "            profit = max(profit, price - min_price)\n",
    "            \n",
    "        return profit"
   ]
  },
  {
   "cell_type": "markdown",
   "id": "8ec3af1e",
   "metadata": {},
   "source": [
    "## 팰린드롬 연결 리스트 https://leetcode.com/problems/palindrome-linked-list/"
   ]
  },
  {
   "cell_type": "code",
   "execution_count": 1,
   "id": "46b990fc",
   "metadata": {},
   "outputs": [],
   "source": [
    "def isPalindrome(self, head):\n",
    "    rev = None\n",
    "    slow = fast = head\n",
    "    while fast and fast.next:\n",
    "        fast = fast.next.next\n",
    "        rev, rev.next, slow = slow, rev, slow.next\n",
    "    if fast:\n",
    "        slow = slow.next\n",
    "            \n",
    "    while rev and rev.val == slow.val:\n",
    "        slow, rev = slow.next, rev.next\n",
    "    return not rev"
   ]
  },
  {
   "cell_type": "markdown",
   "id": "00f83a8a",
   "metadata": {},
   "source": [
    "## 두 정렬 리스트의 병합 https://leetcode.com/problems/merge-two-sorted-lists/"
   ]
  },
  {
   "cell_type": "code",
   "execution_count": 1,
   "id": "4bb6c89c",
   "metadata": {},
   "outputs": [],
   "source": [
    "def mergeTwoLists(self, list1, list2):\n",
    "    if (not list1) or (list2 and list1.val > list2.val):\n",
    "        list1, list2 = list1, list2\n",
    "    if list1:\n",
    "        list1.next = self.mergeTwoLists(list1.next, list2)\n",
    "    return list1"
   ]
  },
  {
   "cell_type": "code",
   "execution_count": 2,
   "id": "e444e39a",
   "metadata": {},
   "outputs": [],
   "source": [
    "class ListNode:\n",
    "    def __init__(self, val=0, next=None):\n",
    "            self.val = val\n",
    "            self.next = next\n",
    "def mergeTwoLists(self, l1, l2):\n",
    "    dummy = ListNode()\n",
    "    tail = dummy\n",
    "    \n",
    "    while l1 and l2:\n",
    "        if l1.value > l2.value:\n",
    "            tail.next = l1\n",
    "            l1 = l1.next\n",
    "        else:\n",
    "            tail.next = l2\n",
    "            l2 = l2.next\n",
    "            \n",
    "        tail = tail.next\n",
    "    \n",
    "    if l1:\n",
    "        tail.next = l1\n",
    "    elif l2:\n",
    "        tail.next = l2\n",
    "        \n",
    "    return dummy.next"
   ]
  },
  {
   "cell_type": "markdown",
   "id": "ec6b3269",
   "metadata": {},
   "source": [
    "## 역순 연결 리스트 https://leetcode.com/problems/reverse-linked-list/"
   ]
  },
  {
   "cell_type": "code",
   "execution_count": 3,
   "id": "d207f586",
   "metadata": {},
   "outputs": [],
   "source": [
    "def reverseList(self, head):\n",
    "    def reverse(curr, prev: ListNode = None):\n",
    "        if not head:\n",
    "            return prev\n",
    "        nxt, curr.next = curr.next, prev\n",
    "        return reverse(nxt, curr)\n",
    "    return reverse(head)"
   ]
  },
  {
   "cell_type": "code",
   "execution_count": 5,
   "id": "138cc04c",
   "metadata": {},
   "outputs": [],
   "source": [
    "class Solution:\n",
    "    def reverseList(self, head):\n",
    "        prev, curr = None, head\n",
    "        \n",
    "        while curr:\n",
    "            nxt, curr.next = curr.next, prev\n",
    "            prev, curr = curr, nxt\n",
    "            \n",
    "        return prev"
   ]
  },
  {
   "cell_type": "markdown",
   "id": "e1a75b04",
   "metadata": {},
   "source": [
    "## 두 수의 덧셈 https://leetcode.com/problems/add-two-numbers/"
   ]
  },
  {
   "cell_type": "code",
   "execution_count": 7,
   "id": "d60459f8",
   "metadata": {},
   "outputs": [],
   "source": [
    "def addTwoNumbers(l1, l2):\n",
    "    dummy = ListNode()\n",
    "    tail = dummy\n",
    "    \n",
    "    carry = 0\n",
    "    \n",
    "    while l1 or l2 or carry:\n",
    "        summ = 0 \n",
    "        if l1:\n",
    "            summ += l1.val\n",
    "            l1 = l1.next\n",
    "        elif l2:\n",
    "            summ += l2.val\n",
    "            l2 = l2.next\n",
    "        \n",
    "        carry, value = divmod(summ + carry, 10)\n",
    "        tail.next = ListNode(value)\n",
    "        tail = tail.next\n",
    "    \n",
    "    return dummy.next"
   ]
  },
  {
   "cell_type": "markdown",
   "id": "7c7cf927",
   "metadata": {},
   "source": [
    "## 페어의 노드 스왑 https://leetcode.com/problems/swap-nodes-in-pairs/"
   ]
  },
  {
   "cell_type": "code",
   "execution_count": 2,
   "id": "a964e8c6",
   "metadata": {},
   "outputs": [],
   "source": [
    "def swapPairs(self, head):\n",
    "    dummy = ListNode(0, head)\n",
    "    prev, curr = dummy, head\n",
    "        \n",
    "    while curr and curr.next:\n",
    "        #save ptrs\n",
    "        nextpair = curr.next.next\n",
    "        second = curr.next\n",
    "            \n",
    "        #swap nodes\n",
    "        second.next = curr\n",
    "        curr.next = nextpair\n",
    "        prev.next = second\n",
    "            \n",
    "        #change ptrs\n",
    "        prev = curr\n",
    "        curr = nextpair\n",
    "        \n",
    "    return dummy.next"
   ]
  },
  {
   "cell_type": "markdown",
   "id": "38020a43",
   "metadata": {},
   "source": [
    "## 홀짝 연결 리스트 https://leetcode.com/problems/odd-even-linked-list/"
   ]
  },
  {
   "cell_type": "code",
   "execution_count": 1,
   "id": "cd5b754c",
   "metadata": {},
   "outputs": [],
   "source": [
    "def oddEvenList(self, head):\n",
    "    #head의 값을 전체 복사\n",
    "    odd = head\n",
    "    #head.next의 값을 전체 복사\n",
    "    even = head.next\n",
    "    #head.next의 값을 전체 복사 because 나중에 odd 뒤에 붙이기 위해\n",
    "    even_head = head.next\n",
    "    \n",
    "    while even and even.next:\n",
    "        #odd의 다음 값을 정해주는 일 = head를 바꾸는 일\n",
    "        #even의 다음 값을 정해주는 일 = head.next를 바꾸는 일\n",
    "        #head.next와 head는 서로 다른 참조임\n",
    "        odd.next, even.next = odd.next.next, even.next.next\n",
    "        odd, even = odd.next, even.next\n",
    "        \n",
    "    odd.next = even_head\n",
    "    return head"
   ]
  },
  {
   "cell_type": "markdown",
   "id": "7425813d",
   "metadata": {},
   "source": [
    "## 역순 연결 리스트 2 https://leetcode.com/problems/reverse-linked-list-ii/"
   ]
  },
  {
   "cell_type": "code",
   "execution_count": 2,
   "id": "9f9374ad",
   "metadata": {},
   "outputs": [],
   "source": [
    "def reverseBetween(self, head, left: int, right: int):\n",
    "    dummy = ListNode(0, head)\n",
    "    \n",
    "    ## dummy, head를 제외한 모두 다 pointer의 개념으로 접근해야 이해하기 쉬움!!!!\n",
    "    \n",
    "    leftprev, cur = dummy, head\n",
    "    \n",
    "    for _ in range(left - 1):\n",
    "        leftprev, cur = leftprev.next, cur.next\n",
    "    \n",
    "    prev = None\n",
    "    \n",
    "    for _ in range(right - left + 1):\n",
    "        nxt = cur.next\n",
    "        cur.next = prev\n",
    "        prev, cur = cur, nxt\n",
    "\n",
    "    leftprev.next.next = cur\n",
    "    leftprev.next = prev\n",
    "    \n",
    "    return dummy.next"
   ]
  },
  {
   "cell_type": "markdown",
   "id": "bd47c121",
   "metadata": {},
   "source": [
    "## 유효한 괄호 https://leetcode.com/problems/valid-parentheses/"
   ]
  },
  {
   "cell_type": "code",
   "execution_count": 12,
   "id": "414915ec",
   "metadata": {},
   "outputs": [],
   "source": [
    "def isValid(s: str):\n",
    "    stack = []\n",
    "    mapping = {')' : '(', ']' : '[', '}' : '{'}\n",
    "    \n",
    "    for c in s:\n",
    "        # dict 구조에서는 key값을 in 으로 판단 가능\n",
    "        if c in mapping:\n",
    "            if stack and stack[-1] == mapping[c]:\n",
    "                stack.pop()\n",
    "            else:\n",
    "                return False\n",
    "        else:\n",
    "            stack.append(c)\n",
    "        \n",
    "    return True if not stack else False"
   ]
  },
  {
   "cell_type": "markdown",
   "id": "b2fa6134",
   "metadata": {},
   "source": [
    "## 중복 문자 제거 https://leetcode.com/problems/remove-duplicate-letters/"
   ]
  },
  {
   "cell_type": "code",
   "execution_count": 44,
   "id": "633c7b38",
   "metadata": {},
   "outputs": [],
   "source": [
    "def removeDuplicateLetters(s: str):\n",
    "    stack = []\n",
    "    \n",
    "    for idx, c in enumerate(s):\n",
    "        if not stack:\n",
    "            stack.append(c)\n",
    "            continue\n",
    "        \n",
    "        elif c in stack:\n",
    "            continue\n",
    "        \n",
    "        while stack and (stack[-1] in s[idx:]) and (stack[-1] > c):\n",
    "            stack.pop()\n",
    "        \n",
    "        stack.append(c)\n",
    "        \n",
    "    return ''.join(stack)"
   ]
  },
  {
   "cell_type": "markdown",
   "id": "a22113b5",
   "metadata": {},
   "source": [
    "## 일일 온도 https://leetcode.com/problems/daily-temperatures/"
   ]
  },
  {
   "cell_type": "code",
   "execution_count": 1,
   "id": "c64535dd",
   "metadata": {},
   "outputs": [],
   "source": [
    "def dailyTemperatures(temperatures: list):\n",
    "    # Indexing을 위해 미리 temperatures 길이만큼의 리스트를 만들어 둠\n",
    "    answer = [0] * len(temperatures)\n",
    "    \n",
    "    # temperature의 Index를 저장하기 위한 stack\n",
    "    stack = []\n",
    "    \n",
    "    for idx, temperature in enumerate(temperatures):\n",
    "        \n",
    "        while stack and (temperature > temperatures[stack[-1]]):\n",
    "            last_temp_idx = stack.pop()\n",
    "            answer[last_temp_idx] = idx - last_temp_idx\n",
    "            \n",
    "        stack.append(idx)\n",
    "    \n",
    "    return answer"
   ]
  },
  {
   "cell_type": "markdown",
   "id": "68d42ee8",
   "metadata": {},
   "source": [
    "## k개 정렬 리스트 병합 https://leetcode.com/problems/merge-k-sorted-lists/"
   ]
  },
  {
   "cell_type": "code",
   "execution_count": 3,
   "id": "49f97d78",
   "metadata": {},
   "outputs": [],
   "source": [
    "import heapq\n",
    "class Solution:\n",
    "    def mergeKLists(self, lists):\n",
    "        dummy = ListNode()\n",
    "        tail = dummy\n",
    "        \n",
    "        heap = []\n",
    "        for i in range(len(lists)):\n",
    "            if lists[i]:\n",
    "                heapq.heappush(heap, (lists[i].val, i, lists[i]))\n",
    "                # i index는 사용하지는 않지만 중복처리를 위해 씀\n",
    "                # list[i].val은 root만 가져옴\n",
    "        while heap:\n",
    "            node = heapq.heappop(heap)\n",
    "            #어차피 heap에 저장하는 순간 min heap으로 정렬이 된 상태기 때문에 pop만 하면 됨\n",
    "            idx = node[1]\n",
    "            tail.next = node[2]\n",
    "            \n",
    "            tail = tail.next\n",
    "            \n",
    "            if tail.next:\n",
    "                heapq.heappush(heap, (tail.next.val, idx, tail.next))\n",
    "                #맨 앞 node를 꺼냈으면 그 다음 연결 리스트는 다시 heap에 root로 저장하면 됨\n",
    "            \n",
    "        return dummy.next"
   ]
  },
  {
   "cell_type": "markdown",
   "id": "e7fc47fe",
   "metadata": {},
   "source": [
    "## 해시맵 디자인 https://leetcode.com/problems/design-hashmap/submissions/"
   ]
  },
  {
   "cell_type": "code",
   "execution_count": 19,
   "id": "bfe9234d",
   "metadata": {},
   "outputs": [],
   "source": [
    "class MyHashMap:\n",
    "\n",
    "    def __init__(self):\n",
    "        self.hash = [-1 for _ in range(1000001)]\n",
    "\n",
    "    def put(self, key: int, value: int) -> None:\n",
    "        self.hash[key] = value\n",
    "        return\n",
    "        \n",
    "\n",
    "    def get(self, key: int) -> int:\n",
    "        return self.hash[key]\n",
    "    \n",
    "    def remove(self, key: int) -> None:\n",
    "        self.hash[key] = -1\n",
    "        return"
   ]
  },
  {
   "cell_type": "code",
   "execution_count": null,
   "id": "7c825192",
   "metadata": {},
   "outputs": [],
   "source": []
  }
 ],
 "metadata": {
  "kernelspec": {
   "display_name": "Python 3 (ipykernel)",
   "language": "python",
   "name": "python3"
  },
  "language_info": {
   "codemirror_mode": {
    "name": "ipython",
    "version": 3
   },
   "file_extension": ".py",
   "mimetype": "text/x-python",
   "name": "python",
   "nbconvert_exporter": "python",
   "pygments_lexer": "ipython3",
   "version": "3.9.7"
  }
 },
 "nbformat": 4,
 "nbformat_minor": 5
}
