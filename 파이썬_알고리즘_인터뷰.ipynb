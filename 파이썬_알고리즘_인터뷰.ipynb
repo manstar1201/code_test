{
 "cells": [
  {
   "cell_type": "markdown",
   "id": "72505b71",
   "metadata": {},
   "source": [
    "## Generator"
   ]
  },
  {
   "cell_type": "code",
   "execution_count": 5,
   "id": "4f184f79",
   "metadata": {},
   "outputs": [],
   "source": [
    "def make_number():\n",
    "    n = 0\n",
    "    while True:\n",
    "        n += 1\n",
    "        yield n"
   ]
  },
  {
   "cell_type": "code",
   "execution_count": 6,
   "id": "e81e9aa9",
   "metadata": {},
   "outputs": [
    {
     "data": {
      "text/plain": [
       "<generator object make_number at 0x0000021E517306D0>"
      ]
     },
     "execution_count": 6,
     "metadata": {},
     "output_type": "execute_result"
    }
   ],
   "source": [
    "make_number()"
   ]
  },
  {
   "cell_type": "code",
   "execution_count": 7,
   "id": "9daf8bf2",
   "metadata": {},
   "outputs": [
    {
     "name": "stdout",
     "output_type": "stream",
     "text": [
      "1\n",
      "2\n",
      "3\n",
      "4\n",
      "5\n",
      "6\n",
      "7\n",
      "8\n",
      "9\n"
     ]
    }
   ],
   "source": [
    "g = make_number()\n",
    "for _ in range(1,10):\n",
    "    print(next(g))"
   ]
  },
  {
   "cell_type": "markdown",
   "id": "9b29da7b",
   "metadata": {},
   "source": [
    "## Enumerate"
   ]
  },
  {
   "cell_type": "code",
   "execution_count": 10,
   "id": "76993694",
   "metadata": {},
   "outputs": [
    {
     "name": "stdout",
     "output_type": "stream",
     "text": [
      "0 1\t1 2\t2 3\t3 4\t4 5\t5 6\t6 7\t7 8\t8 9\t"
     ]
    }
   ],
   "source": [
    "a = list(range(1,10))\n",
    "for i, j in enumerate(a):\n",
    "    print(i, j, end = '\\t')"
   ]
  },
  {
   "cell_type": "markdown",
   "id": "48503441",
   "metadata": {},
   "source": [
    "## Quetient + remainder function: divmod(m, n)"
   ]
  },
  {
   "cell_type": "code",
   "execution_count": 12,
   "id": "cd5ad10c",
   "metadata": {},
   "outputs": [
    {
     "name": "stdout",
     "output_type": "stream",
     "text": [
      "a = 1 b =  2 c = (1, 2)\n"
     ]
    }
   ],
   "source": [
    "a = 5 // 3\n",
    "b = 5 % 3\n",
    "c = divmod(5, 3)\n",
    "print('a =', a,'b = ', b, 'c =', c)"
   ]
  },
  {
   "cell_type": "markdown",
   "id": "2f22fb54",
   "metadata": {},
   "source": [
    "## list insert(idx, val) , remove(val)"
   ]
  },
  {
   "cell_type": "code",
   "execution_count": 13,
   "id": "a5b20278",
   "metadata": {},
   "outputs": [
    {
     "name": "stdout",
     "output_type": "stream",
     "text": [
      "['a', 'b', 'c', 'f', 'd', 'e']\n",
      "['a', 'b', 'c', 'f', 'd']\n"
     ]
    }
   ],
   "source": [
    "a = ['a','b','c','d','e']\n",
    "a.insert(3, 'f')\n",
    "print(a)\n",
    "a.remove('e')\n",
    "print(a)"
   ]
  },
  {
   "cell_type": "markdown",
   "id": "193b93f8",
   "metadata": {},
   "source": [
    "## Collection module \n",
    "### defaultdict : key에 값이 할당 되어 있지 않아도 잠재적으로 default값을 가지고 있는 dict"
   ]
  },
  {
   "cell_type": "code",
   "execution_count": 14,
   "id": "59dc5d61",
   "metadata": {},
   "outputs": [
    {
     "name": "stdout",
     "output_type": "stream",
     "text": [
      "defaultdict(<class 'int'>, {'A': 5, 'B': 6})\n",
      "defaultdict(<class 'int'>, {'A': 5, 'B': 6, 'C': 1})\n"
     ]
    }
   ],
   "source": [
    "from collections import defaultdict\n",
    "a = defaultdict(int)\n",
    "a['A'] = 5 # 값 할당\n",
    "a['B'] = 6\n",
    "print(a)\n",
    "a['C'] += 1 # 'C'에 value가 할당되어 있지 않더라도 잠재적으로 0이라는 default를 가지고 있기 때문에 연산 가능\n",
    "print(a)"
   ]
  },
  {
   "cell_type": "markdown",
   "id": "d12b30a0",
   "metadata": {},
   "source": [
    "### Counter: item의 개수를 {'item name' : 'the number of item\"}의 dict로 반환"
   ]
  },
  {
   "cell_type": "code",
   "execution_count": 9,
   "id": "40b9c64f",
   "metadata": {},
   "outputs": [
    {
     "name": "stdout",
     "output_type": "stream",
     "text": [
      "Counter({8: 5, 2: 3, 3: 2, 1: 1, 4: 1, 5: 1, 6: 1, 7: 1, 10: 1})\n",
      "8\n"
     ]
    }
   ],
   "source": [
    "from collections import Counter\n",
    "a = [1,2,3,4,3,2,2,5,6,7,8,8,8,8,8,10]\n",
    "b = Counter(a)\n",
    "print(b)\n",
    "print(b.most_common(1)[0][0]) # 가장 빈도수가 높은 key를 꺼내 줄 수 있음"
   ]
  },
  {
   "cell_type": "markdown",
   "id": "57c1ce58",
   "metadata": {},
   "source": [
    "## "
   ]
  },
  {
   "cell_type": "markdown",
   "id": "d4e9a77f",
   "metadata": {},
   "source": [
    "## 유효한 펠린드롬 https://leetcode.com/problems/valid-palindrome/"
   ]
  },
  {
   "cell_type": "code",
   "execution_count": 18,
   "id": "24f87109",
   "metadata": {},
   "outputs": [],
   "source": [
    "import re\n",
    "def isPalindrome(self, s: str) -> bool:\n",
    "    \n",
    "    match_list = re.findall('[a-zA-Z0-9]+', s)\n",
    "    s = ''.join(match_list)\n",
    "    list_s = list(s.lower())\n",
    "    \n",
    "    while list_s:\n",
    "        if len(list_s) == 1:\n",
    "            return True\n",
    "        elif list_s[0] == list_s[-1]:\n",
    "            list_s.pop(0)\n",
    "            list_s.pop(-1)\n",
    "            continue\n",
    "        else:\n",
    "            return False\n",
    "        \n",
    "    return True"
   ]
  },
  {
   "cell_type": "code",
   "execution_count": 19,
   "id": "eacd4a14",
   "metadata": {},
   "outputs": [],
   "source": [
    "from collections import deque\n",
    "def isPalindrome(self, s: str):\n",
    "    Deque = deque()\n",
    "    \n",
    "    for char in s:\n",
    "        if char.isalnum():\n",
    "            Deque.append(char.lower())\n",
    "            \n",
    "    while len(Deque) > 1:\n",
    "        if Deque.popleft() != Deque.pop():\n",
    "            return False\n",
    "        \n",
    "    return True"
   ]
  },
  {
   "cell_type": "code",
   "execution_count": 20,
   "id": "bfaec55e",
   "metadata": {},
   "outputs": [],
   "source": [
    "def isPalindrome(self, s: str):\n",
    "    s = s.lower()\n",
    "    \n",
    "    s = re.sub('[^a-z0-9]', '', s)\n",
    "    \n",
    "    return s == s[::-1]"
   ]
  },
  {
   "cell_type": "markdown",
   "id": "a1ca25c3",
   "metadata": {},
   "source": [
    "## 로그 파일 재정렬 https://leetcode.com/problems/reorder-data-in-log-files/"
   ]
  },
  {
   "cell_type": "code",
   "execution_count": 2,
   "id": "cc59e0aa",
   "metadata": {},
   "outputs": [],
   "source": [
    "def reorderLogFiles(self, logs):\n",
    "        \n",
    "    letters, digit = [], []\n",
    "        \n",
    "    for log in logs:\n",
    "        if log.split()[1].isdigit():\n",
    "            digit.append(log)\n",
    "        else:\n",
    "            letters.append(log)\n",
    "        \n",
    "    letters.sort(key= lambda x: (x.split()[1:], x.split()[0]))\n",
    "        \n",
    "    return letters + digit"
   ]
  },
  {
   "cell_type": "markdown",
   "id": "e8b36943",
   "metadata": {},
   "source": [
    "## 가장 흔한 단어 https://leetcode.com/problems/most-common-word/"
   ]
  },
  {
   "cell_type": "code",
   "execution_count": 13,
   "id": "0225c6b2",
   "metadata": {},
   "outputs": [],
   "source": [
    "import re\n",
    "from collections import Counter\n",
    "\n",
    "def mostCommonWord(self, paragraph: str, banned: list):\n",
    "        words = [word for word in re.sub(r'[^\\w]', ' ',paragraph).lower().split() if word not in banned]\n",
    "        \n",
    "        counts = Counter(words)\n",
    "        return counts.most_common(1)[0][0]"
   ]
  },
  {
   "cell_type": "markdown",
   "id": "70b17b7a",
   "metadata": {},
   "source": [
    "## 그룹 애너그램 https://leetcode.com/problems/group-anagrams/"
   ]
  },
  {
   "cell_type": "code",
   "execution_count": 19,
   "id": "3c9ffea7",
   "metadata": {},
   "outputs": [],
   "source": [
    "from collections import defaultdict\n",
    "def groupAnagrams(self, strs):\n",
    "    container = defaultdict(list)\n",
    "    \n",
    "    for item in strs:\n",
    "        container[''.join(sorted(item))].append(item)\n",
    "        \n",
    "    return list(container.values())"
   ]
  },
  {
   "cell_type": "markdown",
   "id": "08a78ea2",
   "metadata": {},
   "source": [
    "## 가장 긴 팰린드롬 부분 문자열 https://leetcode.com/problems/longest-palindromic-substring/"
   ]
  },
  {
   "cell_type": "code",
   "execution_count": 21,
   "id": "3b091ccc",
   "metadata": {},
   "outputs": [],
   "source": [
    "def longestPalindrome(self, s: str):\n",
    "    \n",
    "    def expand(left: int, right: int):\n",
    "        while (left >= 0) and (right < len(s)) and (s[left] == s[right]):\n",
    "            left -= 1\n",
    "            rigth += 1\n",
    "        return s[left + 1:right]\n",
    "    \n",
    "    if (len(s) < 2) or (s == s[::-1]):\n",
    "        return s\n",
    "    \n",
    "    result = ''\n",
    "    \n",
    "    for i in range(len(s)-1):\n",
    "        result = max(result, expand(i, i+1), expand(i, i+2), key = len)\n",
    "        \n",
    "    return result"
   ]
  },
  {
   "cell_type": "markdown",
   "id": "118bbf87",
   "metadata": {},
   "source": [
    "## 두 수의 합 https://leetcode.com/problems/two-sum/"
   ]
  },
  {
   "cell_type": "code",
   "execution_count": 2,
   "id": "e69b9b15",
   "metadata": {},
   "outputs": [],
   "source": [
    "def twoSum(self, nums, target: int):\n",
    "    result = []\n",
    "    for idx, val in enumerate(nums):\n",
    "        if target - val in nums[idx+1:]:\n",
    "            result.append(idx)\n",
    "            result.append(nums[idx+1:].index(target - val) + idx + 1)\n",
    "    return result"
   ]
  },
  {
   "cell_type": "code",
   "execution_count": 3,
   "id": "90d19fba",
   "metadata": {},
   "outputs": [],
   "source": [
    "def twoSum(self, nums, target: int):\n",
    "    nums_dict = {}\n",
    "    for idx, val in enumerate(nums):\n",
    "        if target - val in nums_dict:\n",
    "            return [idx, nums_dict[target - val]]\n",
    "    nums_dict[val] = idx"
   ]
  },
  {
   "cell_type": "markdown",
   "id": "aaf0f668",
   "metadata": {},
   "source": [
    "## 빗물 트래핑 https://leetcode.com/problems/trapping-rain-water/"
   ]
  },
  {
   "cell_type": "code",
   "execution_count": 10,
   "id": "4394d2b1",
   "metadata": {},
   "outputs": [],
   "source": [
    "def trap(self, height):\n",
    "    if not height:\n",
    "        return 0\n",
    "        \n",
    "    left, right = 0, len(height) - 1\n",
    "    l_max, r_max = height[left], height[right]\n",
    "    result = 0\n",
    "        \n",
    "    while left < right:\n",
    "        if l_max < r_max:\n",
    "            left += 1\n",
    "            l_max = max(l_max, height[left])\n",
    "            result += l_max - height[left]\n",
    "        else:\n",
    "            right -= 1\n",
    "            r_max = max(r_max, height[right])\n",
    "            result += r_max - height[right]\n",
    "                \n",
    "    return result"
   ]
  },
  {
   "cell_type": "code",
   "execution_count": null,
   "id": "3431a2a6",
   "metadata": {},
   "outputs": [],
   "source": []
  }
 ],
 "metadata": {
  "kernelspec": {
   "display_name": "Python 3 (ipykernel)",
   "language": "python",
   "name": "python3"
  },
  "language_info": {
   "codemirror_mode": {
    "name": "ipython",
    "version": 3
   },
   "file_extension": ".py",
   "mimetype": "text/x-python",
   "name": "python",
   "nbconvert_exporter": "python",
   "pygments_lexer": "ipython3",
   "version": "3.9.7"
  }
 },
 "nbformat": 4,
 "nbformat_minor": 5
}
