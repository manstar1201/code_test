{
 "cells": [
  {
   "cell_type": "markdown",
   "id": "72505b71",
   "metadata": {},
   "source": [
    "## Generator"
   ]
  },
  {
   "cell_type": "code",
   "execution_count": 5,
   "id": "4f184f79",
   "metadata": {},
   "outputs": [],
   "source": [
    "def make_number():\n",
    "    n = 0\n",
    "    while True:\n",
    "        n += 1\n",
    "        yield n"
   ]
  },
  {
   "cell_type": "code",
   "execution_count": 6,
   "id": "e81e9aa9",
   "metadata": {},
   "outputs": [
    {
     "data": {
      "text/plain": [
       "<generator object make_number at 0x0000021E517306D0>"
      ]
     },
     "execution_count": 6,
     "metadata": {},
     "output_type": "execute_result"
    }
   ],
   "source": [
    "make_number()"
   ]
  },
  {
   "cell_type": "code",
   "execution_count": 7,
   "id": "9daf8bf2",
   "metadata": {},
   "outputs": [
    {
     "name": "stdout",
     "output_type": "stream",
     "text": [
      "1\n",
      "2\n",
      "3\n",
      "4\n",
      "5\n",
      "6\n",
      "7\n",
      "8\n",
      "9\n"
     ]
    }
   ],
   "source": [
    "g = make_number()\n",
    "for _ in range(1,10):\n",
    "    print(next(g))"
   ]
  },
  {
   "cell_type": "markdown",
   "id": "9b29da7b",
   "metadata": {},
   "source": [
    "## Enumerate"
   ]
  },
  {
   "cell_type": "code",
   "execution_count": 10,
   "id": "76993694",
   "metadata": {},
   "outputs": [
    {
     "name": "stdout",
     "output_type": "stream",
     "text": [
      "0 1\t1 2\t2 3\t3 4\t4 5\t5 6\t6 7\t7 8\t8 9\t"
     ]
    }
   ],
   "source": [
    "a = list(range(1,10))\n",
    "for i, j in enumerate(a):\n",
    "    print(i, j, end = '\\t')"
   ]
  },
  {
   "cell_type": "markdown",
   "id": "48503441",
   "metadata": {},
   "source": [
    "## Quetient + remainder function: divmod(m, n)"
   ]
  },
  {
   "cell_type": "code",
   "execution_count": 12,
   "id": "cd5ad10c",
   "metadata": {},
   "outputs": [
    {
     "name": "stdout",
     "output_type": "stream",
     "text": [
      "a = 1 b =  2 c = (1, 2)\n"
     ]
    }
   ],
   "source": [
    "a = 5 // 3\n",
    "b = 5 % 3\n",
    "c = divmod(5, 3)\n",
    "print('a =', a,'b = ', b, 'c =', c)"
   ]
  },
  {
   "cell_type": "markdown",
   "id": "2f22fb54",
   "metadata": {},
   "source": [
    "## list insert(idx, val) , remove(val)"
   ]
  },
  {
   "cell_type": "code",
   "execution_count": 13,
   "id": "a5b20278",
   "metadata": {},
   "outputs": [
    {
     "name": "stdout",
     "output_type": "stream",
     "text": [
      "['a', 'b', 'c', 'f', 'd', 'e']\n",
      "['a', 'b', 'c', 'f', 'd']\n"
     ]
    }
   ],
   "source": [
    "a = ['a','b','c','d','e']\n",
    "a.insert(3, 'f')\n",
    "print(a)\n",
    "a.remove('e')\n",
    "print(a)"
   ]
  },
  {
   "cell_type": "markdown",
   "id": "193b93f8",
   "metadata": {},
   "source": [
    "## Collection module \n",
    "### defaultdict : key에 값이 할당 되어 있지 않아도 잠재적으로 default값을 가지고 있는 dict"
   ]
  },
  {
   "cell_type": "code",
   "execution_count": 14,
   "id": "59dc5d61",
   "metadata": {},
   "outputs": [
    {
     "name": "stdout",
     "output_type": "stream",
     "text": [
      "defaultdict(<class 'int'>, {'A': 5, 'B': 6})\n",
      "defaultdict(<class 'int'>, {'A': 5, 'B': 6, 'C': 1})\n"
     ]
    }
   ],
   "source": [
    "from collections import defaultdict\n",
    "a = defaultdict(int)\n",
    "a['A'] = 5 # 값 할당\n",
    "a['B'] = 6\n",
    "print(a)\n",
    "a['C'] += 1 # 'C'에 value가 할당되어 있지 않더라도 잠재적으로 0이라는 default를 가지고 있기 때문에 연산 가능\n",
    "print(a)"
   ]
  },
  {
   "cell_type": "markdown",
   "id": "d12b30a0",
   "metadata": {},
   "source": [
    "### Counter: item의 개수를 {'item name' : 'the number of item\"}의 dict로 반환"
   ]
  },
  {
   "cell_type": "code",
   "execution_count": 9,
   "id": "40b9c64f",
   "metadata": {},
   "outputs": [
    {
     "name": "stdout",
     "output_type": "stream",
     "text": [
      "Counter({8: 5, 2: 3, 3: 2, 1: 1, 4: 1, 5: 1, 6: 1, 7: 1, 10: 1})\n",
      "8\n"
     ]
    }
   ],
   "source": [
    "from collections import Counter\n",
    "a = [1,2,3,4,3,2,2,5,6,7,8,8,8,8,8,10]\n",
    "b = Counter(a)\n",
    "print(b)\n",
    "print(b.most_common(1)[0][0]) # 가장 빈도수가 높은 key를 꺼내 줄 수 있음"
   ]
  },
  {
   "cell_type": "markdown",
   "id": "57c1ce58",
   "metadata": {},
   "source": [
    "## "
   ]
  },
  {
   "cell_type": "markdown",
   "id": "d4e9a77f",
   "metadata": {},
   "source": [
    "## 유효한 펠린드롬 https://leetcode.com/problems/valid-palindrome/"
   ]
  },
  {
   "cell_type": "code",
   "execution_count": 18,
   "id": "24f87109",
   "metadata": {},
   "outputs": [],
   "source": [
    "import re\n",
    "def isPalindrome(self, s: str) -> bool:\n",
    "    \n",
    "    match_list = re.findall('[a-zA-Z0-9]+', s)\n",
    "    s = ''.join(match_list)\n",
    "    list_s = list(s.lower())\n",
    "    \n",
    "    while list_s:\n",
    "        if len(list_s) == 1:\n",
    "            return True\n",
    "        elif list_s[0] == list_s[-1]:\n",
    "            list_s.pop(0)\n",
    "            list_s.pop(-1)\n",
    "            continue\n",
    "        else:\n",
    "            return False\n",
    "        \n",
    "    return True"
   ]
  },
  {
   "cell_type": "code",
   "execution_count": 19,
   "id": "eacd4a14",
   "metadata": {},
   "outputs": [],
   "source": [
    "from collections import deque\n",
    "def isPalindrome(self, s: str):\n",
    "    Deque = deque()\n",
    "    \n",
    "    for char in s:\n",
    "        if char.isalnum():\n",
    "            Deque.append(char.lower())\n",
    "            \n",
    "    while len(Deque) > 1:\n",
    "        if Deque.popleft() != Deque.pop():\n",
    "            return False\n",
    "        \n",
    "    return True"
   ]
  },
  {
   "cell_type": "code",
   "execution_count": 20,
   "id": "bfaec55e",
   "metadata": {},
   "outputs": [],
   "source": [
    "def isPalindrome(self, s: str):\n",
    "    s = s.lower()\n",
    "    \n",
    "    s = re.sub('[^a-z0-9]', '', s)\n",
    "    \n",
    "    return s == s[::-1]"
   ]
  },
  {
   "cell_type": "markdown",
   "id": "a1ca25c3",
   "metadata": {},
   "source": [
    "## 로그 파일 재정렬 https://leetcode.com/problems/reorder-data-in-log-files/"
   ]
  },
  {
   "cell_type": "code",
   "execution_count": 2,
   "id": "cc59e0aa",
   "metadata": {},
   "outputs": [],
   "source": [
    "def reorderLogFiles(self, logs):\n",
    "        \n",
    "    letters, digit = [], []\n",
    "        \n",
    "    for log in logs:\n",
    "        if log.split()[1].isdigit():\n",
    "            digit.append(log)\n",
    "        else:\n",
    "            letters.append(log)\n",
    "        \n",
    "    letters.sort(key= lambda x: (x.split()[1:], x.split()[0]))\n",
    "        \n",
    "    return letters + digit"
   ]
  },
  {
   "cell_type": "markdown",
   "id": "e8b36943",
   "metadata": {},
   "source": [
    "## 가장 흔한 단어 https://leetcode.com/problems/most-common-word/"
   ]
  },
  {
   "cell_type": "code",
   "execution_count": 13,
   "id": "0225c6b2",
   "metadata": {},
   "outputs": [],
   "source": [
    "import re\n",
    "from collections import Counter\n",
    "\n",
    "def mostCommonWord(self, paragraph: str, banned: list):\n",
    "        words = [word for word in re.sub(r'[^\\w]', ' ',paragraph).lower().split() if word not in banned]\n",
    "        \n",
    "        counts = Counter(words)\n",
    "        return counts.most_common(1)[0][0]"
   ]
  },
  {
   "cell_type": "markdown",
   "id": "70b17b7a",
   "metadata": {},
   "source": [
    "## 그룹 애너그램 https://leetcode.com/problems/group-anagrams/"
   ]
  },
  {
   "cell_type": "code",
   "execution_count": 19,
   "id": "3c9ffea7",
   "metadata": {},
   "outputs": [],
   "source": [
    "from collections import defaultdict\n",
    "def groupAnagrams(self, strs):\n",
    "    container = defaultdict(list)\n",
    "    \n",
    "    for item in strs:\n",
    "        container[''.join(sorted(item))].append(item)\n",
    "        \n",
    "    return list(container.values())"
   ]
  },
  {
   "cell_type": "markdown",
   "id": "08a78ea2",
   "metadata": {},
   "source": [
    "## 가장 긴 팰린드롬 부분 문자열 https://leetcode.com/problems/longest-palindromic-substring/"
   ]
  },
  {
   "cell_type": "code",
   "execution_count": 21,
   "id": "3b091ccc",
   "metadata": {},
   "outputs": [],
   "source": [
    "def longestPalindrome(self, s: str):\n",
    "    \n",
    "    def expand(left: int, right: int):\n",
    "        while (left >= 0) and (right < len(s)) and (s[left] == s[right]):\n",
    "            left -= 1\n",
    "            rigth += 1\n",
    "        return s[left + 1:right]\n",
    "    \n",
    "    if (len(s) < 2) or (s == s[::-1]):\n",
    "        return s\n",
    "    \n",
    "    result = ''\n",
    "    \n",
    "    for i in range(len(s)-1):\n",
    "        result = max(result, expand(i, i+1), expand(i, i+2), key = len)\n",
    "        \n",
    "    return result"
   ]
  },
  {
   "cell_type": "markdown",
   "id": "118bbf87",
   "metadata": {},
   "source": [
    "## 두 수의 합 https://leetcode.com/problems/two-sum/"
   ]
  },
  {
   "cell_type": "code",
   "execution_count": 2,
   "id": "e69b9b15",
   "metadata": {},
   "outputs": [],
   "source": [
    "def twoSum(self, nums, target: int):\n",
    "    result = []\n",
    "    for idx, val in enumerate(nums):\n",
    "        if target - val in nums[idx+1:]:\n",
    "            result.append(idx)\n",
    "            result.append(nums[idx+1:].index(target - val) + idx + 1)\n",
    "    return result"
   ]
  },
  {
   "cell_type": "code",
   "execution_count": 1,
   "id": "90d19fba",
   "metadata": {},
   "outputs": [],
   "source": [
    "def twoSum(self, nums, target: int):\n",
    "    nums_dict = {}\n",
    "    for idx, val in enumerate(nums):\n",
    "        if target - val in nums_dict:\n",
    "            return [idx, nums_dict[target - val]]\n",
    "        nums_dict[val] = idx"
   ]
  },
  {
   "cell_type": "markdown",
   "id": "aaf0f668",
   "metadata": {},
   "source": [
    "## 빗물 트래핑 https://leetcode.com/problems/trapping-rain-water/"
   ]
  },
  {
   "cell_type": "code",
   "execution_count": 10,
   "id": "4394d2b1",
   "metadata": {},
   "outputs": [],
   "source": [
    "def trap(self, height):\n",
    "    if not height:\n",
    "        return 0\n",
    "        \n",
    "    left, right = 0, len(height) - 1\n",
    "    l_max, r_max = height[left], height[right]\n",
    "    result = 0\n",
    "        \n",
    "    while left < right:\n",
    "        if l_max < r_max:\n",
    "            left += 1\n",
    "            l_max = max(l_max, height[left])\n",
    "            result += l_max - height[left]\n",
    "        else:\n",
    "            right -= 1\n",
    "            r_max = max(r_max, height[right])\n",
    "            result += r_max - height[right]\n",
    "                \n",
    "    return result"
   ]
  },
  {
   "cell_type": "markdown",
   "id": "5329f458",
   "metadata": {},
   "source": [
    "## 3Sum https://leetcode.com/problems/3sum/"
   ]
  },
  {
   "cell_type": "code",
   "execution_count": 3,
   "id": "1ca1bdc1",
   "metadata": {},
   "outputs": [],
   "source": [
    "def threeSum(self, nums):\n",
    "    result = []\n",
    "    nums.sort()\n",
    "        \n",
    "    for i in range(len(nums)-2):\n",
    "            \n",
    "        if (i > 0) and (nums[i] == nums[i-1]):\n",
    "            continue\n",
    "        \n",
    "        left, right = i + 1, len(nums) - 1\n",
    "        \n",
    "        while left < right:\n",
    "            sums = nums[i] + nums[left] + nums[right]\n",
    "            if sums < 0:\n",
    "                left += 1\n",
    "            elif sums > 0:\n",
    "                right -= 1\n",
    "            else:\n",
    "                result.append([nums[i], nums[left], nums[right]])\n",
    "                \n",
    "                while (left < right) and (nums[left] == nums[left + 1]):\n",
    "                    left += 1\n",
    "                while (left < right) and (nums[right] == nums[right - 1]):\n",
    "                    right -= 1\n",
    "                    \n",
    "                left += 1\n",
    "                right -= 1\n",
    "                \n",
    "    return result"
   ]
  },
  {
   "cell_type": "markdown",
   "id": "4fe6a02c",
   "metadata": {},
   "source": [
    "## 배열 파티션 1 https://leetcode.com/problems/array-partition-i/"
   ]
  },
  {
   "cell_type": "code",
   "execution_count": 4,
   "id": "fd928388",
   "metadata": {},
   "outputs": [],
   "source": [
    "def arrayPairSum(self, nums):\n",
    "    nums.sort()\n",
    "    result = 0\n",
    "    for i in range(len(nums)):\n",
    "        if i % 2 == 0:\n",
    "            result += nums[i]\n",
    "    return result"
   ]
  },
  {
   "cell_type": "code",
   "execution_count": 9,
   "id": "b8152d5a",
   "metadata": {},
   "outputs": [],
   "source": [
    "def arrayPairSum(nums):\n",
    "    return sum(sorted(nums)[::2])"
   ]
  },
  {
   "cell_type": "markdown",
   "id": "fbc58665",
   "metadata": {},
   "source": [
    "## 자신을 제외한 배열의 곱 https://leetcode.com/problems/product-of-array-except-self/"
   ]
  },
  {
   "cell_type": "code",
   "execution_count": 11,
   "id": "34f76e3e",
   "metadata": {},
   "outputs": [],
   "source": [
    "def productExceptSelf(self, nums):\n",
    "    out = []\n",
    "    \n",
    "    p = 1\n",
    "    for i in range(len(nums)):\n",
    "        out.append(p)\n",
    "        p = p * nums[i]\n",
    "        \n",
    "    p = 1\n",
    "    for i in range(len(nums)-1, -1, -1):\n",
    "        out[i] = out[i] * p\n",
    "        p = p * nums[i]\n",
    "        \n",
    "    return out"
   ]
  },
  {
   "cell_type": "markdown",
   "id": "41b50eb5",
   "metadata": {},
   "source": [
    "## 주식을 사고팔기 가장 좋은 시점 https://leetcode.com/problems/best-time-to-buy-and-sell-stock/"
   ]
  },
  {
   "cell_type": "code",
   "execution_count": 13,
   "id": "8dd0b22a",
   "metadata": {},
   "outputs": [],
   "source": [
    "import sys\n",
    "\n",
    "class Solution:\n",
    "    def maxProfit(self, prices):\n",
    "        profit = 0\n",
    "        min_price = sys.maxsize\n",
    "        \n",
    "        for price in prices:\n",
    "            min_price = min(min_price, price)\n",
    "            profit = max(profit, price - min_price)\n",
    "            \n",
    "        return profit"
   ]
  },
  {
   "cell_type": "markdown",
   "id": "8ec3af1e",
   "metadata": {},
   "source": [
    "## 팰린드롬 연결 리스트 https://leetcode.com/problems/palindrome-linked-list/"
   ]
  },
  {
   "cell_type": "code",
   "execution_count": 1,
   "id": "46b990fc",
   "metadata": {},
   "outputs": [],
   "source": [
    "def isPalindrome(self, head):\n",
    "    rev = None\n",
    "    slow = fast = head\n",
    "    while fast and fast.next:\n",
    "        fast = fast.next.next\n",
    "        rev, rev.next, slow = slow, rev, slow.next\n",
    "    if fast:\n",
    "        slow = slow.next\n",
    "            \n",
    "    while rev and rev.val == slow.val:\n",
    "        slow, rev = slow.next, rev.next\n",
    "    return not rev"
   ]
  },
  {
   "cell_type": "markdown",
   "id": "00f83a8a",
   "metadata": {},
   "source": [
    "## 두 정렬 리스트의 병합 https://leetcode.com/problems/merge-two-sorted-lists/"
   ]
  },
  {
   "cell_type": "code",
   "execution_count": 1,
   "id": "4bb6c89c",
   "metadata": {},
   "outputs": [],
   "source": [
    "def mergeTwoLists(self, list1, list2):\n",
    "    if (not list1) or (list2 and list1.val > list2.val):\n",
    "        list1, list2 = list1, list2\n",
    "    if list1:\n",
    "        list1.next = self.mergeTwoLists(list1.next, list2)\n",
    "    return list1"
   ]
  },
  {
   "cell_type": "code",
   "execution_count": 2,
   "id": "e444e39a",
   "metadata": {},
   "outputs": [],
   "source": [
    "class ListNode:\n",
    "    def __init__(self, val=0, next=None):\n",
    "            self.val = val\n",
    "            self.next = next\n",
    "def mergeTwoLists(self, l1, l2):\n",
    "    dummy = ListNode()\n",
    "    tail = dummy\n",
    "    \n",
    "    while l1 and l2:\n",
    "        if l1.value > l2.value:\n",
    "            tail.next = l1\n",
    "            l1 = l1.next\n",
    "        else:\n",
    "            tail.next = l2\n",
    "            l2 = l2.next\n",
    "            \n",
    "        tail = tail.next\n",
    "    \n",
    "    if l1:\n",
    "        tail.next = l1\n",
    "    elif l2:\n",
    "        tail.next = l2\n",
    "        \n",
    "    return dummy.next"
   ]
  },
  {
   "cell_type": "markdown",
   "id": "ec6b3269",
   "metadata": {},
   "source": [
    "## 역순 연결 리스트 https://leetcode.com/problems/reverse-linked-list/"
   ]
  },
  {
   "cell_type": "code",
   "execution_count": 3,
   "id": "d207f586",
   "metadata": {},
   "outputs": [],
   "source": [
    "def reverseList(self, head):\n",
    "    def reverse(curr, prev: ListNode = None):\n",
    "        if not head:\n",
    "            return prev\n",
    "        nxt, curr.next = curr.next, prev\n",
    "        return reverse(nxt, curr)\n",
    "    return reverse(head)"
   ]
  },
  {
   "cell_type": "code",
   "execution_count": 5,
   "id": "138cc04c",
   "metadata": {},
   "outputs": [],
   "source": [
    "class Solution:\n",
    "    def reverseList(self, head):\n",
    "        prev, curr = None, head\n",
    "        \n",
    "        while curr:\n",
    "            nxt, curr.next = curr.next, prev\n",
    "            prev, curr = curr, nxt\n",
    "            \n",
    "        return prev"
   ]
  },
  {
   "cell_type": "markdown",
   "id": "e1a75b04",
   "metadata": {},
   "source": [
    "## 두 수의 덧셈 https://leetcode.com/problems/add-two-numbers/"
   ]
  },
  {
   "cell_type": "code",
   "execution_count": 7,
   "id": "d60459f8",
   "metadata": {},
   "outputs": [],
   "source": [
    "def addTwoNumbers(l1, l2):\n",
    "    dummy = ListNode()\n",
    "    tail = dummy\n",
    "    \n",
    "    carry = 0\n",
    "    \n",
    "    while l1 or l2 or carry:\n",
    "        summ = 0 \n",
    "        if l1:\n",
    "            summ += l1.val\n",
    "            l1 = l1.next\n",
    "        elif l2:\n",
    "            summ += l2.val\n",
    "            l2 = l2.next\n",
    "        \n",
    "        carry, value = divmod(summ + carry, 10)\n",
    "        tail.next = ListNode(value)\n",
    "        tail = tail.next\n",
    "    \n",
    "    return dummy.next"
   ]
  },
  {
   "cell_type": "markdown",
   "id": "7c7cf927",
   "metadata": {},
   "source": [
    "## 페어의 노드 스왑 https://leetcode.com/problems/swap-nodes-in-pairs/"
   ]
  },
  {
   "cell_type": "code",
   "execution_count": 2,
   "id": "a964e8c6",
   "metadata": {},
   "outputs": [],
   "source": [
    "def swapPairs(self, head):\n",
    "    dummy = ListNode(0, head)\n",
    "    prev, curr = dummy, head\n",
    "        \n",
    "    while curr and curr.next:\n",
    "        #save ptrs\n",
    "        nextpair = curr.next.next\n",
    "        second = curr.next\n",
    "            \n",
    "        #swap nodes\n",
    "        second.next = curr\n",
    "        curr.next = nextpair\n",
    "        prev.next = second\n",
    "            \n",
    "        #change ptrs\n",
    "        prev = curr\n",
    "        curr = nextpair\n",
    "        \n",
    "    return dummy.next"
   ]
  },
  {
   "cell_type": "markdown",
   "id": "38020a43",
   "metadata": {},
   "source": [
    "## 홀짝 연결 리스트 https://leetcode.com/problems/odd-even-linked-list/"
   ]
  },
  {
   "cell_type": "code",
   "execution_count": 1,
   "id": "cd5b754c",
   "metadata": {},
   "outputs": [],
   "source": [
    "def oddEvenList(self, head):\n",
    "    #head의 값을 전체 복사\n",
    "    odd = head\n",
    "    #head.next의 값을 전체 복사\n",
    "    even = head.next\n",
    "    #head.next의 값을 전체 복사 because 나중에 odd 뒤에 붙이기 위해\n",
    "    even_head = head.next\n",
    "    \n",
    "    while even and even.next:\n",
    "        #odd의 다음 값을 정해주는 일 = head를 바꾸는 일\n",
    "        #even의 다음 값을 정해주는 일 = head.next를 바꾸는 일\n",
    "        #head.next와 head는 서로 다른 참조임\n",
    "        odd.next, even.next = odd.next.next, even.next.next\n",
    "        odd, even = odd.next, even.next\n",
    "        \n",
    "    odd.next = even_head\n",
    "    return head"
   ]
  },
  {
   "cell_type": "markdown",
   "id": "7425813d",
   "metadata": {},
   "source": [
    "## 역순 연결 리스트 2 https://leetcode.com/problems/reverse-linked-list-ii/"
   ]
  },
  {
   "cell_type": "code",
   "execution_count": 2,
   "id": "9f9374ad",
   "metadata": {},
   "outputs": [],
   "source": [
    "def reverseBetween(self, head, left: int, right: int):\n",
    "    dummy = ListNode(0, head)\n",
    "    \n",
    "    ## dummy, head를 제외한 모두 다 pointer의 개념으로 접근해야 이해하기 쉬움!!!!\n",
    "    \n",
    "    leftprev, cur = dummy, head\n",
    "    \n",
    "    for _ in range(left - 1):\n",
    "        leftprev, cur = leftprev.next, cur.next\n",
    "    \n",
    "    prev = None\n",
    "    \n",
    "    for _ in range(right - left + 1):\n",
    "        nxt = cur.next\n",
    "        cur.next = prev\n",
    "        prev, cur = cur, nxt\n",
    "\n",
    "    leftprev.next.next = cur\n",
    "    leftprev.next = prev\n",
    "    \n",
    "    return dummy.next"
   ]
  },
  {
   "cell_type": "markdown",
   "id": "bd47c121",
   "metadata": {},
   "source": [
    "## 유효한 괄호 https://leetcode.com/problems/valid-parentheses/"
   ]
  },
  {
   "cell_type": "code",
   "execution_count": 12,
   "id": "414915ec",
   "metadata": {},
   "outputs": [],
   "source": [
    "def isValid(s: str):\n",
    "    stack = []\n",
    "    mapping = {')' : '(', ']' : '[', '}' : '{'}\n",
    "    \n",
    "    for c in s:\n",
    "        # dict 구조에서는 key값을 in 으로 판단 가능\n",
    "        if c in mapping:\n",
    "            if stack and stack[-1] == mapping[c]:\n",
    "                stack.pop()\n",
    "            else:\n",
    "                return False\n",
    "        else:\n",
    "            stack.append(c)\n",
    "        \n",
    "    return True if not stack else False"
   ]
  },
  {
   "cell_type": "markdown",
   "id": "b2fa6134",
   "metadata": {},
   "source": [
    "## 중복 문자 제거 https://leetcode.com/problems/remove-duplicate-letters/"
   ]
  },
  {
   "cell_type": "code",
   "execution_count": 44,
   "id": "633c7b38",
   "metadata": {},
   "outputs": [],
   "source": [
    "def removeDuplicateLetters(s: str):\n",
    "    stack = []\n",
    "    \n",
    "    for idx, c in enumerate(s):\n",
    "        if not stack:\n",
    "            stack.append(c)\n",
    "            continue\n",
    "        \n",
    "        elif c in stack:\n",
    "            continue\n",
    "        \n",
    "        while stack and (stack[-1] in s[idx:]) and (stack[-1] > c):\n",
    "            stack.pop()\n",
    "        \n",
    "        stack.append(c)\n",
    "        \n",
    "    return ''.join(stack)"
   ]
  },
  {
   "cell_type": "markdown",
   "id": "a22113b5",
   "metadata": {},
   "source": [
    "## 일일 온도 https://leetcode.com/problems/daily-temperatures/"
   ]
  },
  {
   "cell_type": "code",
   "execution_count": 1,
   "id": "c64535dd",
   "metadata": {},
   "outputs": [],
   "source": [
    "def dailyTemperatures(temperatures: list):\n",
    "    # Indexing을 위해 미리 temperatures 길이만큼의 리스트를 만들어 둠\n",
    "    answer = [0] * len(temperatures)\n",
    "    \n",
    "    # temperature의 Index를 저장하기 위한 stack\n",
    "    stack = []\n",
    "    \n",
    "    for idx, temperature in enumerate(temperatures):\n",
    "        \n",
    "        while stack and (temperature > temperatures[stack[-1]]):\n",
    "            last_temp_idx = stack.pop()\n",
    "            answer[last_temp_idx] = idx - last_temp_idx\n",
    "            \n",
    "        stack.append(idx)\n",
    "    \n",
    "    return answer"
   ]
  },
  {
   "cell_type": "markdown",
   "id": "68d42ee8",
   "metadata": {},
   "source": [
    "## k개 정렬 리스트 병합 https://leetcode.com/problems/merge-k-sorted-lists/"
   ]
  },
  {
   "cell_type": "code",
   "execution_count": 3,
   "id": "49f97d78",
   "metadata": {},
   "outputs": [],
   "source": [
    "import heapq\n",
    "class Solution:\n",
    "    def mergeKLists(self, lists):\n",
    "        dummy = ListNode()\n",
    "        tail = dummy\n",
    "        \n",
    "        heap = []\n",
    "        for i in range(len(lists)):\n",
    "            if lists[i]:\n",
    "                heapq.heappush(heap, (lists[i].val, i, lists[i]))\n",
    "                # i index는 사용하지는 않지만 중복처리를 위해 씀\n",
    "                # list[i].val은 root만 가져옴\n",
    "        while heap:\n",
    "            node = heapq.heappop(heap)\n",
    "            #어차피 heap에 저장하는 순간 min heap으로 정렬이 된 상태기 때문에 pop만 하면 됨\n",
    "            idx = node[1]\n",
    "            tail.next = node[2]\n",
    "            \n",
    "            tail = tail.next\n",
    "            \n",
    "            if tail.next:\n",
    "                heapq.heappush(heap, (tail.next.val, idx, tail.next))\n",
    "                #맨 앞 node를 꺼냈으면 그 다음 연결 리스트는 다시 heap에 root로 저장하면 됨\n",
    "            \n",
    "        return dummy.next"
   ]
  },
  {
   "cell_type": "markdown",
   "id": "e7fc47fe",
   "metadata": {},
   "source": [
    "## 해시맵 디자인 https://leetcode.com/problems/design-hashmap/submissions/"
   ]
  },
  {
   "cell_type": "code",
   "execution_count": 19,
   "id": "bfe9234d",
   "metadata": {},
   "outputs": [],
   "source": [
    "class MyHashMap:\n",
    "\n",
    "    def __init__(self):\n",
    "        self.hash = [-1 for _ in range(1000001)]\n",
    "\n",
    "    def put(self, key: int, value: int) -> None:\n",
    "        self.hash[key] = value\n",
    "        return\n",
    "        \n",
    "\n",
    "    def get(self, key: int) -> int:\n",
    "        return self.hash[key]\n",
    "    \n",
    "    def remove(self, key: int) -> None:\n",
    "        self.hash[key] = -1\n",
    "        return"
   ]
  },
  {
   "cell_type": "code",
   "execution_count": 53,
   "id": "4ba1e057",
   "metadata": {},
   "outputs": [],
   "source": [
    "def solution(p):\n",
    "    answer = [0 for _ in range(len(p))]\n",
    "    \n",
    "    n = len(p)\n",
    "    i = 0\n",
    "\n",
    "    while i < n:\n",
    "        j = p.index(min(p[i:]))\n",
    "\n",
    "        if i != j:\n",
    "            p[i], p[j] = p[j], p[i]\n",
    "            answer[i] += 1\n",
    "            answer[j] += 1\n",
    "            \n",
    "        i += 1\n",
    "    \n",
    "    return answer"
   ]
  },
  {
   "cell_type": "code",
   "execution_count": null,
   "id": "d5aad685",
   "metadata": {},
   "outputs": [],
   "source": [
    "def solution(periods, payments, estimates):\n",
    "\n",
    "    answer = []\n",
    "    next_month_vip = 0\n",
    "    next_month_non_vip = 0\n",
    "\n",
    "    for i, j in enumerate(periods):\n",
    "\n",
    "        if j + 1 < 24:\n",
    "            continue\n",
    "        \n",
    "        elif j + 1 == 24:\n",
    "            if sum(payments[i][1:]) + estimates[i] >= 900000:\n",
    "                next_month_vip += 1\n",
    "                continue\n",
    "        \n",
    "        elif 25 <= j + 1 < 59:\n",
    "            if (sum(payments[i]) >= 900000) and (sum(payments[i][1:]) + estimates[i] < 900000):\n",
    "                next_month_non_vip += 1\n",
    "                continue\n",
    "            elif (sum(payments[i]) < 900000) and (sum(payments[i][1:]) + estimates[i] >= 900000):\n",
    "                next_month_vip += 1\n",
    "                continue\n",
    "        \n",
    "        elif j + 1 == 60:\n",
    "            if (sum(payments[i]) >= 900000) and (sum(payments[i][1:]) + estimates[i] < 600000):\n",
    "                next_month_non_vip += 1\n",
    "                continue\n",
    "            elif (sum(payments[i]) < 900000) and (sum(payments[i][1:]) + estimates[i] >= 600000):\n",
    "                next_month_vip += 1\n",
    "                continue\n",
    "        \n",
    "        else:\n",
    "            if (sum(payments[i]) >= 600000) and (sum(payments[i][1:]) + estimates[i] < 600000):\n",
    "                next_month_non_vip += 1\n",
    "                continue\n",
    "            elif (sum(payments[i]) < 600000) and (sum(payments[i][1:]) + estimates[i] >= 600000):\n",
    "                next_month_vip += 1\n",
    "                continue\n",
    "\n",
    "    answer = [next_month_vip, next_month_non_vip]\n",
    "\n",
    "    return answer"
   ]
  },
  {
   "cell_type": "code",
   "execution_count": null,
   "id": "7760a34a",
   "metadata": {},
   "outputs": [],
   "source": [
    "def solution(n, plans, clients):\n",
    "    answer = []\n",
    "\n",
    "    pro_data = []\n",
    "    pro_services = []\n",
    "\n",
    "    for i in plans:\n",
    "        raw = [int(j) for j in i.split()]\n",
    "        pro_data.append(raw[0])\n",
    "        pro_services.append(raw[1:])\n",
    "\n",
    "    temp_1 = []\n",
    "\n",
    "    for i, j in enumerate(pro_services):\n",
    "        pro_services[i] += temp_1\n",
    "        pro_services[i].sort()\n",
    "        temp_1 += j\n",
    "    \n",
    "    for value in clients:\n",
    "        temp_2 = 0\n",
    "        cont = [int(i) for i in value.split()]\n",
    "        wanting_service = set(cont[1:])\n",
    "        for index, service in enumerate(pro_services):\n",
    "            if wanting_service.intersection(set(service)) == wanting_service:\n",
    "                if pro_data[index] >= cont[0]:\n",
    "                    temp_2 = index + 1\n",
    "                    break\n",
    "        answer.append(temp_2)\n",
    "\n",
    "    return answer"
   ]
  },
  {
   "cell_type": "markdown",
   "id": "3919ea78",
   "metadata": {},
   "source": [
    "## 보석과 돌 https://leetcode.com/problems/jewels-and-stones/"
   ]
  },
  {
   "cell_type": "code",
   "execution_count": 10,
   "id": "482f7fe4",
   "metadata": {},
   "outputs": [],
   "source": [
    "from collections import Counter\n",
    "def numJewelsInStones(jewels: str, stones: str):\n",
    "    my_dict = Counter(stones)\n",
    "    result = 0\n",
    "    for i in jewels:\n",
    "        result += my_dict[i]\n",
    "    return result"
   ]
  },
  {
   "cell_type": "markdown",
   "id": "4f6e1497",
   "metadata": {},
   "source": [
    "## 중복 문자 없는 가장 긴 부분 문자열 https://leetcode.com/problems/longest-substring-without-repeating-characters/"
   ]
  },
  {
   "cell_type": "code",
   "execution_count": 33,
   "id": "6fa13521",
   "metadata": {},
   "outputs": [],
   "source": [
    "def lengthOfLongestSubstring(s: str):\n",
    "    max_number = 0\n",
    "    # max_number를 0으로 초기화한 다음 한 루프마다 max값과 각각의 string의 길이를 비교함\n",
    "    \n",
    "    if len(s) == 0:\n",
    "        return 0\n",
    "    # 예외처리\n",
    "    \n",
    "    for i in range(len(s)):\n",
    "        #앞에서부터 포인터 한개씩 이동 (sliding window)\n",
    "        if len(s[i:]) <= max_number:\n",
    "            break\n",
    "            #남아있는 string의 길이가 max_number보다 이미 작다면 중단\n",
    "        cont = ''\n",
    "        # 비교할 container\n",
    "        right = i\n",
    "        # 각 루프마다 한 개씩 오른쪽으로 이동할 오른쪽 포인터\n",
    "        while s[right] not in cont:\n",
    "            cont += s[right]\n",
    "            max_number = max(max_number, len(cont))\n",
    "            right += 1\n",
    "            if right == len(s):\n",
    "                break\n",
    "                # 포인터가 index를 넘어간다면 while 종료\n",
    "                \n",
    "    return max_number"
   ]
  },
  {
   "cell_type": "markdown",
   "id": "2631e09d",
   "metadata": {},
   "source": [
    "## 상위 K 빈도 요소 https://leetcode.com/problems/top-k-frequent-elements/"
   ]
  },
  {
   "cell_type": "code",
   "execution_count": 39,
   "id": "80da7d0c",
   "metadata": {},
   "outputs": [],
   "source": [
    "from collections import Counter\n",
    "def topKFrequent(nums: list, k: int):\n",
    "    return [i for i, j in Counter(nums).most_common(k)]"
   ]
  },
  {
   "cell_type": "markdown",
   "id": "e7d10458",
   "metadata": {},
   "source": [
    "## 그래프 기본\n",
    "- DFS(깊이 우선 탐색) : 재귀 or 스택"
   ]
  },
  {
   "cell_type": "markdown",
   "id": "459d3316",
   "metadata": {},
   "source": [
    "1. 재귀"
   ]
  },
  {
   "cell_type": "code",
   "execution_count": 4,
   "id": "8f6f469f",
   "metadata": {},
   "outputs": [],
   "source": [
    "def recursive_dfs(v, discovered = []):\n",
    "    # v는 시작 node\n",
    "    discovered.append(v)\n",
    "    # 기본 동작\n",
    "    for w in graph[v]:\n",
    "        if w not in discovered:\n",
    "            # w를 방문하지 않았다면 재귀\n",
    "            discovered = recursive_dfs(w, discovered)\n",
    "            # 결과를 discovered 변수에 저장해둬야 함\n",
    "    return discovered"
   ]
  },
  {
   "cell_type": "markdown",
   "id": "c6648d73",
   "metadata": {},
   "source": [
    "2. 스택"
   ]
  },
  {
   "cell_type": "code",
   "execution_count": 5,
   "id": "d12c1a7a",
   "metadata": {},
   "outputs": [],
   "source": [
    "def iteratvie_dfs(strat_v):\n",
    "    # 재귀와는 다르게 첫 시작 node만 인자로 받지 않음\n",
    "    discovered = []\n",
    "    stack = [start_v]\n",
    "    # 시작 node를 stack에 넣어놓고 시작\n",
    "    # 스택은 앞으로 방문할 리스트\n",
    "    while stack:\n",
    "        v = stack.pop()\n",
    "        # 맨 마지막 값을 먼저 불러오기 때문에 역순으로 dfs가 수행\n",
    "        if v not in discovered:\n",
    "            discovered.append(v)\n",
    "            for w in graph[v]:\n",
    "                stack.append(w)\n",
    "    return discovered"
   ]
  },
  {
   "cell_type": "markdown",
   "id": "e0e6e599",
   "metadata": {},
   "source": [
    "- BFS(넓이 우선 탐색): 재귀 구현 불가 and only queue & 반복구조"
   ]
  },
  {
   "cell_type": "markdown",
   "id": "ab1e5c1f",
   "metadata": {},
   "source": [
    "1. queue + 반복"
   ]
  },
  {
   "cell_type": "code",
   "execution_count": 6,
   "id": "6d359aff",
   "metadata": {},
   "outputs": [],
   "source": [
    "def iterative_bfs(start_v):\n",
    "    # 재귀가 아니므로 첫 시작만 인자로 받음\n",
    "    discovered = []\n",
    "    queue = [start_v]\n",
    "    # 시작 node를 queue에 넣어놓고 시작\n",
    "    # 큐는 앞으로 방문할 리스트\n",
    "    while queue:\n",
    "        v = queue.pop(0)\n",
    "        for w in graph[v]:\n",
    "            if w not in discovered:\n",
    "                discovered.append(w)\n",
    "                queue.append(w)\n",
    "                # bfs는 방문리스트에 있는지 먼저 판단한 후에 없으면 해당 node를 방문리스트에 넣고 그 node에 연결된 다른 node을 모두\n",
    "                # 방문 예정 리스트에 넣어둔 반면\n",
    "                # dfs는 해당 node에 연결된 모든 node를 먼저 돌아간 후에 각 node가 방문리스트에 있는지 판단한 다음 만약 방문 리스트에\n",
    "                # 없다면 방문리스트에 추가 후에 방문 예정 리스트에 각 node를 넣어둠\n",
    "    return discovered"
   ]
  },
  {
   "cell_type": "markdown",
   "id": "8bb6e819",
   "metadata": {},
   "source": [
    "## 섬의 개수 https://leetcode.com/problems/number-of-islands/"
   ]
  },
  {
   "cell_type": "code",
   "execution_count": 13,
   "id": "db3d8b2c",
   "metadata": {},
   "outputs": [],
   "source": [
    "def numIsland(grid: list):\n",
    "    m = len(grid)\n",
    "    n = len(grid[0])\n",
    "    \n",
    "    def recursive_dfs(x, y, visited):\n",
    "        \n",
    "        if (x < 0) or (x >= m) or (y < 0) or (y >= n):\n",
    "            return visited\n",
    "        \n",
    "        elif (grid[x][y] == \"0\") or (visited[x][y] == 1):\n",
    "            return visited\n",
    "        \n",
    "        visited[x][y] = 1\n",
    "        \n",
    "        recursive_dfs(x, y - 1, visited)\n",
    "        recursive_dfs(x, y + 1, visited)\n",
    "        recursive_dfs(x - 1, y, visited)\n",
    "        recursive_dfs(x + 1, y, visited)\n",
    "        \n",
    "    answer = 0\n",
    "    visited = [[0 for _ in range(n)] for _ in range(m)]\n",
    "    \n",
    "    for i in range(m):\n",
    "        for j in range(n):\n",
    "            if (grid[i][j] != \"0\") and (visited[i][j] != 1):\n",
    "                recursive_dfs(i, j, visited)\n",
    "                answer += 1\n",
    "            else:\n",
    "                continue\n",
    "                \n",
    "    return answer"
   ]
  },
  {
   "cell_type": "markdown",
   "id": "62ff20ba",
   "metadata": {},
   "source": [
    "## 전화번호 문자 조합 https://leetcode.com/problems/letter-combinations-of-a-phone-number/"
   ]
  },
  {
   "cell_type": "code",
   "execution_count": 7,
   "id": "3fb3717d",
   "metadata": {},
   "outputs": [],
   "source": [
    "def letterCombinations(digits: str):\n",
    "    digit_dict = {\"2\" : [\"a\", \"b\", \"c\"], \"3\" : [\"d\", \"e\", \"f\"], \n",
    "                  \"4\" : [\"g\", \"h\", \"i\"], \"5\" : [\"j\", \"k\", \"l\"], \n",
    "                  \"6\" : [\"m\", \"n\", \"o\"], \"7\" : [\"p\", \"q\", \"r\", \"s\"], \n",
    "                  \"8\" : [\"t\", \"u\", \"v\"], \"9\" : [\"w\", \"x\", \"y\", \"z\"]}\n",
    "        \n",
    "    if len(digits) == 0:\n",
    "        return []\n",
    "        \n",
    "    answer = digit_dict[digits[0]]\n",
    "        \n",
    "    if len(digits) == 1:\n",
    "        return answer\n",
    "        \n",
    "    def making_letter(digits_list, num):\n",
    "        result = []\n",
    "        for i in range(len(digits_list)):\n",
    "            for j in range(len(digit_dict[digits[num]])):\n",
    "                result.append(digits_list[i] + digit_dict[digits[num]][j])\n",
    "        return result\n",
    "        \n",
    "    for i in range(len(digits)-1):\n",
    "        answer = making_letter(answer, i+1)\n",
    "        \n",
    "    return answer"
   ]
  },
  {
   "cell_type": "code",
   "execution_count": 8,
   "id": "eb7a5715",
   "metadata": {},
   "outputs": [],
   "source": [
    "def letterCombinations(digits: str):\n",
    "    def dfs(index, path):\n",
    "        if len(path) == len(digits):\n",
    "            result.append(path)\n",
    "            return\n",
    "        \n",
    "        for i in range(index, len(digits)):\n",
    "            for j in dic[digitis[i]]:\n",
    "                dfs(i + 1, path + j)\n",
    "                \n",
    "    if not digits:\n",
    "        return []\n",
    "    \n",
    "    dic = {\"2\" : \"abc\", \"3\" : \"def\", \"4\" : \"ghi\", \"5\" : \"jkl\", \"6\" : \"mno\", \"7\" : \"pqrs\", \"8\" : \"tuv\", \"9\" : \"wxyz\"}\n",
    "    result = []\n",
    "    dfs(0, \"\")\n",
    "    \n",
    "    return result"
   ]
  },
  {
   "cell_type": "code",
   "execution_count": null,
   "id": "755aa899",
   "metadata": {},
   "outputs": [],
   "source": [
    "def letterCombinations(self, digits: str) -> List[str]:\n",
    "    res = []\n",
    "    digitToChar = { \"2\": \"abc\",\n",
    "                   \"3\": \"def\",\n",
    "                   \"4\": \"ghi\",\n",
    "                   \"5\": \"jkl\",\n",
    "                   \"6\": \"mno\",\n",
    "                   \"7\": \"qprs\",\n",
    "                   \"8\": \"tuv\",\n",
    "                   \"9\": \"wxyz\" }\n",
    "        \n",
    "    def backtrack(i, curStr):\n",
    "        if len(curStr) == len(digits):\n",
    "            res.append(curStr)\n",
    "            return\n",
    "        for c in digitToChar[digits[i]]:\n",
    "            backtrack(i + 1, curStr + c)\n",
    "        \n",
    "    if digits:\n",
    "        backtrack(0, \"\")\n",
    "        \n",
    "    return res"
   ]
  },
  {
   "cell_type": "markdown",
   "id": "8ef83fe9",
   "metadata": {},
   "source": [
    "## 순열 https://leetcode.com/problems/permutations/"
   ]
  },
  {
   "cell_type": "code",
   "execution_count": 1,
   "id": "3d9256ea",
   "metadata": {},
   "outputs": [],
   "source": [
    "def permute(nums: list):\n",
    "    result = []\n",
    "    cont = []\n",
    "    \n",
    "    def dfs(x, cont):\n",
    "        if len(x) == 0:\n",
    "            result.append(cont[:])\n",
    "            # cont의 값을 복사해서 append해야함. 왜냐하면 cont를 append할 시 수정된\n",
    "            # cont가 append 될 수도 있음\n",
    "            return\n",
    "        \n",
    "        for i in range(len(x)):\n",
    "            temp = x[:]\n",
    "            cont += [temp.pop(i)]\n",
    "            dfs(temp, cont)\n",
    "            cont.pop()\n",
    "            #이전 단계의 cont로 돌아가기 위해서는 반드시 cont의 마지막 값을 pop해야함\n",
    "            \n",
    "    dfs(nums, cont)\n",
    "        \n",
    "    return result"
   ]
  },
  {
   "cell_type": "code",
   "execution_count": 25,
   "id": "5c419ed0",
   "metadata": {},
   "outputs": [],
   "source": [
    "import itertools\n",
    "def permute(nums: list):\n",
    "    return list(map(list, itertools.permutations(nums)))"
   ]
  },
  {
   "cell_type": "markdown",
   "id": "66205c45",
   "metadata": {},
   "source": [
    "## 조합 https://leetcode.com/problems/combinations/"
   ]
  },
  {
   "cell_type": "code",
   "execution_count": 4,
   "id": "3c8b5255",
   "metadata": {},
   "outputs": [],
   "source": [
    "def combine(n, k):\n",
    "    result = []\n",
    "    cont = []\n",
    "    \n",
    "    def dfs(t, cont):\n",
    "        \n",
    "        if len(cont) == k:\n",
    "            result.append(cont[:])\n",
    "            return\n",
    "        \n",
    "        for i in range(t, n+1):\n",
    "            cont.append(i)\n",
    "            p = i + 1\n",
    "            dfs(p, cont)\n",
    "            cont.pop()\n",
    "            \n",
    "    dfs(1, cont)\n",
    "    \n",
    "    return result"
   ]
  },
  {
   "cell_type": "code",
   "execution_count": 5,
   "id": "1989d87d",
   "metadata": {},
   "outputs": [],
   "source": [
    "import itertools\n",
    "def combine(n, k):\n",
    "    return list(itertools.combinations(range(1, n+1), k))"
   ]
  },
  {
   "cell_type": "markdown",
   "id": "e66125ef",
   "metadata": {},
   "source": [
    "## 조합의 합 https://leetcode.com/problems/combination-sum/"
   ]
  },
  {
   "cell_type": "code",
   "execution_count": 23,
   "id": "eee8168e",
   "metadata": {},
   "outputs": [],
   "source": [
    "def combination(candidates: list, target: int):\n",
    "    result = []\n",
    "    \n",
    "    def dfs(csum: int, index: int, path: list):\n",
    "        \n",
    "        if csum < 0:\n",
    "            return\n",
    "        \n",
    "        if csum == 0:\n",
    "            result.append(path)\n",
    "            return\n",
    "        \n",
    "        for i in range(index, len(candidates)):\n",
    "            # index부터 시작하는 이유는 중복되는 조합을 피하기 위해서\n",
    "            # binary tree에서 왼쪽에서 사용한 값은 오른쪽에서 사용하면 안되기 때문에\n",
    "            # range를 매번 다르게 설정해주는 것임\n",
    "            dfs(csum - candidates[i], i, path + [candidates[i]])\n",
    "            \n",
    "    dfs(target, 0, [])\n",
    "    \n",
    "    return result"
   ]
  },
  {
   "cell_type": "markdown",
   "id": "de112adb",
   "metadata": {},
   "source": [
    "## 부분집합 https://leetcode.com/problems/subsets/"
   ]
  },
  {
   "cell_type": "code",
   "execution_count": 24,
   "id": "f97baa97",
   "metadata": {},
   "outputs": [],
   "source": [
    "def subset(nums: list):\n",
    "    result = []\n",
    "    \n",
    "    def dfs(pivot, index, path):\n",
    "        \n",
    "        if index == len(pivot):\n",
    "            result.append(path)\n",
    "            return\n",
    "        \n",
    "        dfs(pivot, index + 1, path + [pivot[index]])\n",
    "        dfs(pivot, index + 1, path)\n",
    "        \n",
    "    dfs(nums, 0, [])\n",
    "    \n",
    "    return result"
   ]
  },
  {
   "cell_type": "code",
   "execution_count": 25,
   "id": "d38b24bc",
   "metadata": {},
   "outputs": [],
   "source": [
    "def subset(nums: list):\n",
    "    result = []\n",
    "    \n",
    "    def dfs(index, path):\n",
    "        \n",
    "        result.append(path)\n",
    "        \n",
    "        for i in range(index, len(nums)):\n",
    "            dfs(i + 1, path + [nums[i]])\n",
    "            \n",
    "    dfs(0, [])\n",
    "    return result"
   ]
  },
  {
   "cell_type": "markdown",
   "id": "c70b1c46",
   "metadata": {},
   "source": [
    "## 일정 재구성 https://leetcode.com/problems/reconstruct-itinerary/"
   ]
  },
  {
   "cell_type": "code",
   "execution_count": 48,
   "id": "c4590df9",
   "metadata": {},
   "outputs": [],
   "source": [
    "from collections import defaultdict\n",
    "def findItinerary(tickets: list):\n",
    "    mapping = defaultdict(list)\n",
    "    result = []\n",
    "    \n",
    "    for depart, arrive in sorted(tickets):\n",
    "        mapping[depart].append(arrive)\n",
    "        \n",
    "    def dfs(start):\n",
    "        \n",
    "        while mapping[start]:\n",
    "            dfs(mapping[start].pop(0))\n",
    "            \n",
    "        result.append(start)\n",
    "        \n",
    "    dfs('JFK')\n",
    "    \n",
    "    return result[::-1]"
   ]
  },
  {
   "cell_type": "markdown",
   "id": "f9f6a005",
   "metadata": {},
   "source": [
    "## 코스 스케쥴 https://leetcode.com/problems/course-schedule/"
   ]
  },
  {
   "cell_type": "code",
   "execution_count": 42,
   "id": "72dbbb87",
   "metadata": {},
   "outputs": [],
   "source": [
    "def canFinish(numCourses: int, prerequisites: list):\n",
    "    p_map = {i : [] for i in range(numCourses)}\n",
    "    \n",
    "    for second, first in prerequisites:\n",
    "        p_map[second] = first\n",
    "        \n",
    "    visited = set()\n",
    "    \n",
    "    def dfs(crs):\n",
    "        if crs in visited:\n",
    "            return False\n",
    "        #loop 찾는 것\n",
    "        \n",
    "        if p_map[crs] == []:\n",
    "            return True\n",
    "        \n",
    "        visited.add(crs)\n",
    "        \n",
    "        for k in p_map[crs]:\n",
    "            if not dfs(k):\n",
    "                return False\n",
    "            # 한 번이라도 dfs가 False를 return하면 바로 False를 return하고 dfs 종료\n",
    "        \n",
    "        visited.remove(crs)\n",
    "        # 탐색을 다 했으면 방문목록에서 해당 node를 삭제\n",
    "        p_map[crs] = []\n",
    "        # p_map에서 빈 리스트로 만들어야 base case로 다룰 수 있음\n",
    "        \n",
    "        return True\n",
    "    \n",
    "    for crs in range(numCourses):\n",
    "        if not dfs(crs):\n",
    "            return False\n",
    "        \n",
    "    return True"
   ]
  },
  {
   "cell_type": "markdown",
   "id": "43aca876",
   "metadata": {},
   "source": [
    "## 네트워크 딜레이 타임 https://leetcode.com/problems/network-delay-time/\n",
    "### Dijkstra's algorithm with BFS"
   ]
  },
  {
   "cell_type": "code",
   "execution_count": 1,
   "id": "e5e7223f",
   "metadata": {},
   "outputs": [],
   "source": [
    "import heapq\n",
    "from collections import defaultdict\n",
    "\n",
    "def networkdelaytime(times: list, n: int, k: int):\n",
    "    edges = defaultdict(list)\n",
    "    \n",
    "    ## graph 만들기\n",
    "    for u, v, w in times:\n",
    "        edges[u].append((v, w))\n",
    "    \n",
    "    # 출발 노드를 minheap에 넣어놓고 시작((weight와 node를 한 쌍으로))\n",
    "    minheapq = [(0, k)]\n",
    "    visited = set()\n",
    "    \n",
    "    # 전체 걸린 시간을 t로 계속 업데이트함\n",
    "    # minheap이기 때문에 최소 weight를 가진 node를 BFS로 탐색해서 방문함\n",
    "    t = 0\n",
    "    \n",
    "    while minheapq:\n",
    "        # 가장 짧은 시간이 걸리는 node를 뽑아옴\n",
    "        w1, n1 = heapq.heappop(minheapq)\n",
    "        \n",
    "        # 뽑아온 node가 이미 방문했던 것이라면 다음 loop\n",
    "        if n1 in visited:\n",
    "            continue\n",
    "            \n",
    "        # 그게 아니라면 방문 처리\n",
    "        visited.add(n1)\n",
    "        \n",
    "        # 현재 node까지 오는 시간을 업데이트 **MAX value로 업데이트해야 함. 현재까지 시간을 계속 누적되는 것이기 때문\n",
    "        t = max(t, w1)\n",
    "        \n",
    "        # 현재 방문하고 있는 node에 연결 되어 있는 모든 node를 BFS로 탐색하기 위해 minheap에 넣어줘야 함\n",
    "        # 그러기 위해선 방문할 node까지 걸릴 시간을 모두 미리 계산해서 넣어줘야 함\n",
    "        for n2, w2 in edges[n1]:\n",
    "            # 방문 예정인 node가 방문 리스트에 없어야 함\n",
    "            if n2 not in visited:\n",
    "                # 현재 방문한 node까지의 거리 + 방문 예정인 node와의 거리를 합산해서 minheap에 저장\n",
    "                heapq.heappush(minheap, (w1 + w2, n2))\n",
    "                \n",
    "    return t if len(visited) == n else -1 ## 모두 방문했다면 t값 return, 그렇지 않다면 -1"
   ]
  },
  {
   "cell_type": "markdown",
   "id": "8a6c02c6",
   "metadata": {},
   "source": [
    "## K 경유지 내 가장 저렴한 항공권 https://leetcode.com/problems/cheapest-flights-within-k-stops/\n",
    "### 다익스트라 알고리즘 사용"
   ]
  },
  {
   "cell_type": "code",
   "execution_count": 1,
   "id": "22ea768b",
   "metadata": {},
   "outputs": [],
   "source": [
    "import heapq\n",
    "from collections import defaultdict\n",
    "def findCheapestPrice(n: int, flights: list, src: int, dst: int, k: int):\n",
    "    graph = defaultdict(list)\n",
    "    \n",
    "    # u에서 v로 가는 price가 w인 graph 생성\n",
    "    for u, v, w in flights:\n",
    "        graph[u].append((v, w))\n",
    "        \n",
    "    # 최소힙 사용. (해당 node 까지 오는 price, 해당 node, stops)    \n",
    "    minheap = [(0, src, 0)]\n",
    "    # cycle 형성을 막기 위한 방문 리스트\n",
    "    # 다시 방문해도 되지만 이전의 stops보다 현재의 stops가 작아야 함\n",
    "    visited = {}\n",
    "    \n",
    "    while minheap:\n",
    "        # 최소 price(weight)를 가진 node를 뽑아옴\n",
    "        w1, n1, s1 = heapq.heappop(minheap)\n",
    "        \n",
    "        if n1 == dst:\n",
    "            return w1\n",
    "        \n",
    "        if (n1 not in visited) or (visited[n1] > s1):\n",
    "            # 방문했다면 해당 노드에 대한 stop값을 기록\n",
    "            visited[n1] = s1\n",
    "            \n",
    "            for n2, w2 in graph[n1]:\n",
    "                if s1 <= k:\n",
    "                    heapq.heappush(minheap, (w1 + w2, n2, s1 + 1))\n",
    "    return -1"
   ]
  },
  {
   "cell_type": "markdown",
   "id": "f46df03e",
   "metadata": {},
   "source": [
    "## 이진트리 최대 깊이 https://leetcode.com/problems/maximum-depth-of-binary-tree/"
   ]
  },
  {
   "cell_type": "markdown",
   "id": "fa7bddc4",
   "metadata": {},
   "source": [
    "### BFS 이용 풀이"
   ]
  },
  {
   "cell_type": "code",
   "execution_count": 2,
   "id": "6cb25017",
   "metadata": {},
   "outputs": [],
   "source": [
    "class TreeNode:\n",
    "    def __init__(self, val = 0, left = None, right = None):\n",
    "        self.val = val\n",
    "        self.right = right\n",
    "        self.left = left\n",
    "        \n",
    "from collections import deque\n",
    "\n",
    "def maxDepth(root: TreeNode):\n",
    "    if not root:\n",
    "        return 0\n",
    "    \n",
    "    queue = deque([root])\n",
    "    depth = 0\n",
    "    \n",
    "    while queue:\n",
    "        for _ in range(len(queue)):\n",
    "            node = queue.popleft()\n",
    "            if node.right:\n",
    "                queue.append(node.right)\n",
    "            if node.left:\n",
    "                queue.append(node.left)\n",
    "        depth += 1\n",
    "        \n",
    "    return depth"
   ]
  },
  {
   "cell_type": "markdown",
   "id": "1c1ff935",
   "metadata": {},
   "source": [
    "### DFS 이용 풀이"
   ]
  },
  {
   "cell_type": "code",
   "execution_count": 3,
   "id": "53cd351a",
   "metadata": {},
   "outputs": [],
   "source": [
    "def maxDepth(root: TreeNode):\n",
    "    if not root:\n",
    "        return 0\n",
    "    return 1 + max(self.maxDepth(root.right), self.maxDepth(root.left))"
   ]
  },
  {
   "cell_type": "markdown",
   "id": "d77731c3",
   "metadata": {},
   "source": [
    "## ****이진트리의 직경*** https://leetcode.com/problems/diameter-of-binary-tree/"
   ]
  },
  {
   "cell_type": "markdown",
   "id": "d92e29f5",
   "metadata": {},
   "source": [
    "Given the root of a binary tree, return the length of the diameter of the tree.\n",
    "\n",
    "The diameter of a binary tree is the length of the longest path between any two nodes in a tree. This path may or may not pass through the root.\n",
    "\n",
    "The length of a path between two nodes is represented by the number of edges between them.\n",
    "\n",
    "#### binary tree에서 height와 diameter 구하는 공식\n",
    "   1. height = 1 + max(left height, right height)\n",
    "   2. diameter = left height + right height + 2(2는 해당 노드에서 자식노드 2개가 있다고 가정, 만약 자식 노드가 없더라도 빈 node는 height가 -1이라고 가정하기 때문에 상관없음)"
   ]
  },
  {
   "cell_type": "code",
   "execution_count": 6,
   "id": "eef1b41e",
   "metadata": {},
   "outputs": [],
   "source": [
    "def diameterOfBinaryTree(root: TreeNode):\n",
    "    # max diameter를 찾기 위해 global 변수 선언\n",
    "    # int로 선언하지 않은 이유는 중첩 함수 내에서 값이 변동되게 된다면 \n",
    "    # 그 즉시 local variable로 바뀔 수 있기 때문임\n",
    "    # 이를 막기 위해 변수 값을 조작할 수 있는 list나 dict로 선언하거나\n",
    "    # 함수 밖의 Class 변수로 선언 하면 됨\n",
    "    res = [0]\n",
    "    \n",
    "    def dfs(root):\n",
    "        if not root:\n",
    "            # base case를 -1로 설정한 이유는 통상적으로 tree에서 node가 없는 것은\n",
    "            # height가 -1이라고 취급하기 때문\n",
    "            return -1\n",
    "        left_height = dfs(root.left)\n",
    "        right_height = dfs(root.right)\n",
    "        res[0] = max(res[0], 2 + left_height + right_height)\n",
    "        \n",
    "        return 1 + max(left_height, right_height)\n",
    "    \n",
    "    dfs(root)\n",
    "    \n",
    "    return res[0]"
   ]
  },
  {
   "cell_type": "markdown",
   "id": "98b25389",
   "metadata": {},
   "source": [
    "## 가장 긴 동일 값의 경로 https://leetcode.com/problems/longest-univalue-path/"
   ]
  },
  {
   "cell_type": "code",
   "execution_count": 2,
   "id": "aaaf12e1",
   "metadata": {},
   "outputs": [],
   "source": [
    "def longestUnivaluePath(root: TreeNode):\n",
    "    max_val = [0]\n",
    "    \n",
    "    def dfs(node):\n",
    "        \n",
    "        if not node:\n",
    "            return 0\n",
    "        \n",
    "        right = dfs(node.right)\n",
    "        left = dfs(node.left)\n",
    "        \n",
    "        if (node.right) and node.val == node.right.val:\n",
    "            right += 1\n",
    "        else:\n",
    "            right = 0\n",
    "        if (node.left) and node.val == node.left.val:\n",
    "            left += 1\n",
    "        else:\n",
    "            left = 0\n",
    "            \n",
    "        max_val[0] = max(max_val[0], left + right)\n",
    "        \n",
    "        return max(left, right)\n",
    "    \n",
    "    dfs(root)\n",
    "    \n",
    "    return max_val[0]"
   ]
  },
  {
   "cell_type": "markdown",
   "id": "40e678f7",
   "metadata": {},
   "source": [
    "## 이진 트리 반전 https://leetcode.com/problems/invert-binary-tree/"
   ]
  },
  {
   "cell_type": "code",
   "execution_count": 3,
   "id": "2a71b058",
   "metadata": {},
   "outputs": [],
   "source": [
    "def invertTree(root: TreeNode):\n",
    "    def dfs(node):\n",
    "        if not node:\n",
    "            return\n",
    "        \n",
    "        node.right, node.left = node.left, node.right\n",
    "        \n",
    "        dfs(node.right)\n",
    "        dfs(node.left)\n",
    "        \n",
    "    dfs(root)\n",
    "    \n",
    "    return root"
   ]
  },
  {
   "cell_type": "markdown",
   "id": "457a7be9",
   "metadata": {},
   "source": [
    "## 두 이진 트리 병합 https://leetcode.com/problems/merge-two-binary-trees/"
   ]
  },
  {
   "cell_type": "code",
   "execution_count": 3,
   "id": "b0bbb780",
   "metadata": {},
   "outputs": [],
   "source": [
    "def mergeTrees(root1: TreeNode, root2: TreeNode):\n",
    "    if not root1 and not root2:\n",
    "        return None\n",
    "    \n",
    "    v1 = root1.val if root1 else 0\n",
    "    v2 = root2.val if root2 else 0\n",
    "    \n",
    "    root = TreeNonde(v1 + v2)\n",
    "    \n",
    "    root.right = self.mergeTrees(root1.right if root1 else None, root2.right if root2 else None)\n",
    "    root.left = self.mergeTrees(root1.left if root1 else None, root2.left if root2 else None)\n",
    "    \n",
    "    return root"
   ]
  },
  {
   "cell_type": "markdown",
   "id": "64991419",
   "metadata": {},
   "source": [
    "## 이진 트리 직렬화 & 역직렬화 https://leetcode.com/problems/serialize-and-deserialize-binary-tree/"
   ]
  },
  {
   "cell_type": "code",
   "execution_count": 4,
   "id": "2e12863f",
   "metadata": {},
   "outputs": [],
   "source": [
    "class Codec():\n",
    "    def serialize(self, root: TreeNode):\n",
    "        res = []\n",
    "        \n",
    "        def dfs(node):\n",
    "            if not node:\n",
    "                res.append(\"N\")\n",
    "                return\n",
    "            res.append(str(node.val))\n",
    "            dfs(node.left)\n",
    "            dfs(node.right)\n",
    "            \n",
    "        dfs(root)\n",
    "        \n",
    "        return \",\".join(res)\n",
    "    \n",
    "    def deserialize(self, data: str):\n",
    "        vals = data.split(\",\")\n",
    "        self.i = 0\n",
    "        # Gloabal Variable\n",
    "        \n",
    "        def dfs():\n",
    "            if vals[self.i] == \"N\":\n",
    "                self.i += 1\n",
    "                return None\n",
    "            \n",
    "            node = TreeNode(int(vals[self.i]))\n",
    "            self.i += 1\n",
    "            node.right = dfs()\n",
    "            node.left = dfs()\n",
    "            return node\n",
    "        \n",
    "        return dfs()"
   ]
  },
  {
   "cell_type": "markdown",
   "id": "9af79a6b",
   "metadata": {},
   "source": [
    "## 균형 이진 트리 https://leetcode.com/problems/balanced-binary-tree/"
   ]
  },
  {
   "cell_type": "code",
   "execution_count": 5,
   "id": "859b2a91",
   "metadata": {},
   "outputs": [],
   "source": [
    "def isBalanced(root: TreeNode):\n",
    "    self.res = True\n",
    "    def dfs(node):\n",
    "        if not node:\n",
    "            return -1\n",
    "        left = dfs(node.left)\n",
    "        right = dfs(node.right)\n",
    "        \n",
    "        if abs(left - right) > 1:\n",
    "            self.res = False\n",
    "            \n",
    "        return 1 + max(left, right)\n",
    "    \n",
    "    dfs(root)\n",
    "    \n",
    "    return self.res"
   ]
  },
  {
   "cell_type": "markdown",
   "id": "87835b7c",
   "metadata": {},
   "source": [
    "## 최소 높이 트리https://leetcode.com/problems/minimum-height-trees/submissions/"
   ]
  },
  {
   "cell_type": "markdown",
   "id": "a2de242d",
   "metadata": {},
   "source": [
    "A tree is an undirected graph in which any two vertices are connected by exactly one path. In other words, any connected graph without simple cycles is a tree.\n",
    "\n",
    "Given a tree of n nodes labelled from 0 to n - 1, and an array of n - 1 edges where edges[i] = [ai, bi] indicates that there is an undirected edge between the two nodes ai and bi in the tree, you can choose any node of the tree as the root. When you select a node x as the root, the result tree has height h. Among all possible rooted trees, those with minimum height (i.e. min(h))  are called minimum height trees (MHTs).\n",
    "\n",
    "Return a list of all MHTs' root labels. You can return the answer in any order.\n",
    "\n",
    "The height of a rooted tree is the number of edges on the longest downward path between the root and a leaf.\n",
    "\n",
    "####     최소 높이 트리는 depth가 1인 leaf들을 \n",
    "####     계속해서 제거하면서 마지막 최대 2개가 남을 때까지 반복하면 됨"
   ]
  },
  {
   "cell_type": "code",
   "execution_count": 6,
   "id": "53a70cd7",
   "metadata": {},
   "outputs": [],
   "source": [
    "from collections import defaultdict\n",
    "def findMinHeightTrees(n: int, edges: list):\n",
    "    if n <= 1:\n",
    "        return [0]\n",
    "    # edge case 처리\n",
    "    \n",
    "    graph = defaultdict(list)\n",
    "    \n",
    "    for i, j in edges:\n",
    "        # 쌍방향 graph를 만듦\n",
    "        # 나중에 두 번 삭제해주면 됨\n",
    "        graph[i].append(j)\n",
    "        graph[j].append(i)\n",
    "        \n",
    "    waiting = []\n",
    "    # while loop 동안 삭제할 node를 여기에 저장\n",
    "    # while loop를 빠져나와서 마지막으로 나와있는 삭제 예정 node들이\n",
    "    # 최후의 node\n",
    "    \n",
    "    for val in graph:\n",
    "        if len(graph[val]) == 1:\n",
    "            waiting.append(val)\n",
    "    # 최초 depth가 1인 leaf들을 담아 놓고 while문 안에서 없앨 것임\n",
    "    \n",
    "    while n > 2:\n",
    "        # 최대 2개 까지 가능하므로 2보다 크다면 계속 삭제\n",
    "        n -= len(waiting)\n",
    "        # 처음 노드 값에서 삭제 예정인 node들의 개수를 계속 빼줘야함\n",
    "        # graph에서 key node값들은 못 빼기 때문\n",
    "        new_waiting = []\n",
    "        # loop를 한번 돌 때마다 다음에 삭제할 node들을 담아두고\n",
    "        # loop 마지막에 waiting으로 업데이트 함\n",
    "        \n",
    "        for i in waiting:\n",
    "            neighbor = graph[i].pop()\n",
    "            graph[neighbor].remove(i)\n",
    "            # 쌍방향 그래프이므로 삭제\n",
    "            \n",
    "            if len(graph[neighbor]) == 1:\n",
    "                # depth가 1이 된다면\n",
    "                new_waiting.append(neighbor)\n",
    "                # 다음 loop에서 삭제 예정\n",
    "                \n",
    "            waiting = new_waiting\n",
    "            \n",
    "    return waiting"
   ]
  },
  {
   "cell_type": "markdown",
   "id": "95641289",
   "metadata": {},
   "source": [
    "## 정렬된 배열의 이진탐색트리(BST) 변환\n",
    "https://leetcode.com/problems/convert-sorted-array-to-binary-search-tree/"
   ]
  },
  {
   "cell_type": "markdown",
   "id": "337d894b",
   "metadata": {},
   "source": [
    "Given an integer array nums where the elements are sorted in ascending order, convert it to a height-balanced binary search tree.\n",
    "\n",
    "A height-balanced binary tree is a binary tree in which the depth of the two subtrees of every node never differs by more than one.\n",
    "\n",
    " "
   ]
  },
  {
   "cell_type": "code",
   "execution_count": 7,
   "id": "c3ba01f2",
   "metadata": {},
   "outputs": [],
   "source": [
    "def sortedArrayToBST(nums: list):\n",
    "    if not nums:\n",
    "        return None\n",
    "    \n",
    "    # 정렬 리스트이기 때문에 계속해서 중간값을 node로 설정해주면됨\n",
    "    \n",
    "    mid = len(nums) // 2\n",
    "    node = TreeNode(nums[mid])\n",
    "    node.left = self.sortedArrayToBST(nums[:mid])\n",
    "    node.right = self.sortedArrayToBST(nums[mid + 1:])\n",
    "    \n",
    "    return node"
   ]
  },
  {
   "cell_type": "markdown",
   "id": "7d4012e8",
   "metadata": {},
   "source": [
    "## 이진탐색트리(BST)를 더 큰 수 합계 트리로\n",
    "https://leetcode.com/problems/binary-search-tree-to-greater-sum-tree/"
   ]
  },
  {
   "cell_type": "markdown",
   "id": "2242c607",
   "metadata": {},
   "source": [
    "Given the root of a Binary Search Tree (BST), convert it to a Greater Tree such that every key of the original BST is changed to the original key plus the sum of all keys greater than the original key in BST.\n",
    "\n",
    "As a reminder, a binary search tree is a tree that satisfies these constraints:\n",
    "\n",
    "The left subtree of a node contains only nodes with keys less than the node's key.\n",
    "The right subtree of a node contains only nodes with keys greater than the node's key.\n",
    "Both the left and right subtrees must also be binary search trees."
   ]
  },
  {
   "cell_type": "code",
   "execution_count": 9,
   "id": "c5eb1665",
   "metadata": {},
   "outputs": [],
   "source": [
    "def bstToGst(root: TreeNode):\n",
    "    best = 0\n",
    "    # 이렇게 안하고 best = [0]으로 해도 됨\n",
    "    def dfs(node):\n",
    "        if not node:\n",
    "            return\n",
    "        # 이미 best가 0으로 base case이기 때문에 아무것도 return할 필요 없음\n",
    "        nonlocal best\n",
    "        # best를 전역함수로 설정\n",
    "        dfs(node.right)\n",
    "        #BST 이므로 오른쪽부터\n",
    "        tmp = node.val\n",
    "        # tmp를 설정해주는 이유는 value를 best로 더하고나서 다시 그 value를 best에 더하면\n",
    "        # 이중으로 더해주는 걸 방지해주기 위해서임\n",
    "        # 만약 이걸 안해주고 node.val += best\n",
    "        # best += node.val를 해주게 되는 것임\n",
    "        # 아니면 best += node.val 이후\n",
    "        # node.val += best해줘도 이중으로 더해주는 꼴임\n",
    "        node.val += best\n",
    "        best += tmp\n",
    "        dfs(node.left)\n",
    "        \n",
    "    dfs(root)\n",
    "    \n",
    "    return root"
   ]
  },
  {
   "cell_type": "markdown",
   "id": "851f4acf",
   "metadata": {},
   "source": [
    "## 이진 탐색 트리(BST)의 합의 범위\n",
    "https://leetcode.com/problems/range-sum-of-bst/"
   ]
  },
  {
   "cell_type": "markdown",
   "id": "f992a91c",
   "metadata": {},
   "source": [
    "Given the root node of a binary search tree and two integers low and high, return the sum of values of all nodes with a value in the inclusive range [low, high]."
   ]
  },
  {
   "cell_type": "code",
   "execution_count": 3,
   "id": "0f6a295f",
   "metadata": {},
   "outputs": [],
   "source": [
    "def rangeSumBST(root: TreeNode, low: int, high: int):\n",
    "    res = 0\n",
    "    def dfs(node):\n",
    "        if not node:\n",
    "            return\n",
    "        \n",
    "        nonlocal res\n",
    "        \n",
    "        if low <= node.val and node.val <= high:\n",
    "            dfs(node.right)\n",
    "            dfs(node.left)\n",
    "            res += node.val\n",
    "            \n",
    "        if node.val < low:\n",
    "            dfs(node.right)\n",
    "        \n",
    "        if node.val > high:\n",
    "            dfs(node.left)\n",
    "            \n",
    "    dfs(root)\n",
    "    \n",
    "    return res"
   ]
  },
  {
   "cell_type": "markdown",
   "id": "834a19ac",
   "metadata": {},
   "source": [
    "## 이진 탐색 트리 (BST) 노드 간 최소 거리 (중위 순회 In - Order Traversals LNR)\n",
    "https://leetcode.com/problems/minimum-distance-between-bst-nodes/"
   ]
  },
  {
   "cell_type": "markdown",
   "id": "25cb097b",
   "metadata": {},
   "source": [
    "Given the root of a Binary Search Tree (BST), return the minimum difference between the values of any two different nodes in the tree."
   ]
  },
  {
   "cell_type": "markdown",
   "id": "dcd01559",
   "metadata": {},
   "source": [
    "#### 노드 간 차이가 최소가 되려면 해당 노드와\n",
    "#### 1) 왼쪽 tree의 가장 오른쪽 leaf node와의 차이가 가장 적을 수도 있고\n",
    "#### 2) 오른쪽 tree의 가장 왼쪽 leaf node와의 차이가 가장 적을 수도 있다."
   ]
  },
  {
   "cell_type": "code",
   "execution_count": 4,
   "id": "43f7b6a2",
   "metadata": {},
   "outputs": [],
   "source": [
    "import sys\n",
    "class Solution:\n",
    "    prev = -sys.maxsize\n",
    "    res = sys.maxsize\n",
    "    \n",
    "    def minDiffInBST(root: TreeNode):\n",
    "        if root.left:\n",
    "            self.minDiffInBST(root.left)\n",
    "            # 가장 왼쪽 노드로 타고 내려가야 함\n",
    "            # 왜냐하면 leaf의 부모 node 입장에서는 1)이 바로 왼쪽 child(leaf)이고\n",
    "            # 2)가 바로 오른쪽 child(laef) 이기 때문임\n",
    "        \n",
    "        self.res = min(self.res, root.val - self.prev)\n",
    "        self.prev = root.val\n",
    "        # 현재값에서 이전의 node와의 값을 빼고 res에 저장\n",
    "        # 그리고 지금의 node의 값을 prev에 저장\n",
    "        \n",
    "        # 가장 왼쪽을 살펴봤다면 올라와서 right를 살펴봐야함\n",
    "        # 여기서는 right로 간 후 재귀를 통해서 가장 left로 이동함\n",
    "        if root.right:\n",
    "            self.minDiffInBST(root.right)\n",
    "        \n",
    "        return self.res\n",
    "        # 탐색을 다 했으면 return"
   ]
  },
  {
   "cell_type": "markdown",
   "id": "162260d4",
   "metadata": {},
   "source": [
    "## 전위, 중위 순회 결과로 이진 트리 구축 \n",
    "https://leetcode.com/problems/construct-binary-tree-from-preorder-and-inorder-traversal/"
   ]
  },
  {
   "cell_type": "markdown",
   "id": "eb45b297",
   "metadata": {},
   "source": [
    "Given two integer arrays preorder and inorder where preorder is the preorder traversal of a binary tree and inorder is the inorder traversal of the same tree, construct and return the binary tree."
   ]
  },
  {
   "cell_type": "code",
   "execution_count": 5,
   "id": "d5bf14b1",
   "metadata": {},
   "outputs": [],
   "source": [
    "def buildTree(preorder: list, inorder: list):\n",
    "    if inorder:\n",
    "        i = inorder.index(preorder.pop(0))\n",
    "        \n",
    "        node = TreeNode(inorder[i])\n",
    "        node.left = self.buildTree(preorder, inorder[:i])\n",
    "        node.right = self.buildTree(preorder, inorder[i + 1:])\n",
    "        \n",
    "        return node"
   ]
  },
  {
   "cell_type": "markdown",
   "id": "3040465e",
   "metadata": {},
   "source": [
    "## 배열의 K번째 큰 요소\n",
    "https://leetcode.com/problems/kth-largest-element-in-an-array/"
   ]
  },
  {
   "cell_type": "markdown",
   "id": "4ce310cb",
   "metadata": {},
   "source": [
    "Given an integer array nums and an integer k, return the kth largest element in the array.\n",
    "\n",
    "Note that it is the kth largest element in the sorted order, not the kth distinct element.\n"
   ]
  },
  {
   "cell_type": "code",
   "execution_count": 10,
   "id": "0344111c",
   "metadata": {},
   "outputs": [],
   "source": [
    "import heapq\n",
    "def findKthLargest(nums: list, k: int):\n",
    "    return heapq.nlargest(k, nums)[-1]\n",
    "#heapq 모듈의 nlargest 기능은 (k, nums, arg*) nums에서 k개의 가장 큰 값을 뽑아냄\n",
    "#결과값이 가장 큰 값부터 정렬되어 있는 list로 나오기 때문에 [-1]해야 k번째 큰값을\n",
    "#뽑아낼 수 있음"
   ]
  },
  {
   "cell_type": "code",
   "execution_count": 11,
   "id": "61f1f2e8",
   "metadata": {},
   "outputs": [],
   "source": [
    "def findKthLargest(nums: list, k: int):\n",
    "    minheap = []\n",
    "    \n",
    "    for i in nums:\n",
    "        heapq.heappush(minheap, -i)\n",
    "        \n",
    "    while k > 0:\n",
    "        res = heapq.heappop(minheap)\n",
    "        k -= 1\n",
    "        \n",
    "    return -a"
   ]
  },
  {
   "cell_type": "markdown",
   "id": "2ea063e2",
   "metadata": {},
   "source": [
    "## 트라이 구현\n",
    "https://leetcode.com/problems/implement-trie-prefix-tree/"
   ]
  },
  {
   "cell_type": "markdown",
   "id": "bad3df61",
   "metadata": {},
   "source": [
    "A trie (pronounced as \"try\") or prefix tree is a tree data structure used to efficiently store and retrieve keys in a dataset of strings. There are various applications of this data structure, such as autocomplete and spellchecker.\n",
    "\n",
    "Implement the Trie class:\n",
    "\n",
    "- Trie() Initializes the trie object.\n",
    "- void insert(String word) Inserts the string word into the trie.\n",
    "- boolean search(String word) Returns true if the string word is in the trie (i.e., was inserted before), and false otherwise.\n",
    "- boolean startsWith(String prefix) Returns true if there is a previously inserted string word that has the prefix prefix, and false otherwise.\n",
    " "
   ]
  },
  {
   "cell_type": "code",
   "execution_count": 1,
   "id": "c49eb4a4",
   "metadata": {},
   "outputs": [],
   "source": [
    "class TreeNode:\n",
    "    def __init__(self):\n",
    "        self.children = {}\n",
    "        self.endOfWord = False\n",
    "## Trie class에서 쓰일 TreeNode 정의\n",
    "## dict의 형태로 trie 구현\n",
    "## endOfWord는 해당 character가 단어의 마지막인지 아닌지를 구분함\n",
    "\n",
    "class Trie:\n",
    "    def __init__(self):\n",
    "        self.root = TreeNode()\n",
    "        # root 변수를 통해서 RootNode 생성\n",
    "        \n",
    "    def insert(self, word: str):\n",
    "        cur = self.root\n",
    "        # 굳이 선언은 안 해도 됨\n",
    "        \n",
    "        for c in word:\n",
    "            if c not in cur.children:\n",
    "                cur.children[c] = TreeNode()\n",
    "                # 해당 character가 없다면 dict에 해당 character를 key값으로 하는 새로운\n",
    "                # TreeNode를 생성해서 계속 이어나가면 됨\n",
    "            cur = cur.children[c]\n",
    "            \n",
    "        cur.endOfWord = True\n",
    "        # 해당 character의 endofWord를 True로 변경해줘서 끝 단어임을 표시\n",
    "        \n",
    "    def search(self, word: str):\n",
    "        cur = self.root\n",
    "        \n",
    "        for c in word:\n",
    "            if c not in cur.children:\n",
    "                return False\n",
    "            cur = cur.children[c]\n",
    "            \n",
    "        return cur.endOfWord\n",
    "        # 끝까지 탐색을 했다면 해당 character의 endorword값을 통해서 단어의 끝인지를 판단\n",
    "        \n",
    "    def startswith(self, prefix: str):\n",
    "        cur = self.root\n",
    "        \n",
    "        for c in word:\n",
    "            if c not in cur.children:\n",
    "                return False\n",
    "            cur = cur.children[c]\n",
    "            \n",
    "        return True"
   ]
  },
  {
   "cell_type": "markdown",
   "id": "f58d52ad",
   "metadata": {},
   "source": [
    "## 퀵 정렬"
   ]
  },
  {
   "cell_type": "code",
   "execution_count": 1,
   "id": "2506b926",
   "metadata": {},
   "outputs": [],
   "source": [
    "def quicksort(A, lo, hi):\n",
    "    def partition(lo, hi):\n",
    "        pivot = A[hi]\n",
    "        left = lo\n",
    "        for right in range(lo, hi):\n",
    "            if A[right] < pivot:\n",
    "                A[left], A[right] = A[right], A[left]\n",
    "                left += 1\n",
    "        A[left], A[hi] = A[hi], A[left]\n",
    "        return left\n",
    "    \n",
    "    if lo < hi:\n",
    "        pivot = partition(lo, hi)\n",
    "        quicksort(A, lo, pivot - 1)\n",
    "        quicksort(A, pivot + 1, hi)"
   ]
  },
  {
   "cell_type": "code",
   "execution_count": 2,
   "id": "fff8e20e",
   "metadata": {},
   "outputs": [],
   "source": [
    "class ListNode:\n",
    "    def __init__(self, val=0, next=None):\n",
    "        self.val = val\n",
    "        self.next = next"
   ]
  },
  {
   "cell_type": "markdown",
   "id": "783e16f3",
   "metadata": {},
   "source": [
    "## 리스트 정렬.\n",
    "https://leetcode.com/problems/sort-list/"
   ]
  },
  {
   "cell_type": "markdown",
   "id": "01d0445e",
   "metadata": {},
   "source": [
    "Given the head of a linked list, return the list after sorting it in ascending order."
   ]
  },
  {
   "cell_type": "markdown",
   "id": "a7a1884e",
   "metadata": {},
   "source": [
    "#### 내장 함수 사용 (Team Sort)"
   ]
  },
  {
   "cell_type": "code",
   "execution_count": 9,
   "id": "5447d17b",
   "metadata": {},
   "outputs": [],
   "source": [
    "def sortList(head: ListNode):\n",
    "    data = []\n",
    "    \n",
    "    while head:\n",
    "        data.append(head.val)\n",
    "        head = head.next\n",
    "        \n",
    "    data.sort(reverse = True)\n",
    "    \n",
    "    dummy = ListNode()\n",
    "    tail = dummy\n",
    "    \n",
    "    while data:\n",
    "        tail.next = ListNode(val = data.pop())\n",
    "        tail = tail.next\n",
    "        \n",
    "    return dummy.next"
   ]
  },
  {
   "cell_type": "markdown",
   "id": "fe10279c",
   "metadata": {},
   "source": [
    "#### Merge Sort 사용"
   ]
  },
  {
   "cell_type": "code",
   "execution_count": 10,
   "id": "86d67ecb",
   "metadata": {},
   "outputs": [],
   "source": [
    "def merge(l1: ListNode, l2: ListNode):\n",
    "    if l1 and l2:\n",
    "        if l1.val > l2.val:\n",
    "            l1, l2 = l2, l1\n",
    "        l1.next = self.merge(l1.next, l2)\n",
    "    \n",
    "    return l1 or l2\n",
    "    # l1과 l2 중에 l1이 우선.\n",
    "    \n",
    "def sortList(head: ListNode):\n",
    "    if not head and not head.next:\n",
    "        return head\n",
    "    \n",
    "    #중간점을 찾기 위해 런너 기법 활용\n",
    "    mid, slow, fast = None, head, head\n",
    "    while fast and fast.next:\n",
    "        mid, slow, fast = slow, slow.next, fast.next.next\n",
    "    mid.next = None\n",
    "    \n",
    "    l1 = self.sortList(head)\n",
    "    l2 = self.sortList(low)\n",
    "    \n",
    "    return merge(l1, l2)"
   ]
  },
  {
   "cell_type": "markdown",
   "id": "b8f04ee1",
   "metadata": {},
   "source": [
    "## 구간 병합\n",
    "https://leetcode.com/problems/merge-intervals/"
   ]
  },
  {
   "cell_type": "markdown",
   "id": "b799f18c",
   "metadata": {},
   "source": [
    "Given an array of intervals where intervals[i] = [starti, endi], merge all overlapping intervals, and return an array of the non-overlapping intervals that cover all the intervals in the input.\n",
    "\n",
    " "
   ]
  },
  {
   "cell_type": "code",
   "execution_count": 15,
   "id": "4399847f",
   "metadata": {},
   "outputs": [],
   "source": [
    "from collections import deque\n",
    "def merge(intervals: list):\n",
    "    intervals.sort(key = lambda x: (x[0], x[1]))\n",
    "    \n",
    "    queue = deque(intervals)\n",
    "    \n",
    "    result = []\n",
    "    result.append(queue.popleft())\n",
    "    \n",
    "    i = 0\n",
    "    \n",
    "    while queue:\n",
    "        cons = queue.popleft()\n",
    "        if (result[i][0] <= cons[0]) and (result[i][1] >= cons[0]):\n",
    "            if cons[1] > result[i][1]:\n",
    "                result[i] = [result[i][0], cons[1]]\n",
    "            else:\n",
    "                result[i] = [result[i][0], result[i][1]]\n",
    "                \n",
    "        else:\n",
    "            result.append(cons)\n",
    "            i += 1\n",
    "            \n",
    "    return result"
   ]
  },
  {
   "cell_type": "markdown",
   "id": "bca633b6",
   "metadata": {},
   "source": [
    "## 가장 큰 수\n",
    "https://leetcode.com/problems/largest-number/"
   ]
  },
  {
   "cell_type": "markdown",
   "id": "4ac6539e",
   "metadata": {},
   "source": [
    "Given a list of non-negative integers nums, arrange them such that they form the largest number and return it.\n",
    "\n",
    "Since the result may be very large, so you need to return a string instead of an integer."
   ]
  },
  {
   "cell_type": "code",
   "execution_count": 7,
   "id": "2bec76ae",
   "metadata": {},
   "outputs": [],
   "source": [
    "from functools import cmp_to_key\n",
    "# 리스트 정렬 함수의 key 매개 변수에 사용되는 cmp_to_key 호출\n",
    "class Solution:\n",
    "    @staticmethod\n",
    "    #클래스내 method가 아닌 class 밖에서도 사용할 수 있는 전역 함수로 기능하게끔 하는 데코레이터\n",
    "    def compare(n1, n2):\n",
    "        if n1 + n2 < n2 + n1:\n",
    "            #두 개의 수를 이어 붙였을 때 뒤에 있는 수가 앞에 왔을 때 더 크다면\n",
    "            return 1\n",
    "            # 정렬할 때 두 개의 인자 (n1, n2) 중 뒤에 꺼를 앞에 정렬하라\n",
    "        else:\n",
    "            return -1\n",
    "            # 그렇지 않은 경우에는 n1을 먼저 정렬하라\n",
    "    # compare 함수는 cmp_to_key의 인자로 사용될 함수로 return 값으로 반드시 -1, 0, 1 을 받아야한다\n",
    "    \n",
    "    def largestNumber(nums: list):\n",
    "        for i, k in enumerate(nums):\n",
    "            nums[i] = str(k)\n",
    "            # str으로 변환된 것들도 크기 변환이 똑같이 가능함\n",
    "        \n",
    "        nums = sorted(nums, key = cmp_to_key(compare))\n",
    "        \n",
    "        return str(int(\"\".join(nums)))"
   ]
  },
  {
   "cell_type": "markdown",
   "id": "86c622d5",
   "metadata": {},
   "source": [
    "## 유효한 애너그램\n",
    "https://leetcode.com/problems/valid-anagram/"
   ]
  },
  {
   "cell_type": "markdown",
   "id": "02cf42c3",
   "metadata": {},
   "source": [
    "Given two strings s and t, return true if t is an anagram of s, and false otherwise.\n",
    "\n",
    "An Anagram is a word or phrase formed by rearranging the letters of a different word or phrase, typically using all the original letters exactly once."
   ]
  },
  {
   "cell_type": "code",
   "execution_count": 17,
   "id": "f2430426",
   "metadata": {},
   "outputs": [],
   "source": [
    "from collections import Counter\n",
    "def isAnagram(s: str, t: str):\n",
    "    return Counter(s) == Counter(t)"
   ]
  },
  {
   "cell_type": "markdown",
   "id": "1d742750",
   "metadata": {},
   "source": [
    "## 색 정렬\n",
    "https://leetcode.com/problems/sort-colors/"
   ]
  },
  {
   "cell_type": "markdown",
   "id": "c0f135f1",
   "metadata": {},
   "source": [
    "Given an array nums with n objects colored red, white, or blue, sort them in-place so that objects of the same color are adjacent, with the colors in the order red, white, and blue.\n",
    "\n",
    "We will use the integers 0, 1, and 2 to represent the color red, white, and blue, respectively.\n",
    "\n",
    "You must solve this problem without using the library's sort function"
   ]
  },
  {
   "cell_type": "markdown",
   "id": "738103e1",
   "metadata": {},
   "source": [
    "#### 퀵 정렬 이용"
   ]
  },
  {
   "cell_type": "code",
   "execution_count": 19,
   "id": "85a0127e",
   "metadata": {},
   "outputs": [],
   "source": [
    "def sortColors(nums: list):\n",
    "    def quicksort(A, lo, hi):\n",
    "        def partition(A, lo, hi):\n",
    "            pivot = A[hi]\n",
    "            left = lo\n",
    "            \n",
    "            for right in range(lo, hi):\n",
    "                if A[right] < pivot:\n",
    "                    A[left], A[right] = A[right], A[left]\n",
    "                    left += 1\n",
    "            A[left], A[hi] = A[hi], A[left]\n",
    "            return left\n",
    "        if lo < hi:\n",
    "            pivot = partition(A, lo, hi)\n",
    "            \n",
    "            quicksort(A, lo, pivot - 1)\n",
    "            quicksort(A, pivot + 1, hi)\n",
    "    \n",
    "    start = 0\n",
    "    end = len(nums) - 1\n",
    "    \n",
    "    quicksort(nums, start, end)"
   ]
  },
  {
   "cell_type": "markdown",
   "id": "ad3b1ab4",
   "metadata": {},
   "source": [
    "### one - way pass"
   ]
  },
  {
   "cell_type": "markdown",
   "id": "e1a5c7f3",
   "metadata": {},
   "source": [
    "색이 3개만 있으니 리스트의 앞에서부터 0을 만나면 앞쪽으로 옮기고\n",
    "리스트의 뒤에서부터 2를 만나면 뒤쪽으로 옮기면 1은 자연스럽게 가운데로 오게 됨"
   ]
  },
  {
   "cell_type": "code",
   "execution_count": 20,
   "id": "0312b6cd",
   "metadata": {},
   "outputs": [],
   "source": [
    "def sortColors2(nums: list):\n",
    "    l, r = 0, len(nums) - 1\n",
    "    i = 0\n",
    "    # i를 증가시키면서 l과 r이 가리키고 있는 값과 비교하여 자리를 바꿀 것임\n",
    "    \n",
    "    def swap(i, j):\n",
    "        nums[i], nums[j] = nums[j], nums[i]\n",
    "        # 함수 밖의 변수에 접근 가능\n",
    "        \n",
    "    while i <= r:\n",
    "        # i가 r 보다 크게 되면 loop break\n",
    "        # 조건은 2가지\n",
    "        if nums[i] == 0:\n",
    "            # i가 0이라면 앞으로 옮겨와야하므로 l과 자리 change\n",
    "            swap(l, i)\n",
    "            l += 1\n",
    "            # l의 자리와 바꿨다면 그 다음 자리로 이동\n",
    "        elif nums[i] == 2:\n",
    "            # i가 2라면 뒤로 옮겨와야하므로 r과 자리 change\n",
    "            swap(r, i)\n",
    "            r -= 1\n",
    "            # r의 자리와 바꿨다면 그 다음 자리로 이동(r은 뒤에서부터 거꾸로 오니까 decrement)\n",
    "            i -= 1\n",
    "            # 만약 i와 r을 자리바꿨는데 r = 0 -> 2 // i = 2 -> 0로 값이 바뀌었다면\n",
    "            # 이 다음 줄에서 i는 0의 다음 자리로 이동할 것임\n",
    "            # 근데 방금 바꾼 0은 앞으로 가야하므로 다음 loop가 실행될때까지 i는 자리를 이동하면 안돰\n",
    "            # 따라서 i를 미리 하나 줄여주고 다음 줄에서 i를 하나 증가해주면 가만히 있는게 됨\n",
    "            \n",
    "        i += 1\n",
    "        # 한 번 loop 실행마다 i는 계속 증가하여 다음 값과의 비교를 해줘야함\n"
   ]
  },
  {
   "cell_type": "markdown",
   "id": "31b0eb98",
   "metadata": {},
   "source": [
    "## 원점에 K번째로 가까운 점\n",
    "https://leetcode.com/problems/k-closest-points-to-origin/"
   ]
  },
  {
   "cell_type": "markdown",
   "id": "13a80a7b",
   "metadata": {},
   "source": [
    "Given an array of points where points[i] = [xi, yi] represents a point on the X-Y plane and an integer k, return the k closest points to the origin (0, 0).\n",
    "\n",
    "The distance between two points on the X-Y plane is the Euclidean distance (i.e., √(x1 - x2)2 + (y1 - y2)2).\n",
    "\n",
    "You may return the answer in any order. The answer is guaranteed to be unique (except for the order that it is in)."
   ]
  },
  {
   "cell_type": "code",
   "execution_count": 22,
   "id": "f0de5461",
   "metadata": {},
   "outputs": [],
   "source": [
    "import heapq\n",
    "def kCloset(points: list, k: int):\n",
    "    return heapq.nsmallest(k, points, key = lambda x: sqrt((x[0]**2) + (x[1]**2)))"
   ]
  },
  {
   "cell_type": "markdown",
   "id": "30c9320f",
   "metadata": {},
   "source": [
    "## 이진 검색\n",
    "https://leetcode.com/problems/binary-search/"
   ]
  },
  {
   "cell_type": "markdown",
   "id": "7bd0f309",
   "metadata": {},
   "source": [
    "Given an array of integers nums which is sorted in ascending order, and an integer target, write a function to search target in nums. If target exists, then return its index. Otherwise, return -1.\n",
    "\n",
    "You must write an algorithm with O(log n) runtime complexity."
   ]
  },
  {
   "cell_type": "markdown",
   "id": "94a49876",
   "metadata": {},
   "source": [
    "#### 이진 탐색 알고리즘 풀이"
   ]
  },
  {
   "cell_type": "code",
   "execution_count": 2,
   "id": "2326bcf3",
   "metadata": {},
   "outputs": [],
   "source": [
    "def search(nums: list, target: int):\n",
    "    l, r = 0, len(nums) - 1\n",
    "    \n",
    "    while l <= r:\n",
    "        mid = (l + r) // 2\n",
    "        \n",
    "        if nums[mid] < target:\n",
    "            l = mid + 1\n",
    "        elif nums[mid] > target:\n",
    "            r = mid - 1\n",
    "        else:\n",
    "            return mid\n",
    "        \n",
    "    return -1"
   ]
  },
  {
   "cell_type": "markdown",
   "id": "16cb12a4",
   "metadata": {},
   "source": [
    "#### 이진 검색 모듈 bisect 활용\n",
    "- bisect_left(a, x)는 정렬된 배열 a에서 x가 들어갈 index를 return 해주는데, 중요한 것은 x가 이미 a에 있을 때 a의 왼쪽 index를 return함\n",
    "- 이 때 원래 배열 안에 있던 x element의 순서는 한 칸 씩 오른쪽으로 이동한다고 가정\n",
    "- bisect_right(a, x)는 반대로 x가 이미 a에 있을 때 a의 오른쪽 index를 return함\n",
    "- bisect는 정렬된 배열을 만들 수 있도록 index를 주는 역할"
   ]
  },
  {
   "cell_type": "code",
   "execution_count": 17,
   "id": "438044ef",
   "metadata": {},
   "outputs": [],
   "source": [
    "from bisect import bisect_left, bisect_right\n",
    "def search2(nums: list, target: int):\n",
    "    index = bisect_left(nums, target)\n",
    "    # target이 들어갈 위치를 index로 받는 이유는 그 target이 배열에 이미 존재했었다면\n",
    "    # index 값에 target이 있을 것임\n",
    "    # 만약 index가 nums의 길이 이상의 index라면 target은 그 배열에 존재하지 않는 것임\n",
    "    if index < len(nums) and nums[index] == target:\n",
    "        return index\n",
    "    else:\n",
    "        return -1"
   ]
  },
  {
   "cell_type": "markdown",
   "id": "f15ae0f3",
   "metadata": {},
   "source": [
    "## 두 배열의 교집합\n",
    "https://leetcode.com/problems/intersection-of-two-arrays/"
   ]
  },
  {
   "cell_type": "markdown",
   "id": "0ea7600a",
   "metadata": {},
   "source": [
    "Given two integer arrays nums1 and nums2, return an array of their intersection. Each element in the result must be unique and you may return the result in any order."
   ]
  },
  {
   "cell_type": "code",
   "execution_count": 18,
   "id": "0bbe9980",
   "metadata": {},
   "outputs": [],
   "source": [
    "def intersection(nums1: list, nums2: list):\n",
    "    num1, nums2 = set(nums1), set(nums2)\n",
    "    \n",
    "    result = list(nums1.intersetion(nums2))\n",
    "    \n",
    "    return result"
   ]
  },
  {
   "cell_type": "markdown",
   "id": "53d6fd3f",
   "metadata": {},
   "source": [
    "## 두 수의 합 2\n",
    "https://leetcode.com/problems/two-sum-ii-input-array-is-sorted/"
   ]
  },
  {
   "cell_type": "markdown",
   "id": "841ca1c3",
   "metadata": {},
   "source": [
    "Given a 1-indexed array of integers numbers that is already sorted in non-decreasing order, find two numbers such that they add up to a specific target number. Let these two numbers be numbers[index1] and numbers[index2] where 1 <= index1 < index2 <= numbers.length.\n",
    "\n",
    "Return the indices of the two numbers, index1 and index2, added by one as an integer array [index1, index2] of length 2.\n",
    "\n",
    "The tests are generated such that there is exactly one solution. You may not use the same element twice.\n",
    "\n",
    "Your solution must use only constant extra space."
   ]
  },
  {
   "cell_type": "code",
   "execution_count": 19,
   "id": "87dab247",
   "metadata": {},
   "outputs": [],
   "source": [
    "from bisect import bisect_left\n",
    "def twoSum(numbers: list, target: int):\n",
    "    p = 0\n",
    "    \n",
    "    while True:\n",
    "        t = target - numbers[p]\n",
    "        i = bisect_left(numbers, t, lo = p + 1)\n",
    "        if i < len(numbers) and numbers[i] == t:\n",
    "            return [p + 1, i + 1]\n",
    "        p += 1"
   ]
  },
  {
   "cell_type": "markdown",
   "id": "ba48c1fe",
   "metadata": {},
   "source": [
    "## 2D 행렬 검색\n",
    "https://leetcode.com/problems/search-a-2d-matrix-ii/"
   ]
  },
  {
   "cell_type": "markdown",
   "id": "3ecfc314",
   "metadata": {},
   "source": [
    "Write an efficient algorithm that searches for a value target in an m x n integer matrix matrix. This matrix has the following properties:\n",
    "\n",
    "- Integers in each row are sorted in ascending from left to right.\n",
    "- Integers in each column are sorted in ascending from top to bottom.\n"
   ]
  },
  {
   "cell_type": "markdown",
   "id": "b03e5bb6",
   "metadata": {},
   "source": [
    "# 멋있게 풀려다 발린다"
   ]
  },
  {
   "cell_type": "code",
   "execution_count": 22,
   "id": "76b2fe36",
   "metadata": {},
   "outputs": [],
   "source": [
    "def searchMatix(matrix: list, target: int):\n",
    "    if not matrix:\n",
    "        return False\n",
    "    \n",
    "    i = 0\n",
    "    j = len(matrix[0]) - 1\n",
    "    \n",
    "    # 1행 끝에서부터 시작해서 값이 target보다 크면 아래로, 작으면 왼쪽으로\n",
    "    while i <= len(matrix) - 1 and j >= 0:\n",
    "        if target == matrix[i][j]:\n",
    "            return True\n",
    "        \n",
    "        elif target > matrix[i][j]:\n",
    "            i += 1\n",
    "        \n",
    "        elif target < matrix[i][j]:\n",
    "            j -= 1\n",
    "            \n",
    "    return False"
   ]
  },
  {
   "cell_type": "markdown",
   "id": "be734df5",
   "metadata": {},
   "source": [
    "# any(), all() 함수\n",
    "- any(list)는 list안에 하나라도 True가 있으면 True\n",
    "- all(list)는 list안에 하나라도 False가 있으면 False"
   ]
  },
  {
   "cell_type": "code",
   "execution_count": 23,
   "id": "abebf79a",
   "metadata": {},
   "outputs": [],
   "source": [
    "def searchMatrix2(matrix: list, target: int):\n",
    "    return any(target in row for row in matrix)"
   ]
  },
  {
   "cell_type": "markdown",
   "id": "57d1ea6d",
   "metadata": {},
   "source": [
    "## 최대 슬라이딩 윈도우\n",
    "https://leetcode.com/problems/sliding-window-maximum/"
   ]
  },
  {
   "cell_type": "markdown",
   "id": "f3c9902b",
   "metadata": {},
   "source": [
    "You are given an array of integers nums, there is a sliding window of size k which is moving from the very left of the array to the very right. You can only see the k numbers in the window. Each time the sliding window moves right by one position.\n",
    "\n",
    "Return the max sliding window."
   ]
  },
  {
   "cell_type": "markdown",
   "id": "bd7b9642",
   "metadata": {},
   "source": [
    "### 시간초과 뜨지만 큐를 이용한 쉬운 풀이"
   ]
  },
  {
   "cell_type": "code",
   "execution_count": 14,
   "id": "6bce1f6e",
   "metadata": {},
   "outputs": [],
   "source": [
    "from collections import deque\n",
    "def maxSlidingWindow(nums: list, k: int):\n",
    "    result = []\n",
    "    window = deque()\n",
    "    cur_max = float('-inf')\n",
    "    for index, p in enumerate(nums):\n",
    "        window.append(p)\n",
    "        if index < k - 1:\n",
    "            continue\n",
    "            # 최초 window 설정을 위한 조건\n",
    "        if cur_max == float('-inf'):\n",
    "            cur_max = max(window)\n",
    "            # 이것때문에 시간 초과가 뜰 수 있음\n",
    "        elif p > cur_max:\n",
    "            cur_max = p\n",
    "            \n",
    "        result.append(cur_max)\n",
    "        \n",
    "        if window.popleft() == cur_max:\n",
    "            # popleft를 조건문에 사용해되 실행되니까 좋은 Tip\n",
    "            cur_max = float('-inf')\n",
    "    return result"
   ]
  },
  {
   "cell_type": "markdown",
   "id": "c1977fd6",
   "metadata": {},
   "source": [
    "### indexing queue와 max를 사용하지 않는 정답 풀이"
   ]
  },
  {
   "cell_type": "code",
   "execution_count": 15,
   "id": "da084d0a",
   "metadata": {},
   "outputs": [],
   "source": [
    "def maxSlidingWindow2(nums: list, k: int):\n",
    "    output = []\n",
    "    q = deque()\n",
    "    # index를 담을 queue\n",
    "    l = r = 0\n",
    "    # 포인터 설정\n",
    "    \n",
    "    while r < len(nums):\n",
    "        # 오른쪽 포인터의 바운더리\n",
    "        while q and nums[q[-1]] < nums[r]:\n",
    "            # q의 맨 마지막 index가 가리키는 nums의 value가 새로 들어올 index가\n",
    "            # 가리키는 nums의 value보다 작다면 그 값은 필요 없는 것\n",
    "            q.pop()\n",
    "        q.append(r)\n",
    "        # 무조건 r을 넣어줌\n",
    "        \n",
    "        if l > q[0]:\n",
    "            q.popleft()\n",
    "            # q는 indexing queue이기 때문에 q의 맨 왼쪽값이 l보다 작다면 그 값은\n",
    "            # 이미 본 값이기 때문에 빼줌\n",
    "            \n",
    "        if (r + 1) >= k:\n",
    "            # window의 크기 바운더리\n",
    "            # 맨 처음 단계에서 k까지 가기위해서는 이 조건을 통과하지 않는 단계가\n",
    "            # 있지만 한번 window의 크기를 달성하면 그 다음 loop부터는 계속해서\n",
    "            # k보다 크거나 같기 때문에 이 조건을 만족함\n",
    "            output.append(nums[q[0]])\n",
    "            # 현재 q에 남아있는 index가 가장 큰 값임\n",
    "            # 왜냐하면 위에 while loop에서 새로 들어오는 값보다 작은 값들은 다 뺐기\n",
    "            # 때문임\n",
    "            l += 1\n",
    "        r += 1\n",
    "        \n",
    "    return output"
   ]
  },
  {
   "cell_type": "code",
   "execution_count": null,
   "id": "1eb7f6e7",
   "metadata": {},
   "outputs": [],
   "source": []
  }
 ],
 "metadata": {
  "kernelspec": {
   "display_name": "Python 3 (ipykernel)",
   "language": "python",
   "name": "python3"
  },
  "language_info": {
   "codemirror_mode": {
    "name": "ipython",
    "version": 3
   },
   "file_extension": ".py",
   "mimetype": "text/x-python",
   "name": "python",
   "nbconvert_exporter": "python",
   "pygments_lexer": "ipython3",
   "version": "3.9.7"
  }
 },
 "nbformat": 4,
 "nbformat_minor": 5
}
