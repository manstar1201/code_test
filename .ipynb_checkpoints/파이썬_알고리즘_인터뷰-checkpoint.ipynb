{
 "cells": [
  {
   "cell_type": "markdown",
   "id": "72505b71",
   "metadata": {},
   "source": [
    "## Generator"
   ]
  },
  {
   "cell_type": "code",
   "execution_count": 5,
   "id": "4f184f79",
   "metadata": {},
   "outputs": [],
   "source": [
    "def make_number():\n",
    "    n = 0\n",
    "    while True:\n",
    "        n += 1\n",
    "        yield n"
   ]
  },
  {
   "cell_type": "code",
   "execution_count": 6,
   "id": "e81e9aa9",
   "metadata": {},
   "outputs": [
    {
     "data": {
      "text/plain": [
       "<generator object make_number at 0x0000021E517306D0>"
      ]
     },
     "execution_count": 6,
     "metadata": {},
     "output_type": "execute_result"
    }
   ],
   "source": [
    "make_number()"
   ]
  },
  {
   "cell_type": "code",
   "execution_count": 7,
   "id": "9daf8bf2",
   "metadata": {},
   "outputs": [
    {
     "name": "stdout",
     "output_type": "stream",
     "text": [
      "1\n",
      "2\n",
      "3\n",
      "4\n",
      "5\n",
      "6\n",
      "7\n",
      "8\n",
      "9\n"
     ]
    }
   ],
   "source": [
    "g = make_number()\n",
    "for _ in range(1,10):\n",
    "    print(next(g))"
   ]
  },
  {
   "cell_type": "markdown",
   "id": "9b29da7b",
   "metadata": {},
   "source": [
    "## Enumerate"
   ]
  },
  {
   "cell_type": "code",
   "execution_count": 10,
   "id": "76993694",
   "metadata": {},
   "outputs": [
    {
     "name": "stdout",
     "output_type": "stream",
     "text": [
      "0 1\t1 2\t2 3\t3 4\t4 5\t5 6\t6 7\t7 8\t8 9\t"
     ]
    }
   ],
   "source": [
    "a = list(range(1,10))\n",
    "for i, j in enumerate(a):\n",
    "    print(i, j, end = '\\t')"
   ]
  },
  {
   "cell_type": "markdown",
   "id": "48503441",
   "metadata": {},
   "source": [
    "## Quetient + remainder function: divmod(m, n)"
   ]
  },
  {
   "cell_type": "code",
   "execution_count": 12,
   "id": "cd5ad10c",
   "metadata": {},
   "outputs": [
    {
     "name": "stdout",
     "output_type": "stream",
     "text": [
      "a = 1 b =  2 c = (1, 2)\n"
     ]
    }
   ],
   "source": [
    "a = 5 // 3\n",
    "b = 5 % 3\n",
    "c = divmod(5, 3)\n",
    "print('a =', a,'b = ', b, 'c =', c)"
   ]
  },
  {
   "cell_type": "markdown",
   "id": "2f22fb54",
   "metadata": {},
   "source": [
    "## list insert(idx, val) , remove(val)"
   ]
  },
  {
   "cell_type": "code",
   "execution_count": 13,
   "id": "a5b20278",
   "metadata": {},
   "outputs": [
    {
     "name": "stdout",
     "output_type": "stream",
     "text": [
      "['a', 'b', 'c', 'f', 'd', 'e']\n",
      "['a', 'b', 'c', 'f', 'd']\n"
     ]
    }
   ],
   "source": [
    "a = ['a','b','c','d','e']\n",
    "a.insert(3, 'f')\n",
    "print(a)\n",
    "a.remove('e')\n",
    "print(a)"
   ]
  },
  {
   "cell_type": "markdown",
   "id": "193b93f8",
   "metadata": {},
   "source": [
    "## Collection module \n",
    "### defaultdict : key에 값이 할당 되어 있지 않아도 잠재적으로 default값을 가지고 있는 dict"
   ]
  },
  {
   "cell_type": "code",
   "execution_count": 14,
   "id": "59dc5d61",
   "metadata": {},
   "outputs": [
    {
     "name": "stdout",
     "output_type": "stream",
     "text": [
      "defaultdict(<class 'int'>, {'A': 5, 'B': 6})\n",
      "defaultdict(<class 'int'>, {'A': 5, 'B': 6, 'C': 1})\n"
     ]
    }
   ],
   "source": [
    "from collections import defaultdict\n",
    "a = defaultdict(int)\n",
    "a['A'] = 5 # 값 할당\n",
    "a['B'] = 6\n",
    "print(a)\n",
    "a['C'] += 1 # 'C'에 value가 할당되어 있지 않더라도 잠재적으로 0이라는 default를 가지고 있기 때문에 연산 가능\n",
    "print(a)"
   ]
  },
  {
   "cell_type": "markdown",
   "id": "d12b30a0",
   "metadata": {},
   "source": [
    "### Counter: item의 개수를 {'item name' : 'the number of item\"}의 dict로 반환"
   ]
  },
  {
   "cell_type": "code",
   "execution_count": 9,
   "id": "40b9c64f",
   "metadata": {},
   "outputs": [
    {
     "name": "stdout",
     "output_type": "stream",
     "text": [
      "Counter({8: 5, 2: 3, 3: 2, 1: 1, 4: 1, 5: 1, 6: 1, 7: 1, 10: 1})\n",
      "8\n"
     ]
    }
   ],
   "source": [
    "from collections import Counter\n",
    "a = [1,2,3,4,3,2,2,5,6,7,8,8,8,8,8,10]\n",
    "b = Counter(a)\n",
    "print(b)\n",
    "print(b.most_common(1)[0][0]) # 가장 빈도수가 높은 key를 꺼내 줄 수 있음"
   ]
  },
  {
   "cell_type": "markdown",
   "id": "57c1ce58",
   "metadata": {},
   "source": [
    "## "
   ]
  },
  {
   "cell_type": "markdown",
   "id": "d4e9a77f",
   "metadata": {},
   "source": [
    "## 유효한 펠린드롬 https://leetcode.com/problems/valid-palindrome/"
   ]
  },
  {
   "cell_type": "code",
   "execution_count": 18,
   "id": "24f87109",
   "metadata": {},
   "outputs": [],
   "source": [
    "import re\n",
    "def isPalindrome(self, s: str) -> bool:\n",
    "    \n",
    "    match_list = re.findall('[a-zA-Z0-9]+', s)\n",
    "    s = ''.join(match_list)\n",
    "    list_s = list(s.lower())\n",
    "    \n",
    "    while list_s:\n",
    "        if len(list_s) == 1:\n",
    "            return True\n",
    "        elif list_s[0] == list_s[-1]:\n",
    "            list_s.pop(0)\n",
    "            list_s.pop(-1)\n",
    "            continue\n",
    "        else:\n",
    "            return False\n",
    "        \n",
    "    return True"
   ]
  },
  {
   "cell_type": "code",
   "execution_count": 19,
   "id": "eacd4a14",
   "metadata": {},
   "outputs": [],
   "source": [
    "from collections import deque\n",
    "def isPalindrome(self, s: str):\n",
    "    Deque = deque()\n",
    "    \n",
    "    for char in s:\n",
    "        if char.isalnum():\n",
    "            Deque.append(char.lower())\n",
    "            \n",
    "    while len(Deque) > 1:\n",
    "        if Deque.popleft() != Deque.pop():\n",
    "            return False\n",
    "        \n",
    "    return True"
   ]
  },
  {
   "cell_type": "code",
   "execution_count": 20,
   "id": "bfaec55e",
   "metadata": {},
   "outputs": [],
   "source": [
    "def isPalindrome(self, s: str):\n",
    "    s = s.lower()\n",
    "    \n",
    "    s = re.sub('[^a-z0-9]', '', s)\n",
    "    \n",
    "    return s == s[::-1]"
   ]
  },
  {
   "cell_type": "markdown",
   "id": "a1ca25c3",
   "metadata": {},
   "source": [
    "## 로그 파일 재정렬 https://leetcode.com/problems/reorder-data-in-log-files/"
   ]
  },
  {
   "cell_type": "code",
   "execution_count": 2,
   "id": "cc59e0aa",
   "metadata": {},
   "outputs": [],
   "source": [
    "def reorderLogFiles(self, logs):\n",
    "        \n",
    "    letters, digit = [], []\n",
    "        \n",
    "    for log in logs:\n",
    "        if log.split()[1].isdigit():\n",
    "            digit.append(log)\n",
    "        else:\n",
    "            letters.append(log)\n",
    "        \n",
    "    letters.sort(key= lambda x: (x.split()[1:], x.split()[0]))\n",
    "        \n",
    "    return letters + digit"
   ]
  },
  {
   "cell_type": "markdown",
   "id": "e8b36943",
   "metadata": {},
   "source": [
    "## 가장 흔한 단어 https://leetcode.com/problems/most-common-word/"
   ]
  },
  {
   "cell_type": "code",
   "execution_count": 13,
   "id": "0225c6b2",
   "metadata": {},
   "outputs": [],
   "source": [
    "import re\n",
    "from collections import Counter\n",
    "\n",
    "def mostCommonWord(self, paragraph: str, banned: list):\n",
    "        words = [word for word in re.sub(r'[^\\w]', ' ',paragraph).lower().split() if word not in banned]\n",
    "        \n",
    "        counts = Counter(words)\n",
    "        return counts.most_common(1)[0][0]"
   ]
  },
  {
   "cell_type": "markdown",
   "id": "70b17b7a",
   "metadata": {},
   "source": [
    "## 그룹 애너그램 https://leetcode.com/problems/group-anagrams/"
   ]
  },
  {
   "cell_type": "code",
   "execution_count": 19,
   "id": "3c9ffea7",
   "metadata": {},
   "outputs": [],
   "source": [
    "from collections import defaultdict\n",
    "def groupAnagrams(self, strs):\n",
    "    container = defaultdict(list)\n",
    "    \n",
    "    for item in strs:\n",
    "        container[''.join(sorted(item))].append(item)\n",
    "        \n",
    "    return list(container.values())"
   ]
  },
  {
   "cell_type": "markdown",
   "id": "08a78ea2",
   "metadata": {},
   "source": [
    "## 가장 긴 팰린드롬 부분 문자열 https://leetcode.com/problems/longest-palindromic-substring/"
   ]
  },
  {
   "cell_type": "code",
   "execution_count": 21,
   "id": "3b091ccc",
   "metadata": {},
   "outputs": [],
   "source": [
    "def longestPalindrome(self, s: str):\n",
    "    \n",
    "    def expand(left: int, right: int):\n",
    "        while (left >= 0) and (right < len(s)) and (s[left] == s[right]):\n",
    "            left -= 1\n",
    "            rigth += 1\n",
    "        return s[left + 1:right]\n",
    "    \n",
    "    if (len(s) < 2) or (s == s[::-1]):\n",
    "        return s\n",
    "    \n",
    "    result = ''\n",
    "    \n",
    "    for i in range(len(s)-1):\n",
    "        result = max(result, expand(i, i+1), expand(i, i+2), key = len)\n",
    "        \n",
    "    return result"
   ]
  },
  {
   "cell_type": "markdown",
   "id": "118bbf87",
   "metadata": {},
   "source": [
    "## 두 수의 합 https://leetcode.com/problems/two-sum/"
   ]
  },
  {
   "cell_type": "code",
   "execution_count": 2,
   "id": "e69b9b15",
   "metadata": {},
   "outputs": [],
   "source": [
    "def twoSum(self, nums, target: int):\n",
    "    result = []\n",
    "    for idx, val in enumerate(nums):\n",
    "        if target - val in nums[idx+1:]:\n",
    "            result.append(idx)\n",
    "            result.append(nums[idx+1:].index(target - val) + idx + 1)\n",
    "    return result"
   ]
  },
  {
   "cell_type": "code",
   "execution_count": 1,
   "id": "90d19fba",
   "metadata": {},
   "outputs": [],
   "source": [
    "def twoSum(self, nums, target: int):\n",
    "    nums_dict = {}\n",
    "    for idx, val in enumerate(nums):\n",
    "        if target - val in nums_dict:\n",
    "            return [idx, nums_dict[target - val]]\n",
    "        nums_dict[val] = idx"
   ]
  },
  {
   "cell_type": "markdown",
   "id": "aaf0f668",
   "metadata": {},
   "source": [
    "## 빗물 트래핑 https://leetcode.com/problems/trapping-rain-water/"
   ]
  },
  {
   "cell_type": "code",
   "execution_count": 10,
   "id": "4394d2b1",
   "metadata": {},
   "outputs": [],
   "source": [
    "def trap(self, height):\n",
    "    if not height:\n",
    "        return 0\n",
    "        \n",
    "    left, right = 0, len(height) - 1\n",
    "    l_max, r_max = height[left], height[right]\n",
    "    result = 0\n",
    "        \n",
    "    while left < right:\n",
    "        if l_max < r_max:\n",
    "            left += 1\n",
    "            l_max = max(l_max, height[left])\n",
    "            result += l_max - height[left]\n",
    "        else:\n",
    "            right -= 1\n",
    "            r_max = max(r_max, height[right])\n",
    "            result += r_max - height[right]\n",
    "                \n",
    "    return result"
   ]
  },
  {
   "cell_type": "markdown",
   "id": "5329f458",
   "metadata": {},
   "source": [
    "## 3Sum https://leetcode.com/problems/3sum/"
   ]
  },
  {
   "cell_type": "code",
   "execution_count": 3,
   "id": "1ca1bdc1",
   "metadata": {},
   "outputs": [],
   "source": [
    "def threeSum(self, nums):\n",
    "    result = []\n",
    "    nums.sort()\n",
    "        \n",
    "    for i in range(len(nums)-2):\n",
    "            \n",
    "        if (i > 0) and (nums[i] == nums[i-1]):\n",
    "            continue\n",
    "        \n",
    "        left, right = i + 1, len(nums) - 1\n",
    "        \n",
    "        while left < right:\n",
    "            sums = nums[i] + nums[left] + nums[right]\n",
    "            if sums < 0:\n",
    "                left += 1\n",
    "            elif sums > 0:\n",
    "                right -= 1\n",
    "            else:\n",
    "                result.append([nums[i], nums[left], nums[right]])\n",
    "                \n",
    "                while (left < right) and (nums[left] == nums[left + 1]):\n",
    "                    left += 1\n",
    "                while (left < right) and (nums[right] == nums[right - 1]):\n",
    "                    right -= 1\n",
    "                    \n",
    "                left += 1\n",
    "                right -= 1\n",
    "                \n",
    "    return result"
   ]
  },
  {
   "cell_type": "markdown",
   "id": "4fe6a02c",
   "metadata": {},
   "source": [
    "## 배열 파티션 1 https://leetcode.com/problems/array-partition-i/"
   ]
  },
  {
   "cell_type": "code",
   "execution_count": 4,
   "id": "fd928388",
   "metadata": {},
   "outputs": [],
   "source": [
    "def arrayPairSum(self, nums):\n",
    "    nums.sort()\n",
    "    result = 0\n",
    "    for i in range(len(nums)):\n",
    "        if i % 2 == 0:\n",
    "            result += nums[i]\n",
    "    return result"
   ]
  },
  {
   "cell_type": "code",
   "execution_count": 9,
   "id": "b8152d5a",
   "metadata": {},
   "outputs": [],
   "source": [
    "def arrayPairSum(nums):\n",
    "    return sum(sorted(nums)[::2])"
   ]
  },
  {
   "cell_type": "markdown",
   "id": "fbc58665",
   "metadata": {},
   "source": [
    "## 자신을 제외한 배열의 곱 https://leetcode.com/problems/product-of-array-except-self/"
   ]
  },
  {
   "cell_type": "code",
   "execution_count": 11,
   "id": "34f76e3e",
   "metadata": {},
   "outputs": [],
   "source": [
    "def productExceptSelf(self, nums):\n",
    "    out = []\n",
    "    \n",
    "    p = 1\n",
    "    for i in range(len(nums)):\n",
    "        out.append(p)\n",
    "        p = p * nums[i]\n",
    "        \n",
    "    p = 1\n",
    "    for i in range(len(nums)-1, -1, -1):\n",
    "        out[i] = out[i] * p\n",
    "        p = p * nums[i]\n",
    "        \n",
    "    return out"
   ]
  },
  {
   "cell_type": "markdown",
   "id": "41b50eb5",
   "metadata": {},
   "source": [
    "## 주식을 사고팔기 가장 좋은 시점 https://leetcode.com/problems/best-time-to-buy-and-sell-stock/"
   ]
  },
  {
   "cell_type": "code",
   "execution_count": 13,
   "id": "8dd0b22a",
   "metadata": {},
   "outputs": [],
   "source": [
    "import sys\n",
    "\n",
    "class Solution:\n",
    "    def maxProfit(self, prices):\n",
    "        profit = 0\n",
    "        min_price = sys.maxsize\n",
    "        \n",
    "        for price in prices:\n",
    "            min_price = min(min_price, price)\n",
    "            profit = max(profit, price - min_price)\n",
    "            \n",
    "        return profit"
   ]
  },
  {
   "cell_type": "markdown",
   "id": "8ec3af1e",
   "metadata": {},
   "source": [
    "## 팰린드롬 연결 리스트 https://leetcode.com/problems/palindrome-linked-list/"
   ]
  },
  {
   "cell_type": "code",
   "execution_count": 1,
   "id": "46b990fc",
   "metadata": {},
   "outputs": [],
   "source": [
    "def isPalindrome(self, head):\n",
    "    rev = None\n",
    "    slow = fast = head\n",
    "    while fast and fast.next:\n",
    "        fast = fast.next.next\n",
    "        rev, rev.next, slow = slow, rev, slow.next\n",
    "    if fast:\n",
    "        slow = slow.next\n",
    "            \n",
    "    while rev and rev.val == slow.val:\n",
    "        slow, rev = slow.next, rev.next\n",
    "    return not rev"
   ]
  },
  {
   "cell_type": "markdown",
   "id": "00f83a8a",
   "metadata": {},
   "source": [
    "## 두 정렬 리스트의 병합 https://leetcode.com/problems/merge-two-sorted-lists/"
   ]
  },
  {
   "cell_type": "code",
   "execution_count": 1,
   "id": "4bb6c89c",
   "metadata": {},
   "outputs": [],
   "source": [
    "def mergeTwoLists(self, list1, list2):\n",
    "    if (not list1) or (list2 and list1.val > list2.val):\n",
    "        list1, list2 = list1, list2\n",
    "    if list1:\n",
    "        list1.next = self.mergeTwoLists(list1.next, list2)\n",
    "    return list1"
   ]
  },
  {
   "cell_type": "code",
   "execution_count": 2,
   "id": "e444e39a",
   "metadata": {},
   "outputs": [],
   "source": [
    "class ListNode:\n",
    "    def __init__(self, val=0, next=None):\n",
    "            self.val = val\n",
    "            self.next = next\n",
    "def mergeTwoLists(self, l1, l2):\n",
    "    dummy = ListNode()\n",
    "    tail = dummy\n",
    "    \n",
    "    while l1 and l2:\n",
    "        if l1.value > l2.value:\n",
    "            tail.next = l1\n",
    "            l1 = l1.next\n",
    "        else:\n",
    "            tail.next = l2\n",
    "            l2 = l2.next\n",
    "            \n",
    "        tail = tail.next\n",
    "    \n",
    "    if l1:\n",
    "        tail.next = l1\n",
    "    elif l2:\n",
    "        tail.next = l2\n",
    "        \n",
    "    return dummy.next"
   ]
  },
  {
   "cell_type": "markdown",
   "id": "ec6b3269",
   "metadata": {},
   "source": [
    "## 역순 연결 리스트 https://leetcode.com/problems/reverse-linked-list/"
   ]
  },
  {
   "cell_type": "code",
   "execution_count": 3,
   "id": "d207f586",
   "metadata": {},
   "outputs": [],
   "source": [
    "def reverseList(self, head):\n",
    "    def reverse(curr, prev: ListNode = None):\n",
    "        if not head:\n",
    "            return prev\n",
    "        nxt, curr.next = curr.next, prev\n",
    "        return reverse(nxt, curr)\n",
    "    return reverse(head)"
   ]
  },
  {
   "cell_type": "code",
   "execution_count": 5,
   "id": "138cc04c",
   "metadata": {},
   "outputs": [],
   "source": [
    "class Solution:\n",
    "    def reverseList(self, head):\n",
    "        prev, curr = None, head\n",
    "        \n",
    "        while curr:\n",
    "            nxt, curr.next = curr.next, prev\n",
    "            prev, curr = curr, nxt\n",
    "            \n",
    "        return prev"
   ]
  },
  {
   "cell_type": "markdown",
   "id": "e1a75b04",
   "metadata": {},
   "source": [
    "## 두 수의 덧셈 https://leetcode.com/problems/add-two-numbers/"
   ]
  },
  {
   "cell_type": "code",
   "execution_count": 7,
   "id": "d60459f8",
   "metadata": {},
   "outputs": [],
   "source": [
    "def addTwoNumbers(l1, l2):\n",
    "    dummy = ListNode()\n",
    "    tail = dummy\n",
    "    \n",
    "    carry = 0\n",
    "    \n",
    "    while l1 or l2 or carry:\n",
    "        summ = 0 \n",
    "        if l1:\n",
    "            summ += l1.val\n",
    "            l1 = l1.next\n",
    "        elif l2:\n",
    "            summ += l2.val\n",
    "            l2 = l2.next\n",
    "        \n",
    "        carry, value = divmod(summ + carry, 10)\n",
    "        tail.next = ListNode(value)\n",
    "        tail = tail.next\n",
    "    \n",
    "    return dummy.next"
   ]
  },
  {
   "cell_type": "markdown",
   "id": "7c7cf927",
   "metadata": {},
   "source": [
    "## 페어의 노드 스왑 https://leetcode.com/problems/swap-nodes-in-pairs/"
   ]
  },
  {
   "cell_type": "code",
   "execution_count": 2,
   "id": "a964e8c6",
   "metadata": {},
   "outputs": [],
   "source": [
    "def swapPairs(self, head):\n",
    "    dummy = ListNode(0, head)\n",
    "    prev, curr = dummy, head\n",
    "        \n",
    "    while curr and curr.next:\n",
    "        #save ptrs\n",
    "        nextpair = curr.next.next\n",
    "        second = curr.next\n",
    "            \n",
    "        #swap nodes\n",
    "        second.next = curr\n",
    "        curr.next = nextpair\n",
    "        prev.next = second\n",
    "            \n",
    "        #change ptrs\n",
    "        prev = curr\n",
    "        curr = nextpair\n",
    "        \n",
    "    return dummy.next"
   ]
  },
  {
   "cell_type": "markdown",
   "id": "38020a43",
   "metadata": {},
   "source": [
    "## 홀짝 연결 리스트 https://leetcode.com/problems/odd-even-linked-list/"
   ]
  },
  {
   "cell_type": "code",
   "execution_count": 1,
   "id": "cd5b754c",
   "metadata": {},
   "outputs": [],
   "source": [
    "def oddEvenList(self, head):\n",
    "    #head의 값을 전체 복사\n",
    "    odd = head\n",
    "    #head.next의 값을 전체 복사\n",
    "    even = head.next\n",
    "    #head.next의 값을 전체 복사 because 나중에 odd 뒤에 붙이기 위해\n",
    "    even_head = head.next\n",
    "    \n",
    "    while even and even.next:\n",
    "        #odd의 다음 값을 정해주는 일 = head를 바꾸는 일\n",
    "        #even의 다음 값을 정해주는 일 = head.next를 바꾸는 일\n",
    "        #head.next와 head는 서로 다른 참조임\n",
    "        odd.next, even.next = odd.next.next, even.next.next\n",
    "        odd, even = odd.next, even.next\n",
    "        \n",
    "    odd.next = even_head\n",
    "    return head"
   ]
  },
  {
   "cell_type": "markdown",
   "id": "7425813d",
   "metadata": {},
   "source": [
    "## 역순 연결 리스트 2 https://leetcode.com/problems/reverse-linked-list-ii/"
   ]
  },
  {
   "cell_type": "code",
   "execution_count": 2,
   "id": "9f9374ad",
   "metadata": {},
   "outputs": [],
   "source": [
    "def reverseBetween(self, head, left: int, right: int):\n",
    "    dummy = ListNode(0, head)\n",
    "    \n",
    "    ## dummy, head를 제외한 모두 다 pointer의 개념으로 접근해야 이해하기 쉬움!!!!\n",
    "    \n",
    "    leftprev, cur = dummy, head\n",
    "    \n",
    "    for _ in range(left - 1):\n",
    "        leftprev, cur = leftprev.next, cur.next\n",
    "    \n",
    "    prev = None\n",
    "    \n",
    "    for _ in range(right - left + 1):\n",
    "        nxt = cur.next\n",
    "        cur.next = prev\n",
    "        prev, cur = cur, nxt\n",
    "\n",
    "    leftprev.next.next = cur\n",
    "    leftprev.next = prev\n",
    "    \n",
    "    return dummy.next"
   ]
  },
  {
   "cell_type": "markdown",
   "id": "bd47c121",
   "metadata": {},
   "source": [
    "## 유효한 괄호 https://leetcode.com/problems/valid-parentheses/"
   ]
  },
  {
   "cell_type": "code",
   "execution_count": 12,
   "id": "414915ec",
   "metadata": {},
   "outputs": [],
   "source": [
    "def isValid(s: str):\n",
    "    stack = []\n",
    "    mapping = {')' : '(', ']' : '[', '}' : '{'}\n",
    "    \n",
    "    for c in s:\n",
    "        # dict 구조에서는 key값을 in 으로 판단 가능\n",
    "        if c in mapping:\n",
    "            if stack and stack[-1] == mapping[c]:\n",
    "                stack.pop()\n",
    "            else:\n",
    "                return False\n",
    "        else:\n",
    "            stack.append(c)\n",
    "        \n",
    "    return True if not stack else False"
   ]
  },
  {
   "cell_type": "markdown",
   "id": "b2fa6134",
   "metadata": {},
   "source": [
    "## 중복 문자 제거 https://leetcode.com/problems/remove-duplicate-letters/"
   ]
  },
  {
   "cell_type": "code",
   "execution_count": 44,
   "id": "633c7b38",
   "metadata": {},
   "outputs": [],
   "source": [
    "def removeDuplicateLetters(s: str):\n",
    "    stack = []\n",
    "    \n",
    "    for idx, c in enumerate(s):\n",
    "        if not stack:\n",
    "            stack.append(c)\n",
    "            continue\n",
    "        \n",
    "        elif c in stack:\n",
    "            continue\n",
    "        \n",
    "        while stack and (stack[-1] in s[idx:]) and (stack[-1] > c):\n",
    "            stack.pop()\n",
    "        \n",
    "        stack.append(c)\n",
    "        \n",
    "    return ''.join(stack)"
   ]
  },
  {
   "cell_type": "markdown",
   "id": "a22113b5",
   "metadata": {},
   "source": [
    "## 일일 온도 https://leetcode.com/problems/daily-temperatures/"
   ]
  },
  {
   "cell_type": "code",
   "execution_count": 1,
   "id": "c64535dd",
   "metadata": {},
   "outputs": [],
   "source": [
    "def dailyTemperatures(temperatures: list):\n",
    "    # Indexing을 위해 미리 temperatures 길이만큼의 리스트를 만들어 둠\n",
    "    answer = [0] * len(temperatures)\n",
    "    \n",
    "    # temperature의 Index를 저장하기 위한 stack\n",
    "    stack = []\n",
    "    \n",
    "    for idx, temperature in enumerate(temperatures):\n",
    "        \n",
    "        while stack and (temperature > temperatures[stack[-1]]):\n",
    "            last_temp_idx = stack.pop()\n",
    "            answer[last_temp_idx] = idx - last_temp_idx\n",
    "            \n",
    "        stack.append(idx)\n",
    "    \n",
    "    return answer"
   ]
  },
  {
   "cell_type": "markdown",
<<<<<<< HEAD
   "id": "f87cc7c4",
   "metadata": {},
   "source": [
    "## 큐를 이용한 스택 구현 https://leetcode.com/problems/implement-stack-using-queues"
=======
   "id": "68d42ee8",
   "metadata": {},
   "source": [
    "## k개 정렬 리스트 병합 https://leetcode.com/problems/merge-k-sorted-lists/"
>>>>>>> 0b934fc92609d025e1d13244d557b7900f08f5c9
   ]
  },
  {
   "cell_type": "code",
<<<<<<< HEAD
   "execution_count": 1,
   "id": "5289b396",
   "metadata": {},
   "outputs": [],
   "source": [
    "# queue는 선입 선출 vs stack은 후입 선출\n",
    "# 선입 선출을 통해서 후입 선출은 구현\n",
    "\n",
    "from collections import deque\n",
    "class MyStack:\n",
    "    \n",
    "    def __init__(self):\n",
    "        self.q = deque()\n",
    "        \n",
    "    def push(self, x: int):\n",
    "        self.q.append(x)\n",
    "        ## queue에는 popleft기능만 써야하므로 맨 나중에 넣은 아이템이 리스트 맨 처음으로 와야 함\n",
    "        for _ in range(len(self.q) - 1):\n",
    "            self.q.append(self.q.popleft())\n",
    "    \n",
    "    def pop(self):\n",
    "        return self.q.popleft()\n",
    "    \n",
    "    def top(self):\n",
    "        return self.q[0]\n",
    "    \n",
    "    def empty(self):\n",
    "        return True if not self.q else False"
=======
   "execution_count": 3,
   "id": "49f97d78",
   "metadata": {},
   "outputs": [],
   "source": [
    "import heapq\n",
    "class Solution:\n",
    "    def mergeKLists(self, lists):\n",
    "        dummy = ListNode()\n",
    "        tail = dummy\n",
    "        \n",
    "        heap = []\n",
    "        for i in range(len(lists)):\n",
    "            if lists[i]:\n",
    "                heapq.heappush(heap, (lists[i].val, i, lists[i]))\n",
    "                # i index는 사용하지는 않지만 중복처리를 위해 씀\n",
    "                # list[i].val은 root만 가져옴\n",
    "        while heap:\n",
    "            node = heapq.heappop(heap)\n",
    "            #어차피 heap에 저장하는 순간 min heap으로 정렬이 된 상태기 때문에 pop만 하면 됨\n",
    "            idx = node[1]\n",
    "            tail.next = node[2]\n",
    "            \n",
    "            tail = tail.next\n",
    "            \n",
    "            if tail.next:\n",
    "                heapq.heappush(heap, (tail.next.val, idx, tail.next))\n",
    "                #맨 앞 node를 꺼냈으면 그 다음 연결 리스트는 다시 heap에 root로 저장하면 됨\n",
    "            \n",
    "        return dummy.next"
   ]
  },
  {
   "cell_type": "markdown",
   "id": "e7fc47fe",
   "metadata": {},
   "source": [
    "## 해시맵 디자인 https://leetcode.com/problems/design-hashmap/submissions/"
>>>>>>> 0b934fc92609d025e1d13244d557b7900f08f5c9
   ]
  },
  {
   "cell_type": "code",
<<<<<<< HEAD
   "execution_count": 4,
   "id": "90bf8bb7",
   "metadata": {},
   "outputs": [],
   "source": [
    "a =[2]+[4]"
=======
   "execution_count": 19,
   "id": "bfe9234d",
   "metadata": {},
   "outputs": [],
   "source": [
    "class MyHashMap:\n",
    "\n",
    "    def __init__(self):\n",
    "        self.hash = [-1 for _ in range(1000001)]\n",
    "\n",
    "    def put(self, key: int, value: int) -> None:\n",
    "        self.hash[key] = value\n",
    "        return\n",
    "        \n",
    "\n",
    "    def get(self, key: int) -> int:\n",
    "        return self.hash[key]\n",
    "    \n",
    "    def remove(self, key: int) -> None:\n",
    "        self.hash[key] = -1\n",
    "        return"
>>>>>>> 0b934fc92609d025e1d13244d557b7900f08f5c9
   ]
  },
  {
   "cell_type": "code",
<<<<<<< HEAD
   "execution_count": 5,
   "id": "6f0edc6e",
   "metadata": {},
   "outputs": [
    {
     "data": {
      "text/plain": [
       "[2, 4, 1]"
      ]
     },
     "execution_count": 5,
     "metadata": {},
     "output_type": "execute_result"
    }
   ],
   "source": [
    "a + [1]"
=======
   "execution_count": 53,
   "id": "4ba1e057",
   "metadata": {},
   "outputs": [],
   "source": [
    "def solution(p):\n",
    "    answer = [0 for _ in range(len(p))]\n",
    "    \n",
    "    n = len(p)\n",
    "    i = 0\n",
    "\n",
    "    while i < n:\n",
    "        j = p.index(min(p[i:]))\n",
    "\n",
    "        if i != j:\n",
    "            p[i], p[j] = p[j], p[i]\n",
    "            answer[i] += 1\n",
    "            answer[j] += 1\n",
    "            \n",
    "        i += 1\n",
    "    \n",
    "    return answer"
>>>>>>> 0b934fc92609d025e1d13244d557b7900f08f5c9
   ]
  },
  {
   "cell_type": "code",
   "execution_count": null,
<<<<<<< HEAD
   "id": "c35aacc1",
=======
   "id": "d5aad685",
   "metadata": {},
   "outputs": [],
   "source": [
    "def solution(periods, payments, estimates):\n",
    "\n",
    "    answer = []\n",
    "    next_month_vip = 0\n",
    "    next_month_non_vip = 0\n",
    "\n",
    "    for i, j in enumerate(periods):\n",
    "\n",
    "        if j + 1 < 24:\n",
    "            continue\n",
    "        \n",
    "        elif j + 1 == 24:\n",
    "            if sum(payments[i][1:]) + estimates[i] >= 900000:\n",
    "                next_month_vip += 1\n",
    "                continue\n",
    "        \n",
    "        elif 25 <= j + 1 < 59:\n",
    "            if (sum(payments[i]) >= 900000) and (sum(payments[i][1:]) + estimates[i] < 900000):\n",
    "                next_month_non_vip += 1\n",
    "                continue\n",
    "            elif (sum(payments[i]) < 900000) and (sum(payments[i][1:]) + estimates[i] >= 900000):\n",
    "                next_month_vip += 1\n",
    "                continue\n",
    "        \n",
    "        elif j + 1 == 60:\n",
    "            if (sum(payments[i]) >= 900000) and (sum(payments[i][1:]) + estimates[i] < 600000):\n",
    "                next_month_non_vip += 1\n",
    "                continue\n",
    "            elif (sum(payments[i]) < 900000) and (sum(payments[i][1:]) + estimates[i] >= 600000):\n",
    "                next_month_vip += 1\n",
    "                continue\n",
    "        \n",
    "        else:\n",
    "            if (sum(payments[i]) >= 600000) and (sum(payments[i][1:]) + estimates[i] < 600000):\n",
    "                next_month_non_vip += 1\n",
    "                continue\n",
    "            elif (sum(payments[i]) < 600000) and (sum(payments[i][1:]) + estimates[i] >= 600000):\n",
    "                next_month_vip += 1\n",
    "                continue\n",
    "\n",
    "    answer = [next_month_vip, next_month_non_vip]\n",
    "\n",
    "    return answer"
   ]
  },
  {
   "cell_type": "code",
   "execution_count": null,
   "id": "7760a34a",
   "metadata": {},
   "outputs": [],
   "source": [
    "def solution(n, plans, clients):\n",
    "    answer = []\n",
    "\n",
    "    pro_data = []\n",
    "    pro_services = []\n",
    "\n",
    "    for i in plans:\n",
    "        raw = [int(j) for j in i.split()]\n",
    "        pro_data.append(raw[0])\n",
    "        pro_services.append(raw[1:])\n",
    "\n",
    "    temp_1 = []\n",
    "\n",
    "    for i, j in enumerate(pro_services):\n",
    "        pro_services[i] += temp_1\n",
    "        pro_services[i].sort()\n",
    "        temp_1 += j\n",
    "    \n",
    "    for value in clients:\n",
    "        temp_2 = 0\n",
    "        cont = [int(i) for i in value.split()]\n",
    "        wanting_service = set(cont[1:])\n",
    "        for index, service in enumerate(pro_services):\n",
    "            if wanting_service.intersection(set(service)) == wanting_service:\n",
    "                if pro_data[index] >= cont[0]:\n",
    "                    temp_2 = index + 1\n",
    "                    break\n",
    "        answer.append(temp_2)\n",
    "\n",
    "    return answer"
   ]
  },
  {
   "cell_type": "markdown",
   "id": "3919ea78",
   "metadata": {},
   "source": [
    "## 보석과 돌 https://leetcode.com/problems/jewels-and-stones/"
   ]
  },
  {
   "cell_type": "code",
   "execution_count": 10,
   "id": "482f7fe4",
   "metadata": {},
   "outputs": [],
   "source": [
    "from collections import Counter\n",
    "def numJewelsInStones(jewels: str, stones: str):\n",
    "    my_dict = Counter(stones)\n",
    "    result = 0\n",
    "    for i in jewels:\n",
    "        result += my_dict[i]\n",
    "    return result"
   ]
  },
  {
   "cell_type": "markdown",
   "id": "4f6e1497",
   "metadata": {},
   "source": [
    "## 중복 문자 없는 가장 긴 부분 문자열 https://leetcode.com/problems/longest-substring-without-repeating-characters/"
   ]
  },
  {
   "cell_type": "code",
   "execution_count": 33,
   "id": "6fa13521",
   "metadata": {},
   "outputs": [],
   "source": [
    "def lengthOfLongestSubstring(s: str):\n",
    "    max_number = 0\n",
    "    # max_number를 0으로 초기화한 다음 한 루프마다 max값과 각각의 string의 길이를 비교함\n",
    "    \n",
    "    if len(s) == 0:\n",
    "        return 0\n",
    "    # 예외처리\n",
    "    \n",
    "    for i in range(len(s)):\n",
    "        #앞에서부터 포인터 한개씩 이동 (sliding window)\n",
    "        if len(s[i:]) <= max_number:\n",
    "            break\n",
    "            #남아있는 string의 길이가 max_number보다 이미 작다면 중단\n",
    "        cont = ''\n",
    "        # 비교할 container\n",
    "        right = i\n",
    "        # 각 루프마다 한 개씩 오른쪽으로 이동할 오른쪽 포인터\n",
    "        while s[right] not in cont:\n",
    "            cont += s[right]\n",
    "            max_number = max(max_number, len(cont))\n",
    "            right += 1\n",
    "            if right == len(s):\n",
    "                break\n",
    "                # 포인터가 index를 넘어간다면 while 종료\n",
    "                \n",
    "    return max_number"
   ]
  },
  {
   "cell_type": "markdown",
   "id": "2631e09d",
   "metadata": {},
   "source": [
    "## 상위 K 빈도 요소 https://leetcode.com/problems/top-k-frequent-elements/"
   ]
  },
  {
   "cell_type": "code",
   "execution_count": 39,
   "id": "80da7d0c",
   "metadata": {},
   "outputs": [],
   "source": [
    "from collections import Counter\n",
    "def topKFrequent(nums: list, k: int):\n",
    "    return [i for i, j in Counter(nums).most_common(k)]"
   ]
  },
  {
   "cell_type": "markdown",
   "id": "e7d10458",
   "metadata": {},
   "source": [
    "## 그래프 기본\n",
    "- DFS(깊이 우선 탐색) : 재귀 or 스택"
   ]
  },
  {
   "cell_type": "markdown",
   "id": "459d3316",
   "metadata": {},
   "source": [
    "1. 재귀"
   ]
  },
  {
   "cell_type": "code",
   "execution_count": 4,
   "id": "8f6f469f",
   "metadata": {},
   "outputs": [],
   "source": [
    "def recursive_dfs(v, discovered = []):\n",
    "    # v는 시작 node\n",
    "    discovered.append(v)\n",
    "    # 기본 동작\n",
    "    for w in graph[v]:\n",
    "        if w not in discovered:\n",
    "            # w를 방문하지 않았다면 재귀\n",
    "            discovered = recursive_dfs(w, discovered)\n",
    "            # 결과를 discovered 변수에 저장해둬야 함\n",
    "    return discovered"
   ]
  },
  {
   "cell_type": "markdown",
   "id": "c6648d73",
   "metadata": {},
   "source": [
    "2. 스택"
   ]
  },
  {
   "cell_type": "code",
   "execution_count": 5,
   "id": "d12c1a7a",
   "metadata": {},
   "outputs": [],
   "source": [
    "def iteratvie_dfs(strat_v):\n",
    "    # 재귀와는 다르게 첫 시작 node만 인자로 받지 않음\n",
    "    discovered = []\n",
    "    stack = [start_v]\n",
    "    # 시작 node를 stack에 넣어놓고 시작\n",
    "    # 스택은 앞으로 방문할 리스트\n",
    "    while stack:\n",
    "        v = stack.pop()\n",
    "        # 맨 마지막 값을 먼저 불러오기 때문에 역순으로 dfs가 수행\n",
    "        if v not in discovered:\n",
    "            discovered.append(v)\n",
    "            for w in graph[v]:\n",
    "                stack.append(w)\n",
    "    return discovered"
   ]
  },
  {
   "cell_type": "markdown",
   "id": "e0e6e599",
   "metadata": {},
   "source": [
    "- BFS(넓이 우선 탐색): 재귀 구현 불가 and only queue & 반복구조"
   ]
  },
  {
   "cell_type": "markdown",
   "id": "ab1e5c1f",
   "metadata": {},
   "source": [
    "1. queue + 반복"
   ]
  },
  {
   "cell_type": "code",
   "execution_count": 6,
   "id": "6d359aff",
   "metadata": {},
   "outputs": [],
   "source": [
    "def iterative_bfs(start_v):\n",
    "    # 재귀가 아니므로 첫 시작만 인자로 받음\n",
    "    discovered = []\n",
    "    queue = [start_v]\n",
    "    # 시작 node를 queue에 넣어놓고 시작\n",
    "    # 큐는 앞으로 방문할 리스트\n",
    "    while queue:\n",
    "        v = queue.pop(0)\n",
    "        for w in graph[v]:\n",
    "            if w not in discovered:\n",
    "                discovered.append(w)\n",
    "                queue.append(w)\n",
    "                # bfs는 방문리스트에 있는지 먼저 판단한 후에 없으면 해당 node를 방문리스트에 넣고 그 node에 연결된 다른 node을 모두\n",
    "                # 방문 예정 리스트에 넣어둔 반면\n",
    "                # dfs는 해당 node에 연결된 모든 node를 먼저 돌아간 후에 각 node가 방문리스트에 있는지 판단한 다음 만약 방문 리스트에\n",
    "                # 없다면 방문리스트에 추가 후에 방문 예정 리스트에 각 node를 넣어둠\n",
    "    return discovered"
   ]
  },
  {
   "cell_type": "markdown",
   "id": "8bb6e819",
   "metadata": {},
   "source": [
    "## 섬의 개수 https://leetcode.com/problems/number-of-islands/"
   ]
  },
  {
   "cell_type": "code",
   "execution_count": 13,
   "id": "db3d8b2c",
   "metadata": {},
   "outputs": [],
   "source": [
    "def numIsland(grid: list):\n",
    "    m = len(grid)\n",
    "    n = len(grid[0])\n",
    "    \n",
    "    def recursive_dfs(x, y, visited):\n",
    "        \n",
    "        if (x < 0) or (x >= m) or (y < 0) or (y >= n):\n",
    "            return visited\n",
    "        \n",
    "        elif (grid[x][y] == \"0\") or (visited[x][y] == 1):\n",
    "            return visited\n",
    "        \n",
    "        visited[x][y] = 1\n",
    "        \n",
    "        recursive_dfs(x, y - 1, visited)\n",
    "        recursive_dfs(x, y + 1, visited)\n",
    "        recursive_dfs(x - 1, y, visited)\n",
    "        recursive_dfs(x + 1, y, visited)\n",
    "        \n",
    "    answer = 0\n",
    "    visited = [[0 for _ in range(n)] for _ in range(m)]\n",
    "    \n",
    "    for i in range(m):\n",
    "        for j in range(n):\n",
    "            if (grid[i][j] != \"0\") and (visited[i][j] != 1):\n",
    "                recursive_dfs(i, j, visited)\n",
    "                answer += 1\n",
    "            else:\n",
    "                continue\n",
    "                \n",
    "    return answer"
   ]
  },
  {
   "cell_type": "markdown",
   "id": "62ff20ba",
   "metadata": {},
   "source": [
    "## 전화번호 문자 조합 https://leetcode.com/problems/letter-combinations-of-a-phone-number/"
   ]
  },
  {
   "cell_type": "code",
   "execution_count": 7,
   "id": "3fb3717d",
   "metadata": {},
   "outputs": [],
   "source": [
    "def letterCombinations(digits: str):\n",
    "    digit_dict = {\"2\" : [\"a\", \"b\", \"c\"], \"3\" : [\"d\", \"e\", \"f\"], \n",
    "                  \"4\" : [\"g\", \"h\", \"i\"], \"5\" : [\"j\", \"k\", \"l\"], \n",
    "                  \"6\" : [\"m\", \"n\", \"o\"], \"7\" : [\"p\", \"q\", \"r\", \"s\"], \n",
    "                  \"8\" : [\"t\", \"u\", \"v\"], \"9\" : [\"w\", \"x\", \"y\", \"z\"]}\n",
    "        \n",
    "    if len(digits) == 0:\n",
    "        return []\n",
    "        \n",
    "    answer = digit_dict[digits[0]]\n",
    "        \n",
    "    if len(digits) == 1:\n",
    "        return answer\n",
    "        \n",
    "    def making_letter(digits_list, num):\n",
    "        result = []\n",
    "        for i in range(len(digits_list)):\n",
    "            for j in range(len(digit_dict[digits[num]])):\n",
    "                result.append(digits_list[i] + digit_dict[digits[num]][j])\n",
    "        return result\n",
    "        \n",
    "    for i in range(len(digits)-1):\n",
    "        answer = making_letter(answer, i+1)\n",
    "        \n",
    "    return answer"
   ]
  },
  {
   "cell_type": "code",
   "execution_count": 8,
   "id": "eb7a5715",
   "metadata": {},
   "outputs": [],
   "source": [
    "def letterCombinations(digits: str):\n",
    "    def dfs(index, path):\n",
    "        if len(path) == len(digits):\n",
    "            result.append(path)\n",
    "            return\n",
    "        \n",
    "        for i in range(index, len(digits)):\n",
    "            for j in dic[digitis[i]]:\n",
    "                dfs(i + 1, path + j)\n",
    "                \n",
    "    if not digits:\n",
    "        return []\n",
    "    \n",
    "    dic = {\"2\" : \"abc\", \"3\" : \"def\", \"4\" : \"ghi\", \"5\" : \"jkl\", \"6\" : \"mno\", \"7\" : \"pqrs\", \"8\" : \"tuv\", \"9\" : \"wxyz\"}\n",
    "    result = []\n",
    "    dfs(0, \"\")\n",
    "    \n",
    "    return result"
   ]
  },
  {
   "cell_type": "code",
   "execution_count": null,
   "id": "755aa899",
   "metadata": {},
   "outputs": [],
   "source": [
    "def letterCombinations(self, digits: str) -> List[str]:\n",
    "    res = []\n",
    "    digitToChar = { \"2\": \"abc\",\n",
    "                   \"3\": \"def\",\n",
    "                   \"4\": \"ghi\",\n",
    "                   \"5\": \"jkl\",\n",
    "                   \"6\": \"mno\",\n",
    "                   \"7\": \"qprs\",\n",
    "                   \"8\": \"tuv\",\n",
    "                   \"9\": \"wxyz\" }\n",
    "        \n",
    "    def backtrack(i, curStr):\n",
    "        if len(curStr) == len(digits):\n",
    "            res.append(curStr)\n",
    "            return\n",
    "        for c in digitToChar[digits[i]]:\n",
    "            backtrack(i + 1, curStr + c)\n",
    "        \n",
    "    if digits:\n",
    "        backtrack(0, \"\")\n",
    "        \n",
    "    return res"
   ]
  },
  {
   "cell_type": "markdown",
   "id": "8ef83fe9",
   "metadata": {},
   "source": [
    "## 순열 https://leetcode.com/problems/permutations/"
   ]
  },
  {
   "cell_type": "code",
   "execution_count": 1,
   "id": "3d9256ea",
   "metadata": {},
   "outputs": [],
   "source": [
    "def permute(nums: list):\n",
    "    result = []\n",
    "    cont = []\n",
    "    \n",
    "    def dfs(x, cont):\n",
    "        if len(x) == 0:\n",
    "            result.append(cont[:])\n",
    "            # cont의 값을 복사해서 append해야함. 왜냐하면 cont를 append할 시 수정된\n",
    "            # cont가 append 될 수도 있음\n",
    "            return\n",
    "        \n",
    "        for i in range(len(x)):\n",
    "            temp = x[:]\n",
    "            cont += [temp.pop(i)]\n",
    "            dfs(temp, cont)\n",
    "            cont.pop()\n",
    "            #이전 단계의 cont로 돌아가기 위해서는 반드시 cont의 마지막 값을 pop해야함\n",
    "            \n",
    "    dfs(nums, cont)\n",
    "        \n",
    "    return result"
   ]
  },
  {
   "cell_type": "code",
   "execution_count": 25,
   "id": "5c419ed0",
   "metadata": {},
   "outputs": [],
   "source": [
    "import itertools\n",
    "def permute(nums: list):\n",
    "    return list(map(list, itertools.permutations(nums)))"
   ]
  },
  {
   "cell_type": "markdown",
   "id": "66205c45",
   "metadata": {},
   "source": [
    "## 조합 https://leetcode.com/problems/combinations/"
   ]
  },
  {
   "cell_type": "code",
   "execution_count": 4,
   "id": "3c8b5255",
   "metadata": {},
   "outputs": [],
   "source": [
    "def combine(n, k):\n",
    "    result = []\n",
    "    cont = []\n",
    "    \n",
    "    def dfs(t, cont):\n",
    "        \n",
    "        if len(cont) == k:\n",
    "            result.append(cont[:])\n",
    "            return\n",
    "        \n",
    "        for i in range(t, n+1):\n",
    "            cont.append(i)\n",
    "            p = i + 1\n",
    "            dfs(p, cont)\n",
    "            cont.pop()\n",
    "            \n",
    "    dfs(1, cont)\n",
    "    \n",
    "    return result"
   ]
  },
  {
   "cell_type": "code",
   "execution_count": 5,
   "id": "1989d87d",
   "metadata": {},
   "outputs": [],
   "source": [
    "import itertools\n",
    "def combine(n, k):\n",
    "    return list(itertools.combinations(range(1, n+1), k))"
   ]
  },
  {
   "cell_type": "markdown",
   "id": "e66125ef",
   "metadata": {},
   "source": [
    "## 조합의 합 https://leetcode.com/problems/combination-sum/"
   ]
  },
  {
   "cell_type": "code",
   "execution_count": 23,
   "id": "eee8168e",
   "metadata": {},
   "outputs": [],
   "source": [
    "def combination(candidates: list, target: int):\n",
    "    result = []\n",
    "    \n",
    "    def dfs(csum: int, index: int, path: list):\n",
    "        \n",
    "        if csum < 0:\n",
    "            return\n",
    "        \n",
    "        if csum == 0:\n",
    "            result.append(path)\n",
    "            return\n",
    "        \n",
    "        for i in range(index, len(candidates)):\n",
    "            # index부터 시작하는 이유는 중복되는 조합을 피하기 위해서\n",
    "            # binary tree에서 왼쪽에서 사용한 값은 오른쪽에서 사용하면 안되기 때문에\n",
    "            # range를 매번 다르게 설정해주는 것임\n",
    "            dfs(csum - candidates[i], i, path + [candidates[i]])\n",
    "            \n",
    "    dfs(target, 0, [])\n",
    "    \n",
    "    return result"
   ]
  },
  {
   "cell_type": "markdown",
   "id": "de112adb",
   "metadata": {},
   "source": [
    "## 부분집합 https://leetcode.com/problems/subsets/"
   ]
  },
  {
   "cell_type": "code",
   "execution_count": 24,
   "id": "f97baa97",
   "metadata": {},
   "outputs": [],
   "source": [
    "def subset(nums: list):\n",
    "    result = []\n",
    "    \n",
    "    def dfs(pivot, index, path):\n",
    "        \n",
    "        if index == len(pivot):\n",
    "            result.append(path)\n",
    "            return\n",
    "        \n",
    "        dfs(pivot, index + 1, path + [pivot[index]])\n",
    "        dfs(pivot, index + 1, path)\n",
    "        \n",
    "    dfs(nums, 0, [])\n",
    "    \n",
    "    return result"
   ]
  },
  {
   "cell_type": "code",
   "execution_count": 25,
   "id": "d38b24bc",
   "metadata": {},
   "outputs": [],
   "source": [
    "def subset(nums: list):\n",
    "    result = []\n",
    "    \n",
    "    def dfs(index, path):\n",
    "        \n",
    "        result.append(path)\n",
    "        \n",
    "        for i in range(index, len(nums)):\n",
    "            dfs(i + 1, path + [nums[i]])\n",
    "            \n",
    "    dfs(0, [])\n",
    "    return result"
   ]
  },
  {
   "cell_type": "markdown",
   "id": "c70b1c46",
   "metadata": {},
   "source": [
    "## 일정 재구성 https://leetcode.com/problems/reconstruct-itinerary/"
   ]
  },
  {
   "cell_type": "code",
   "execution_count": 48,
   "id": "c4590df9",
   "metadata": {},
   "outputs": [],
   "source": [
    "from collections import defaultdict\n",
    "def findItinerary(tickets: list):\n",
    "    mapping = defaultdict(list)\n",
    "    result = []\n",
    "    \n",
    "    for depart, arrive in sorted(tickets):\n",
    "        mapping[depart].append(arrive)\n",
    "        \n",
    "    def dfs(start):\n",
    "        \n",
    "        while mapping[start]:\n",
    "            dfs(mapping[start].pop(0))\n",
    "            \n",
    "        result.append(start)\n",
    "        \n",
    "    dfs('JFK')\n",
    "    \n",
    "    return result[::-1]"
   ]
  },
  {
   "cell_type": "code",
   "execution_count": null,
   "id": "e8ac98fb",
>>>>>>> 0b934fc92609d025e1d13244d557b7900f08f5c9
   "metadata": {},
   "outputs": [],
   "source": []
  }
 ],
 "metadata": {
  "kernelspec": {
   "display_name": "Python 3 (ipykernel)",
   "language": "python",
   "name": "python3"
  },
  "language_info": {
   "codemirror_mode": {
    "name": "ipython",
    "version": 3
   },
   "file_extension": ".py",
   "mimetype": "text/x-python",
   "name": "python",
   "nbconvert_exporter": "python",
   "pygments_lexer": "ipython3",
   "version": "3.9.7"
  }
 },
 "nbformat": 4,
 "nbformat_minor": 5
}
